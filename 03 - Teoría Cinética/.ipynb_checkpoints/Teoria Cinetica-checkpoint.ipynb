{
 "cells": [
  {
   "cell_type": "markdown",
   "metadata": {
    "slideshow": {
     "slide_type": "slide"
    }
   },
   "source": [
    "<figure>\n",
    "    <a href=\"http://www.upm.es\">\n",
    "    <img style=\"float: right;\" src=\"img/UPMLogo.png\" width=\"100\">\n",
    "    </a>\n",
    "</figure>\n",
    "\n",
    "# Teoría de colisiones y cinética de reacciones\n",
    "\n",
    "#### © **[Jorge Ramírez](http://blogs.upm.es/compsoftmatter/)**, **[Universidad Politécnica de Madrid](http://www.upm.es)**, 2019\n",
    "\n",
    "<img style=\"float: right;\" src=\"img/collisions.jpg\" width=\"400\">"
   ]
  },
  {
   "cell_type": "markdown",
   "metadata": {
    "slideshow": {
     "slide_type": "slide"
    }
   },
   "source": [
    "## Teoría Cinética de Gases\n",
    "\n",
    "<img style=\"float: right;\" src=\"img/Billard.jpg\" width=\"350\">\n",
    "\n",
    "- Un **gas** es un **conjunto grande de partículas** de **igual masa** en **constante y rápido movimiento**.\n",
    "- El movimiento es **aleatorio** debido a las **colisiones** de las partículas entre sí.\n",
    "- Las partículas **no interaccionan**, excepto en las colisiones.\n",
    "- Las **propiedades macroscópicas** del gas se pueden derivar a partir del movimiento de las moléculas.\n",
    "  - Por ejemplo: La temperatura $T$ está relacionada con la energía cinética promedio.\n",
    "- Pioneros: **James Clerk Maxwell** y **Ludwig Boltzmann**."
   ]
  },
  {
   "cell_type": "markdown",
   "metadata": {
    "slideshow": {
     "slide_type": "subslide"
    }
   },
   "source": [
    "<img style=\"float: right;\" src=\"img/GasSim.png\" width=\"250\">\n",
    "\n",
    "### Simulación de un gas en 2D\n",
    "\n",
    "- Disponemos un número $n$ de esferas en un cuadrado de lado $L$.\n",
    "- Con **velocidades** iniciales aleatorias $\\vec v_i$.\n",
    "- Desplazamos las partículas hasta que se produzca un **choque**. \n",
    "    - *Event driven simulation*"
   ]
  },
  {
   "cell_type": "markdown",
   "metadata": {
    "slideshow": {
     "slide_type": "subslide"
    }
   },
   "source": [
    "<img style=\"float: right;\" src=\"img/Billard2.png\" width=\"300\">\n",
    "\n",
    "- Cuando una partícula choca **contra la pared**, rebota (*se refleja*)\n",
    "- Cuando **dos partículas chocan**, se resuelve la colisión\n",
    "    - La fuerza actua en la línea que une los centros\n",
    "    - Conservación de la cantidad de movimiento\n",
    "    - Conservación de la energía"
   ]
  },
  {
   "cell_type": "markdown",
   "metadata": {
    "slideshow": {
     "slide_type": "subslide"
    }
   },
   "source": [
    "### Instrucciones para lanzar una simulación\n",
    "\n",
    "- **Abrimos una consola** (ejecutamos *WinPython Command Prompt.exe*, dentro del directorio *c:\\WPy64-3720_Zero\\*)\n",
    "- Entramos en el **directorio** SIMULACION (\"`cd SIMULACION`\")\n",
    "- **Ejecutamos la simulación** (\"`python Gas_Maxwell.py`\")\n",
    "\n",
    "<img style=\"float: center;\" src=\"img/GasSimulation.png\" width=\"600\">\n"
   ]
  },
  {
   "cell_type": "markdown",
   "metadata": {
    "slideshow": {
     "slide_type": "subslide"
    }
   },
   "source": [
    "### Explorar la simulación\n",
    "\n",
    "- Ejecutando \"`python Gas_Maxwell.py --help`\" podemos ver las opciones.\n",
    "- Se pueden cambiar:\n",
    "   - la temperatura $T$\n",
    "   - el radio de las partículas $r$ (entre 1 y 20)\n",
    "   - el nº de partículas $n$\n",
    "   - el tamaño de la caja de simulación $L$ y \n",
    "   - el nº de pasos de tiempo $steps$.\n",
    "\n",
    "\n",
    "- **OBJETIVOS DE LA SIMULACIÓN**:\n",
    "   - **Comprender cualitativamente** la **teoría cinética de gases**\n",
    "   - **Estudiar** cómo varían los resultados de la simulación (distribución de velocidades, presión y distribución de desplazamientos libres) en función de los parámatros de la simulación ($T$ y $r$, principalmente)"
   ]
  },
  {
   "cell_type": "markdown",
   "metadata": {
    "slideshow": {
     "slide_type": "slide"
    }
   },
   "source": [
    "## Teoría de colisiones\n",
    "\n",
    "- Propuesta por Max Trautz y William Lewis (1918), para explicar las leyes de velocidad de reacción observadas experimentalmente.\n",
    "\n",
    "<img style=\"float: right;\" src=\"img/colisiones.jpg\" width=\"350\">\n",
    "\n",
    "- **HIPÓTESIS**:\n",
    "   - Para que las moléculas reaccionen, deben **chocar**.\n",
    "   - Solo una **fracción** de las colisiones (las que tienen una energía superior a un cierto umbral llamado **Energía de activación** $E_a$) dan lugar a una reacción.\n",
    "\n",
    "- Podemos **modificar nuestra simulación** de gases fácilmente para realizar esta teoría en la práctica.\n"
   ]
  },
  {
   "cell_type": "markdown",
   "metadata": {
    "slideshow": {
     "slide_type": "slide"
    }
   },
   "source": [
    "## Simulación de reacciones de 1er orden\n",
    "\n",
    "Queremos llevar a cabo la siguiente reacción elemental:\n",
    "\n",
    "$$ A \\to B $$\n",
    "\n",
    "con constante de velocidad \n",
    "\n",
    "$$k \\propto \\exp\\left(\\frac{-E_a}{RT}\\right)$$\n",
    "\n",
    "<img style=\"float: right;\" src=\"img/firstorder.png\" width=\"350\">\n",
    "\n",
    "- Hacemos una simulación de gases (igual que el ejemplo anterior).\n",
    "- Cada vez que se produce una colisión comprobamos la energía cinética de cada una de las moléculas que han chocado ($K_i$) después del choque. \n",
    "- Si $K_i > E_a$, la molécula reacciona y cambia de color."
   ]
  },
  {
   "cell_type": "markdown",
   "metadata": {
    "slideshow": {
     "slide_type": "subslide"
    }
   },
   "source": [
    "### Instrucciones para lanzar una simulación\n",
    "\n",
    "- **Abrimos una consola** (ejecutamos *WinPython Command Prompt.exe*, dentro del directorio *c:\\WPy64-3720_Zero\\*)\n",
    "- Entramos en el **directorio** SIMULACION (\"`cd SIMULACION`\")\n",
    "- **Ejecutamos la simulación** (\"`python Gas_1st_Order.py`\")\n",
    "- La simulación muestra por pantalla los resultados y genera un **fichero** para su posterior análisis. El nombre del fichero contiene los parámetros más importantes de la simulación.\n",
    "\n",
    "<img style=\"float: center;\" src=\"img/FirstOrderSimulation.png\" width=\"600\">\n"
   ]
  },
  {
   "cell_type": "markdown",
   "metadata": {
    "slideshow": {
     "slide_type": "subslide"
    }
   },
   "source": [
    "### Explorar la simulación\n",
    "\n",
    "- Ejecutando \"`python Gas_1st_Order.py --help`\" podemos ver las opciones.\n",
    "- Las opciones son iguales que en el caso de simulacion de gases, más una opción adicional:\n",
    "   - la energía de activación $E_a$\n",
    "\n",
    "- **OBJETIVOS DE LA SIMULACIÓN**:\n",
    "   - **Comprender cualitativamente** que la simulación produce una reacción con **cinética de primer orden**\n",
    "   - **Estudiar** cómo varían la velocidad de reacción $k$ variando la energía de activación $E_a$ y la temperatura $T$. "
   ]
  },
  {
   "cell_type": "markdown",
   "metadata": {
    "slideshow": {
     "slide_type": "slide"
    }
   },
   "source": [
    "## Simulación de reacciones de 2º orden\n",
    "\n",
    "Queremos llevar a cabo la siguiente reacción elemental:\n",
    "\n",
    "$$ 2A \\to 2B $$\n",
    "\n",
    "con constante de velocidad \n",
    "\n",
    "$$k \\propto \\exp\\left(\\frac{-E_a}{RT}\\right)$$\n",
    "\n",
    "<img style=\"float: right;\" src=\"img/secondorder.png\" width=\"350\">\n",
    "\n",
    "- Hacemos una simulación de gases (igual que el ejemplo anterior).\n",
    "- Cada vez que se produce una colisión comprobamos la suma de las energías cinéticas de las moléculas chocan ($K_i$ + $K_j$). \n",
    "- Si $K_i + K_j > E_a$, las moléculas reaccionan y ambas cambian de color."
   ]
  },
  {
   "cell_type": "markdown",
   "metadata": {
    "slideshow": {
     "slide_type": "subslide"
    }
   },
   "source": [
    "### Instrucciones para lanzar una simulación\n",
    "\n",
    "- **Abrimos una consola** (ejecutamos *WinPython Command Prompt.exe*, dentro del directorio *c:\\WPy64-3720_Zero\\*)\n",
    "- Entramos en el **directorio** SIMULACION (\"`cd SIMULACION`\")\n",
    "- **Ejecutamos la simulación** (\"`python Gas_2 d_Order.py`\")\n",
    "- La simulación muestra por pantalla los resultados y genera un **fichero** para su posterior análisis. El nombre del fichero contiene los parámetros más importantes de la simulación.\n",
    "\n",
    "<img style=\"float: center;\" src=\"img/SecondOrderSimulation.png\" width=\"600\">\n"
   ]
  },
  {
   "cell_type": "markdown",
   "metadata": {
    "slideshow": {
     "slide_type": "subslide"
    }
   },
   "source": [
    "### Explorar la simulación\n",
    "\n",
    "- Ejecutando \"`python Gas_2nd_Order.py --help`\" podemos ver las opciones.\n",
    "- Las opciones son iguales que en el caso de simulacion de gases, más una opción adicional:\n",
    "   - la energía de activación $E_a$\n",
    "\n",
    "- **OBJETIVOS DE LA SIMULACIÓN**:\n",
    "   - **Comprender cualitativamente** que la simulación produce una reacción con **cinética de orden dos**\n",
    "   - **Estudiar** cómo varían la velocidad de reacción $k$ variando la energía de activación $E_a$ y la temperatura $T$. "
   ]
  },
  {
   "cell_type": "code",
   "execution_count": null,
   "metadata": {
    "slideshow": {
     "slide_type": "skip"
    }
   },
   "outputs": [],
   "source": []
  }
 ],
 "metadata": {
  "kernelspec": {
   "display_name": "Python 3",
   "language": "python",
   "name": "python3"
  },
  "language_info": {
   "codemirror_mode": {
    "name": "ipython",
    "version": 3
   },
   "file_extension": ".py",
   "mimetype": "text/x-python",
   "name": "python",
   "nbconvert_exporter": "python",
   "pygments_lexer": "ipython3",
   "version": "3.7.2"
  },
  "toc-autonumbering": true
 },
 "nbformat": 4,
 "nbformat_minor": 2
}
