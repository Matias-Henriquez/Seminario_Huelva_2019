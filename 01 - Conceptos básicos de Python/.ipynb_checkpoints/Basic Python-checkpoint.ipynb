{
 "cells": [
  {
   "cell_type": "markdown",
   "metadata": {
    "slideshow": {
     "slide_type": "slide"
    }
   },
   "source": [
    "<figure>\n",
    "    <a href=\"http://www.upm.es\">\n",
    "    <img style=\"float: right;\" src=\"img/UPMLogo.png\" width=\"100\">\n",
    "    </a>\n",
    "</figure>\n",
    "\n",
    "# Conceptos básicos de Python\n",
    "\n",
    "#### © **[Jorge Ramírez](http://blogs.upm.es/compsoftmatter/)**, **[Universidad Politécnica de Madrid](http://www.upm.es)**, 2019\n",
    "\n",
    "Este documento es una introducción a conceptos básicos de Python y Jupyter Labs para estudiantes que nunca han utilizado estas herramientas."
   ]
  },
  {
   "cell_type": "markdown",
   "metadata": {
    "slideshow": {
     "slide_type": "slide"
    }
   },
   "source": [
    "## ¿Cómo utilizar Python?\n",
    "Python se puede utilizar de muchas formas diferentes. Aquí destacamos 3 muy típicas."
   ]
  },
  {
   "cell_type": "markdown",
   "metadata": {
    "slideshow": {
     "slide_type": "subslide"
    }
   },
   "source": [
    "### De forma interactiva\n",
    "Abrimos una ventana del interprete de python y empezamos a introducir comandos uno a uno.\n",
    "\n",
    "<img src=\"img/InteractivePython.png\" width=\"600\">\n"
   ]
  },
  {
   "cell_type": "markdown",
   "metadata": {
    "slideshow": {
     "slide_type": "subslide"
    }
   },
   "source": [
    "### Ejecutando programas escritos en Python\n",
    "Se pueden guardar secuencias de instrucciones en ficheros de texto y ejecutarlas como si fuera un programa.\n",
    "\n",
    "<img style=\"float: left;\" src=\"img/PythonProgram.png\" width=\"500\">\n",
    "\n",
    "<img style=\"float: right;\" src=\"img/hangman.png\" width=\"400\">\n",
    "\n",
    "\n"
   ]
  },
  {
   "cell_type": "markdown",
   "metadata": {
    "slideshow": {
     "slide_type": "subslide"
    }
   },
   "source": [
    "### Utilizando Jupyter Labs\n",
    "**[Jupyter Labs](https://Jupyter.org)**  es una aplicación web que permite crear y compartir documentos que combinan texto, ecuaciones, gráficos y código que se puede ejecutar. Este tutorial se va a desarrollar por completo mediante esta herramienta.\n",
    "\n",
    "<img src=\"img/Jupyter-screenshot.png\" width=\"600\">\n"
   ]
  },
  {
   "cell_type": "markdown",
   "metadata": {
    "slideshow": {
     "slide_type": "slide"
    }
   },
   "source": [
    "<figure>\n",
    "    <a href=\"https://www.gnu.org/software/octave/s\">\n",
    "    <img style=\"float: right;\" src=\"img/octave-logo.svg\" width=\"100\">\n",
    "    </a>\n",
    "</figure>\n",
    "\n",
    "<figure>\n",
    "    <a href=\"https://es.mathworks.com/?s_tid=gn_logo\">\n",
    "    <img style=\"float: right;\" src=\"img/Matlab_Logo.png\" width=\"100\">\n",
    "    </a>\n",
    "</figure>\n",
    "\n",
    "## Python es una calculadora básica\n",
    "De forma similar a **[Matlab](https://es.mathworks.com/?s_tid=gn_logo)** u **[Octave](https://www.gnu.org/software/octave/)**, Python puede ser utilizado como una calculadora elemental. La notación de los operadores y el orden de operación se muestran en la siguiente tabla: \n",
    "\n",
    "<img style=\"float: right;\" src=\"img/calculator.png\" width=\"300\">\n",
    "\n",
    "| Operación | Operador | Ejemplo |\n",
    "| --- | :---: | :---: |\n",
    "| Exponente | ** | 2**3=8 |\n",
    "| Multiplicación | * | 4 * 2.5=10 | \n",
    "| División | / | 9.9/3=3.3 |\n",
    "| División Entera | // | 9//2=4 |\n",
    "| Resto (módulo) | % | 9%2=1 |\n",
    "| Suma | + | 3+5.1=8.1 |\n",
    "| Resta | - | 65.3-2=63.3 |"
   ]
  },
  {
   "cell_type": "code",
   "execution_count": 1,
   "metadata": {
    "slideshow": {
     "slide_type": "fragment"
    }
   },
   "outputs": [
    {
     "data": {
      "text/plain": [
       "486"
      ]
     },
     "execution_count": 1,
     "metadata": {},
     "output_type": "execute_result"
    }
   ],
   "source": [
    "x=3\n",
    "y=5\n",
    "x**y*2"
   ]
  },
  {
   "cell_type": "markdown",
   "metadata": {
    "slideshow": {
     "slide_type": "subslide"
    }
   },
   "source": [
    "<img style=\"float: right;\" src=\"img/mathfunctions.png\" width=\"300\">\n",
    "\n",
    "Si necesitamos **funciones matemáticas**, es necesario importar la librería *numpy* (que se comenta en detalle [más adelante](#numpy)). Las funciones más típicas (sin, cos, exp, etc) están disponibles ([lista completa de todas las funciones incluidas en numpy](https://docs.scipy.org/doc/numpy/reference/routines.math.html)). \n",
    "\n",
    "Existen varias formas de importar una librería en python:\n",
    "\n",
    "- Con el comando **import**. Para acceder al as variables y funciones de la librería, tendrémos que anteponer el nombre de la librería como prefijo, seguido de un punto."
   ]
  },
  {
   "cell_type": "code",
   "execution_count": 2,
   "metadata": {
    "slideshow": {
     "slide_type": "fragment"
    }
   },
   "outputs": [
    {
     "data": {
      "text/plain": [
       "29.96410004739701"
      ]
     },
     "execution_count": 2,
     "metadata": {},
     "output_type": "execute_result"
    }
   ],
   "source": [
    "import numpy\n",
    "numpy.exp(3.4)"
   ]
  },
  {
   "cell_type": "markdown",
   "metadata": {
    "slideshow": {
     "slide_type": "subslide"
    }
   },
   "source": [
    "- Mediante el comando **from** * **import** *. "
   ]
  },
  {
   "cell_type": "code",
   "execution_count": 3,
   "metadata": {
    "slideshow": {
     "slide_type": "fragment"
    }
   },
   "outputs": [
    {
     "name": "stdout",
     "output_type": "stream",
     "text": [
      "-5.216053166299225\n",
      "0.5733448260327263\n"
     ]
    }
   ],
   "source": [
    "from numpy import exp, sin, tan\n",
    "print(tan(435.3))\n",
    "from numpy import *\n",
    "print(cos(434.5))"
   ]
  },
  {
   "cell_type": "markdown",
   "metadata": {
    "slideshow": {
     "slide_type": "fragment"
    }
   },
   "source": [
    "- Importando la librería con un **alias** (para evitar conflicto con otras funciones de otras librerías)."
   ]
  },
  {
   "cell_type": "code",
   "execution_count": 4,
   "metadata": {
    "slideshow": {
     "slide_type": "fragment"
    }
   },
   "outputs": [
    {
     "name": "stdout",
     "output_type": "stream",
     "text": [
      "-0.8715757724135882\n",
      "-0.8715757724135882\n"
     ]
    }
   ],
   "source": [
    "import numpy as np\n",
    "import math as mt\n",
    "print(np.sin(4.2))\n",
    "print(mt.sin(4.2))"
   ]
  },
  {
   "cell_type": "markdown",
   "metadata": {
    "slideshow": {
     "slide_type": "slide"
    }
   },
   "source": [
    "<img style=\"float: right;\" src=\"img/Languages.jpg\" width=\"300\">\n",
    "\n",
    "## Python como lenguaje de programación\n",
    "\n",
    "Funciones, bucles, instrucciones condicionales"
   ]
  },
  {
   "cell_type": "markdown",
   "metadata": {
    "slideshow": {
     "slide_type": "slide"
    }
   },
   "source": [
    "<img style=\"float: right;\" src=\"img/Loop.jpg\" width=\"300\">\n",
    "\n",
    "### Bucles e instrucciones condicionales\n",
    "\n",
    "Podemos hacer bucles (*loops*) para hacer cálculos y *print* para mostrar el resultado final:"
   ]
  },
  {
   "cell_type": "code",
   "execution_count": 5,
   "metadata": {
    "slideshow": {
     "slide_type": "fragment"
    }
   },
   "outputs": [
    {
     "name": "stdout",
     "output_type": "stream",
     "text": [
      "1 2 3 4 5 6 7 8 9 \n",
      "LA SUMA ES:      45\n",
      "2 4 6 8 \n",
      "RESULT IS:      20\n"
     ]
    }
   ],
   "source": [
    "result=0\n",
    "for i in range(1,10):\n",
    "    print(i, end=' ')\n",
    "    result+=i\n",
    "print(\"\\nLA SUMA ES: {:7d}\".format(result))\n",
    "\n",
    "result=0\n",
    "for i in range(1,10):\n",
    "    if (i%2==0):\n",
    "        print(i, end=' ')\n",
    "        result+=i\n",
    "print(\"\\nRESULT IS: {:7d}\".format(result))\n"
   ]
  },
  {
   "cell_type": "markdown",
   "metadata": {
    "slideshow": {
     "slide_type": "subslide"
    }
   },
   "source": [
    "<img style=\"float: right;\" src=\"img/cogs.jpg\" width=\"300\">\n",
    "\n",
    "### Subrutinas y funciones\n",
    "\n",
    "Como en cualquier otro lenguaje de programación, podemos declarar funciones y utilizarlas más adelante en nuestro código:"
   ]
  },
  {
   "cell_type": "code",
   "execution_count": 6,
   "metadata": {
    "slideshow": {
     "slide_type": "fragment"
    }
   },
   "outputs": [
    {
     "data": {
      "text/plain": [
       "120"
      ]
     },
     "execution_count": 6,
     "metadata": {},
     "output_type": "execute_result"
    }
   ],
   "source": [
    "def fact(x):\n",
    "    if not isinstance(x, (int)) or (x<0):\n",
    "        return 0\n",
    "    if x==0:\n",
    "        return 1\n",
    "    else:\n",
    "        return x*fact(x-1)\n",
    "    \n",
    "fact(5)"
   ]
  },
  {
   "cell_type": "markdown",
   "metadata": {
    "slideshow": {
     "slide_type": "slide"
    },
    "toc-hr-collapsed": true
   },
   "source": [
    "<img style=\"float: right;\" src=\"img/ball-python.jpg\" width=\"300\">\n",
    "\n",
    "## Elementos característicos del lenguaje Python\n",
    "\n",
    "Listas y Diccionarios"
   ]
  },
  {
   "cell_type": "markdown",
   "metadata": {
    "slideshow": {
     "slide_type": "slide"
    },
    "toc-hr-collapsed": true
   },
   "source": [
    "<img style=\"float: right;\" src=\"img/list.png\" width=\"250\">\n",
    "\n",
    "### Listas\n",
    "Las listas son una forma versatil de almacenar la información. Son formalmente similares a los *arrays* de **Matlab** u otros lenguajes de programación, pero son mucho más flexibles. "
   ]
  },
  {
   "cell_type": "markdown",
   "metadata": {
    "slideshow": {
     "slide_type": "subslide"
    },
    "toc-hr-collapsed": true
   },
   "source": [
    "- Las listas se definen separando los elementos con comas y encerrándolos entre corchetes [...]\n",
    "- Para acceder a los elementos de una lista, también se utilizan los corchetes.\n",
    "- Los índices empiezan en 0"
   ]
  },
  {
   "cell_type": "code",
   "execution_count": 7,
   "metadata": {
    "slideshow": {
     "slide_type": "fragment"
    }
   },
   "outputs": [
    {
     "name": "stdout",
     "output_type": "stream",
     "text": [
      "[1, 2, 4, 8]\n",
      "1\n",
      "8\n",
      "4\n",
      "[1, 2, 4, 8, 16]\n"
     ]
    },
    {
     "data": {
      "text/plain": [
       "5"
      ]
     },
     "execution_count": 7,
     "metadata": {},
     "output_type": "execute_result"
    }
   ],
   "source": [
    "x = [1, 2, 4, 8]\n",
    "print(x)\n",
    "print(x[0])\n",
    "print(x[3])\n",
    "print(len(x))\n",
    "x.append(16)\n",
    "print(x)\n",
    "len(x)"
   ]
  },
  {
   "cell_type": "markdown",
   "metadata": {
    "slideshow": {
     "slide_type": "subslide"
    }
   },
   "source": [
    "#### Operaciones con listas:\n",
    "- Añadir elementos al final (*append*)\n",
    "- Eliminar un elemento de la lista (*pop*)\n",
    "- concatenación (+)"
   ]
  },
  {
   "cell_type": "code",
   "execution_count": 8,
   "metadata": {
    "slideshow": {
     "slide_type": "fragment"
    }
   },
   "outputs": [
    {
     "name": "stdout",
     "output_type": "stream",
     "text": [
      "[1, 2, 4, 8, 16]\n",
      "[1, 2, 4, 8, 16, 32]\n",
      "[2, 4, 8, 16, 32]\n",
      "[2, 4, 8, 16, 32, 2, 4, 8, 16, 32]\n"
     ]
    }
   ],
   "source": [
    "x=[1,2,4,8,16]\n",
    "print(x)\n",
    "x.append(32)\n",
    "print(x)\n",
    "x.pop(0)\n",
    "print(x)\n",
    "x=x+x\n",
    "print(x)"
   ]
  },
  {
   "cell_type": "markdown",
   "metadata": {
    "slideshow": {
     "slide_type": "subslide"
    }
   },
   "source": [
    "#### Operaciones avanzadas con listas:\n",
    "- Recorrer una lista (LOOP)\n",
    "- Crear listas complejas en una sola línea (**list comprehension**)"
   ]
  },
  {
   "cell_type": "code",
   "execution_count": 9,
   "metadata": {
    "slideshow": {
     "slide_type": "fragment"
    }
   },
   "outputs": [
    {
     "name": "stdout",
     "output_type": "stream",
     "text": [
      "0.8867188549125237 0.7750023761137497\n",
      "0.3449139487667061 0.33811569529242996\n",
      "0.15464563544040788 0.15402997333441446\n",
      "0.08945674304556028 0.08933747771327939\n",
      "0.7745666838637114 0.6994064395037811\n",
      "0.02502664751617001 0.025024035095088888\n",
      "0.5091696574468688 0.4874524017720016\n",
      "0.8892982445706571 0.776629862917501\n",
      "0.8759770992637733 0.7681694532988821\n",
      "0.7351943641959692 0.670731328308393\n"
     ]
    }
   ],
   "source": [
    "x=[np.random.random() for i in range(0,10)]\n",
    "for val in x:\n",
    "    print(val, np.sin(val))"
   ]
  },
  {
   "cell_type": "markdown",
   "metadata": {
    "slideshow": {
     "slide_type": "fragment"
    }
   },
   "source": [
    "- Numpy puede operar directamente con todos los elementos de una lista"
   ]
  },
  {
   "cell_type": "code",
   "execution_count": 10,
   "metadata": {
    "slideshow": {
     "slide_type": "fragment"
    }
   },
   "outputs": [
    {
     "name": "stdout",
     "output_type": "stream",
     "text": [
      "[0.8867188549125237, 0.3449139487667061, 0.15464563544040788, 0.08945674304556028, 0.7745666838637114, 0.02502664751617001, 0.5091696574468688, 0.8892982445706571, 0.8759770992637733, 0.7351943641959692]\n",
      "[0.77500238 0.3381157  0.15402997 0.08933748 0.69940644 0.02502404\n",
      " 0.4874524  0.77662986 0.76816945 0.67073133]\n"
     ]
    }
   ],
   "source": [
    "print(x)\n",
    "print(np.sin(x))"
   ]
  },
  {
   "cell_type": "markdown",
   "metadata": {
    "slideshow": {
     "slide_type": "slide"
    }
   },
   "source": [
    "<img style=\"float: right;\" src=\"img/Dictionaries.jpg\" width=\"300\">\n",
    "\n",
    "### Diccionarios\n",
    "\n",
    "Los diccionarios son útiles para almacenar información en términos de una *clave* (palabra o secuencia de letras). \n",
    "\n",
    "Los diccionarios se especifican como una secuencia separada por comas de etiquetas sus correspondientes valores, separados estos por dos puntos. La secuencia completa se delimita mediante llaves.\n",
    "\n",
    "Por ejemplo, podríamos almacenar las masas atómicas de molécular sencillas:"
   ]
  },
  {
   "cell_type": "code",
   "execution_count": 11,
   "metadata": {
    "slideshow": {
     "slide_type": "fragment"
    }
   },
   "outputs": [],
   "source": [
    "MW={'H2O': 18.02, 'CO2': 44.01, 'C2H6': 30.07}"
   ]
  },
  {
   "cell_type": "markdown",
   "metadata": {
    "slideshow": {
     "slide_type": "fragment"
    }
   },
   "source": [
    "Podemos acceder a cualquiera de los elementos del diccionario fácilmente utilizando su clave:"
   ]
  },
  {
   "cell_type": "code",
   "execution_count": 12,
   "metadata": {
    "slideshow": {
     "slide_type": "fragment"
    }
   },
   "outputs": [
    {
     "data": {
      "text/plain": [
       "30.07"
      ]
     },
     "execution_count": 12,
     "metadata": {},
     "output_type": "execute_result"
    }
   ],
   "source": [
    "MW['C2H6']"
   ]
  },
  {
   "cell_type": "markdown",
   "metadata": {
    "slideshow": {
     "slide_type": "subslide"
    }
   },
   "source": [
    "#### Operaciones avanzadas con diccionarios:\n",
    "- Se pueden recorrer mediante un LOOP\n",
    "- Se pueden ordenar por clave\n",
    "- Se pueden ordenar por valor"
   ]
  },
  {
   "cell_type": "code",
   "execution_count": 13,
   "metadata": {
    "slideshow": {
     "slide_type": "fragment"
    }
   },
   "outputs": [
    {
     "name": "stdout",
     "output_type": "stream",
     "text": [
      "The molar mass of H2O is  18.02\n",
      "The molar mass of CO2 is  44.01\n",
      "The molar mass of C2H6 is  30.07\n",
      "\n",
      "The molar mass of C2H6 is  30.07\n",
      "The molar mass of CO2 is  44.01\n",
      "The molar mass of H2O is  18.02\n",
      "\n",
      "The molar mass of H2O is  18.02\n",
      "The molar mass of C2H6 is  30.07\n",
      "The molar mass of CO2 is  44.01\n"
     ]
    }
   ],
   "source": [
    "for mol in MW.keys():\n",
    "    print(\"The molar mass of {:s} is {:6.2f}\".format(mol, MW[mol]))\n",
    "print(\"\")\n",
    "for mol in sorted(MW):\n",
    "    print(\"The molar mass of {:s} is {:6.2f}\".format(mol, MW[mol]))\n",
    "print(\"\")\n",
    "for mol in sorted(MW, key=MW.get):\n",
    "    print(\"The molar mass of {:s} is {:6.2f}\".format(mol, MW[mol]))"
   ]
  },
  {
   "cell_type": "markdown",
   "metadata": {
    "slideshow": {
     "slide_type": "slide"
    }
   },
   "source": [
    "<figure>\n",
    "    <a href=\"https://www.numpy.org/\">\n",
    "    <img style=\"float: right;\" src=\"img/numpy.jpeg\" width=\"200\">\n",
    "    </a>\n",
    "</figure>\n",
    "\n",
    "## Álgebra lineal con numpy\n",
    "<a id='numpy'></a>\n",
    "\n",
    "El *matlab* de python.\n",
    "\n",
    "<img style=\"float: center;\" src=\"img/linear-algebra.jpg\" width=\"400\">\n"
   ]
  },
  {
   "cell_type": "markdown",
   "metadata": {
    "slideshow": {
     "slide_type": "slide"
    }
   },
   "source": [
    "### Declaración y manipulación de vectores y matrices\n",
    "La librería [numpy](https://www.numpy.org/) nos permite manipular vectores y matrices y resolver problemas de álgebra lineal (entre otras cosas).\n",
    "Por ejemplo, podemos declarar un vector y acceder y mostrar sus elementos de la forma habitual: "
   ]
  },
  {
   "cell_type": "code",
   "execution_count": 14,
   "metadata": {
    "slideshow": {
     "slide_type": "fragment"
    }
   },
   "outputs": [
    {
     "name": "stdout",
     "output_type": "stream",
     "text": [
      "[0. 0. 0. 0. 0. 0. 0. 0. 0. 0.]\n",
      "[0.  0.  0.  0.  3.5 0.  0.  0.  0.  0. ]\n"
     ]
    }
   ],
   "source": [
    "import numpy as np\n",
    "a=np.zeros(10)\n",
    "print(a)\n",
    "a[4]=3.5\n",
    "print(a)"
   ]
  },
  {
   "cell_type": "markdown",
   "metadata": {
    "slideshow": {
     "slide_type": "subslide"
    }
   },
   "source": [
    "O podemos declarar una matriz:"
   ]
  },
  {
   "cell_type": "code",
   "execution_count": 15,
   "metadata": {
    "slideshow": {
     "slide_type": "fragment"
    }
   },
   "outputs": [
    {
     "name": "stdout",
     "output_type": "stream",
     "text": [
      "[[0. 0. 0. 0.]\n",
      " [0. 0. 0. 0.]\n",
      " [0. 0. 0. 0.]\n",
      " [0. 0. 0. 0.]]\n",
      "[[0.  0.  4.2 0. ]\n",
      " [0.  0.  0.  0. ]\n",
      " [0.  8.4 0.  0. ]\n",
      " [0.  0.  0.  0. ]]\n"
     ]
    }
   ],
   "source": [
    "A=np.zeros((4,4))\n",
    "print(A)\n",
    "A[0,2]=4.2\n",
    "A[2,1]=8.4\n",
    "print(A)"
   ]
  },
  {
   "cell_type": "markdown",
   "metadata": {
    "slideshow": {
     "slide_type": "slide"
    }
   },
   "source": [
    "### Resolución de sistemas lineales\n",
    "Es facil generar una matriz y un vector de números aleatorios con numpy:"
   ]
  },
  {
   "cell_type": "code",
   "execution_count": 16,
   "metadata": {
    "slideshow": {
     "slide_type": "fragment"
    }
   },
   "outputs": [
    {
     "name": "stdout",
     "output_type": "stream",
     "text": [
      "[[0.00101527 0.42678849 0.96187264]\n",
      " [0.55609204 0.20614081 0.62282555]\n",
      " [0.90608096 0.11404563 0.8724795 ]]\n",
      "[0.124859   0.50142066 0.59955549]\n"
     ]
    }
   ],
   "source": [
    "A=np.random.rand(3,3)\n",
    "b=np.random.rand(3)\n",
    "print(A)\n",
    "print(b)"
   ]
  },
  {
   "cell_type": "markdown",
   "metadata": {
    "slideshow": {
     "slide_type": "fragment"
    }
   },
   "source": [
    "Podemos resolver un sistema de ecuaciones como el siguiente fácilmente\n",
    "$$ Ax=b $$"
   ]
  },
  {
   "cell_type": "code",
   "execution_count": 17,
   "metadata": {
    "slideshow": {
     "slide_type": "fragment"
    }
   },
   "outputs": [
    {
     "name": "stdout",
     "output_type": "stream",
     "text": [
      "[ 0.91580712  1.25477261 -0.42790832]\n"
     ]
    }
   ],
   "source": [
    "x=np.linalg.solve(A,b)\n",
    "print(x)"
   ]
  },
  {
   "cell_type": "markdown",
   "metadata": {
    "slideshow": {
     "slide_type": "subslide"
    }
   },
   "source": [
    "Podemos comprobar que la solución es correcta:"
   ]
  },
  {
   "cell_type": "code",
   "execution_count": 18,
   "metadata": {
    "slideshow": {
     "slide_type": "fragment"
    }
   },
   "outputs": [
    {
     "name": "stdout",
     "output_type": "stream",
     "text": [
      "[0.124859   0.50142066 0.59955549]\n"
     ]
    },
    {
     "data": {
      "text/plain": [
       "array([0.124859  , 0.50142066, 0.59955549])"
      ]
     },
     "execution_count": 18,
     "metadata": {},
     "output_type": "execute_result"
    }
   ],
   "source": [
    "print(b)\n",
    "np.dot(A,x)"
   ]
  },
  {
   "cell_type": "markdown",
   "metadata": {
    "slideshow": {
     "slide_type": "slide"
    }
   },
   "source": [
    "<figure>\n",
    "    <a href=\"https://matplotlib.org/\">\n",
    "    <img style=\"float: right;\" src=\"img/matplotlib.png\" width=\"250\">\n",
    "    </a>\n",
    "</figure>\n",
    "\n",
    "## Representación de gráficos con matplotlib\n",
    "Con la librería [matplotlib](https://matplotlib.org/) podemos representar gráficamente nuestros resultados numéricos:"
   ]
  },
  {
   "cell_type": "code",
   "execution_count": 21,
   "metadata": {
    "slideshow": {
     "slide_type": "fragment"
    }
   },
   "outputs": [
    {
     "data": {
      "application/vnd.jupyter.widget-view+json": {
       "model_id": "",
       "version_major": 2,
       "version_minor": 0
      },
      "text/plain": [
       "FigureCanvasNbAgg()"
      ]
     },
     "metadata": {},
     "output_type": "display_data"
    },
    {
     "data": {
      "text/plain": [
       "[<matplotlib.lines.Line2D at 0x16eba962780>]"
      ]
     },
     "execution_count": 21,
     "metadata": {},
     "output_type": "execute_result"
    }
   ],
   "source": [
    "%matplotlib widget\n",
    "#%matplotlib inline\n",
    "import matplotlib.pyplot as plt\n",
    "x=np.linspace(0,8*np.pi,200)\n",
    "y=np.sin(x)*np.exp(-x/10.0)\n",
    "plt.plot(x,y)"
   ]
  },
  {
   "cell_type": "markdown",
   "metadata": {
    "slideshow": {
     "slide_type": "subslide"
    }
   },
   "source": [
    "Se pueden manipular todas las opciones del gráfico, al igual que con Matlab:"
   ]
  },
  {
   "cell_type": "code",
   "execution_count": 22,
   "metadata": {
    "slideshow": {
     "slide_type": "fragment"
    }
   },
   "outputs": [
    {
     "data": {
      "application/vnd.jupyter.widget-view+json": {
       "model_id": "",
       "version_major": 2,
       "version_minor": 0
      },
      "text/plain": [
       "FigureCanvasNbAgg()"
      ]
     },
     "metadata": {},
     "output_type": "display_data"
    }
   ],
   "source": [
    "plt.figure(2)\n",
    "plt.plot(x,y, color='lightblue', linewidth=3, label=\"LINE\")\n",
    "plt.scatter(x[0:200:10], y[0:200:10], color='darkgreen', marker='^', label=\"SYMBOLS\")\n",
    "plt.xlim(0., 15.0)\n",
    "plt.xlabel(\"t [s]\")\n",
    "plt.ylabel(\"E [kJ]\")\n",
    "plt.grid()\n",
    "plt.legend()\n",
    "plt.show()"
   ]
  },
  {
   "cell_type": "markdown",
   "metadata": {
    "slideshow": {
     "slide_type": "subslide"
    }
   },
   "source": [
    "Incluso se pueden generar gráficos con más de un subgráfico en su interior"
   ]
  },
  {
   "cell_type": "code",
   "execution_count": 23,
   "metadata": {
    "slideshow": {
     "slide_type": "fragment"
    }
   },
   "outputs": [
    {
     "data": {
      "application/vnd.jupyter.widget-view+json": {
       "model_id": "",
       "version_major": 2,
       "version_minor": 0
      },
      "text/plain": [
       "FigureCanvasNbAgg()"
      ]
     },
     "metadata": {},
     "output_type": "display_data"
    },
    {
     "data": {
      "text/plain": [
       "Text(0.5, 1.0, 'Sampled function')"
      ]
     },
     "execution_count": 23,
     "metadata": {},
     "output_type": "execute_result"
    }
   ],
   "source": [
    "plt.figure(3)\n",
    "plt.subplot(2,1,1)\n",
    "plt.plot(x,y, color='lightblue', linewidth=3, label=\"LINE\")\n",
    "plt.title('Original Function')\n",
    "\n",
    "plt.subplot(2,1,2)\n",
    "plt.scatter(x[0:200:5], y[0:200:5], color='darkgreen', marker='^', label=\"SYMBOLS\")\n",
    "plt.title('Sampled function')"
   ]
  },
  {
   "cell_type": "markdown",
   "metadata": {
    "slideshow": {
     "slide_type": "subslide"
    }
   },
   "source": [
    "Incluso se pueden hacer representaciones tridimensionales"
   ]
  },
  {
   "cell_type": "code",
   "execution_count": 24,
   "metadata": {
    "slideshow": {
     "slide_type": "fragment"
    }
   },
   "outputs": [
    {
     "data": {
      "application/vnd.jupyter.widget-view+json": {
       "model_id": "",
       "version_major": 2,
       "version_minor": 0
      },
      "text/plain": [
       "FigureCanvasNbAgg()"
      ]
     },
     "metadata": {},
     "output_type": "display_data"
    }
   ],
   "source": [
    "from mpl_toolkits.mplot3d import axes3d\n",
    "\n",
    "fig = plt.figure()\n",
    "ax = fig.add_subplot(111, projection='3d')\n",
    "\n",
    "# Grab some test data.\n",
    "X, Y, Z = axes3d.get_test_data(0.05)\n",
    "\n",
    "# Plot a basic wireframe.\n",
    "ax.plot_wireframe(X, Y, Z, rstride=5, cstride=5)\n",
    "\n",
    "plt.show() "
   ]
  },
  {
   "cell_type": "markdown",
   "metadata": {
    "slideshow": {
     "slide_type": "slide"
    },
    "toc-hr-collapsed": true
   },
   "source": [
    "<figure>\n",
    "    <a href=\"https://www.scipy.org/\">\n",
    "    <img style=\"float: right;\" src=\"img/scipy.png\" width=\"150\">\n",
    "    </a>\n",
    "</figure>\n",
    "\n",
    "\n",
    "## Resolviendo ecuaciones diferenciales con Scipy\n",
    "\n",
    "El *matlab* de python (junto con numpy)."
   ]
  },
  {
   "cell_type": "markdown",
   "metadata": {
    "slideshow": {
     "slide_type": "slide"
    }
   },
   "source": [
    "### Una ecuación diferencial ordinaria\n",
    "Nos proponemos resolver la ecuación diferencial ordinaria siguiente:\n",
    "$$ \\frac{dy}{dt}=- 0.1 y + sin(y)$$\n",
    "El método básico require definir:\n",
    "- **modelo**: La función que devuelve el valor de la derivada en términos de los valores actuales de y\n",
    "- **y0**: La condición inicial \n",
    "- **t**: Los instantes de tiempo en los que queremos determinar la solución."
   ]
  },
  {
   "cell_type": "code",
   "execution_count": 25,
   "metadata": {
    "slideshow": {
     "slide_type": "fragment"
    }
   },
   "outputs": [
    {
     "data": {
      "text/plain": [
       "Text(0, 0.5, 'y')"
      ]
     },
     "execution_count": 25,
     "metadata": {},
     "output_type": "execute_result"
    },
    {
     "data": {
      "image/png": "[encoded data removed]",
      "text/plain": [
       "<Figure size 432x288 with 1 Axes>"
      ]
     },
     "metadata": {
      "needs_background": "light"
     },
     "output_type": "display_data"
    }
   ],
   "source": [
    "%matplotlib inline\n",
    "from scipy.integrate import odeint\n",
    "def modelo(y, t):\n",
    "    return -0.1*y+np.cos(y)\n",
    "\n",
    "y0 = 5\n",
    "t = np.linspace(0,10,100)\n",
    "y = odeint(modelo, y0, t)\n",
    "plt.plot(t,y)\n",
    "plt.xlabel(\"t\")\n",
    "plt.ylabel(\"y\")"
   ]
  },
  {
   "cell_type": "markdown",
   "metadata": {
    "slideshow": {
     "slide_type": "subslide"
    }
   },
   "source": [
    "### Interactuando con el código\n",
    "\n",
    "Podemos resolver el mismo problema, pero en función de un ciertos parámetros $k$ y $c$.\n",
    "$$ \\frac{dy}{dt}=- k y + sin(c y)$$"
   ]
  },
  {
   "cell_type": "code",
   "execution_count": 26,
   "metadata": {
    "slideshow": {
     "slide_type": "fragment"
    }
   },
   "outputs": [
    {
     "data": {
      "application/vnd.jupyter.widget-view+json": {
       "model_id": "11b7f637460f4679b426d4635be0b520",
       "version_major": 2,
       "version_minor": 0
      },
      "text/plain": [
       "interactive(children=(FloatSlider(value=5.0, description='y0', max=6.0, min=3.0), FloatSlider(value=10.0, desc…"
      ]
     },
     "metadata": {},
     "output_type": "display_data"
    }
   ],
   "source": [
    "from ipywidgets import interactive, fixed, widgets\n",
    "def modelo(y, t, k, c):\n",
    "    return -k*y+np.cos(c*y)\n",
    "\n",
    "def integrate_modelo(y0, tmax, k, c):\n",
    "    plt.figure()\n",
    "    t=np.linspace(0,tmax,100)\n",
    "    y=odeint(modelo, y0, t, args=(k,c))\n",
    "    plt.plot(t,y)\n",
    "    plt.xlabel(\"t\")\n",
    "    plt.ylabel(\"y\")\n",
    "    plt.show()\n",
    "    \n",
    "interactive(integrate_modelo, \n",
    "              y0=widgets.FloatSlider(value=5.0,min=3.0,max=6.0),\n",
    "              tmax=widgets.FloatSlider(value=10.0,min=1.0,max=20.0),\n",
    "              k=widgets.FloatSlider(value=0.1,min=0.0,max=0.3,step=0.01),\n",
    "              c=widgets.FloatSlider(value=0.01,min=0.0,max=1.0,step=0.01))"
   ]
  },
  {
   "cell_type": "markdown",
   "metadata": {
    "slideshow": {
     "slide_type": "slide"
    }
   },
   "source": [
    "### Un sistema de ecuaciones diferenciales acopladas\n",
    "\n",
    "$$ \\frac{dx}{dt} = Ax + By $$\n",
    "$$ \\frac{dy}{dt} = Cx + Dy $$\n",
    "\n",
    "Con condiciones iniciales:\n",
    "$$ x(0)=x_0 $$\n",
    "$$ y(0)=y_0 $$"
   ]
  },
  {
   "cell_type": "code",
   "execution_count": 27,
   "metadata": {
    "slideshow": {
     "slide_type": "fragment"
    }
   },
   "outputs": [
    {
     "data": {
      "application/vnd.jupyter.widget-view+json": {
       "model_id": "18a95d7741ae413690205875f8bce595",
       "version_major": 2,
       "version_minor": 0
      },
      "text/plain": [
       "interactive(children=(FloatSlider(value=1.0, description='x0', max=5.0, min=-5.0), FloatSlider(value=1.0, desc…"
      ]
     },
     "metadata": {},
     "output_type": "display_data"
    }
   ],
   "source": [
    "def modelo(y, t, A, B, C, D):\n",
    "    return [A*y[0]+B*y[1], C*y[0]+D*y[1]]\n",
    "\n",
    "def integrate_modelo(x0, y0, tmax, A, B, C, D):\n",
    "    plt.figure()\n",
    "    t=np.linspace(0,tmax,100)\n",
    "    y=odeint(modelo, [x0, y0], t, args=(A, B, C, D))\n",
    "    plt.subplot(1,2,1)\n",
    "    plt.plot(t, y[:,0], label='x')\n",
    "    plt.plot(t, y[:,1], label='y')\n",
    "    plt.xlabel(\"t\")\n",
    "    plt.ylabel(\"x,y\")\n",
    "\n",
    "    plt.legend()\n",
    "\n",
    "    plt.subplot(1,2,2)\n",
    "    plt.plot(y[:,0],y[:,1])\n",
    "    plt.xlabel(\"x\")\n",
    "    plt.ylabel(\"y\")\n",
    "\n",
    "    #print(y)\n",
    "    plt.show()\n",
    "    \n",
    "w=interactive(integrate_modelo, \n",
    "              x0=widgets.FloatSlider(value=1.0,min=-5.0,max=5.0),\n",
    "              y0=widgets.FloatSlider(value=1.0,min=-5.0,max=5.0),\n",
    "              tmax=widgets.FloatSlider(value=10.0,min=1.0,max=20.0),\n",
    "              A=widgets.FloatSlider(value=0.1,min=-2.0,max=2.0,step=0.01),\n",
    "              B=widgets.FloatSlider(value=0.1,min=-2.0,max=2.0,step=0.01),\n",
    "              C=widgets.FloatSlider(value=0.1,min=-2.0,max=2.0,step=0.01),\n",
    "              D=widgets.FloatSlider(value=0.1,min=-2.0,max=2.0,step=0.01))\n",
    "w"
   ]
  },
  {
   "cell_type": "markdown",
   "metadata": {
    "slideshow": {
     "slide_type": "slide"
    }
   },
   "source": [
    "<figure>\n",
    "    <a href=\"https://www.wolfram.com/mathematica/\">\n",
    "    <img style=\"float: right;\" src=\"img/Mathematica.png\" width=\"150\">\n",
    "    </a>\n",
    "</figure>\n",
    "<figure>\n",
    "    <a href=\"https://www.maplesoft.com/\">\n",
    "    <img style=\"float: right;\" src=\"img/maple.png\" width=\"150\">\n",
    "    </a>\n",
    "</figure>\n",
    "<figure>\n",
    "    <a href=\"https://www.sympy.org/en/index.html\">\n",
    "    <img style=\"float: right;\" src=\"img/Sympy_logo.svg.png\" width=\"150\">\n",
    "    </a>\n",
    "</figure>\n",
    "\n",
    "## Matemáticas simbólicas con Sympy\n",
    "\n",
    "[Sympy](https://www.sympy.org/en/index.html) es una librería de Python para hacer cálculos con matemática simbólica (de forma parecida a **[Maple](https://www.maplesoft.com/)** o **[Mathematica](https://www.wolfram.com/mathematica/)**). En esta librería, antes de poder operar con símbolos algebraicos, tenemos que definirlos. Los símbolos se pueden definir uno a uno o como listas. Para simplificar el uso, es importante asignar los simbolos a una variable que se llame igual que el símbolo en cuestión:"
   ]
  },
  {
   "cell_type": "code",
   "execution_count": 28,
   "metadata": {
    "slideshow": {
     "slide_type": "fragment"
    }
   },
   "outputs": [
    {
     "data": {
      "text/latex": [
       "$\\displaystyle \\frac{z^{y} \\sin{\\left(x + 1 \\right)}}{w}$"
      ],
      "text/plain": [
       "z**y*sin(x + 1)/w"
      ]
     },
     "execution_count": 28,
     "metadata": {},
     "output_type": "execute_result"
    }
   ],
   "source": [
    "from sympy import *\n",
    "x=symbols('x')\n",
    "w, y, z = symbols('w y z')\n",
    "sin(x+1)*z**y/w"
   ]
  },
  {
   "cell_type": "markdown",
   "metadata": {
    "slideshow": {
     "slide_type": "subslide"
    }
   },
   "source": [
    "Algunas de las operaciones que podemos hacer con Sympy son:\n",
    "- Simplificaciones\n",
    "- Expansiones\n",
    "- Sustituciones"
   ]
  },
  {
   "cell_type": "code",
   "execution_count": 29,
   "metadata": {
    "slideshow": {
     "slide_type": "fragment"
    }
   },
   "outputs": [
    {
     "name": "stdout",
     "output_type": "stream",
     "text": [
      "Ejemplo de expand\n",
      "(x + 1)**2\n",
      "x**2 + 2*x + 1\n",
      "Ejemplo de simplify\n",
      "(x**2 + 2*x + 1)/(x + 1)\n",
      "x + 1\n",
      "Ejemplo de substitute\n",
      "x + y**2\n"
     ]
    },
    {
     "data": {
      "text/latex": [
       "$\\displaystyle x^{2} + x$"
      ],
      "text/plain": [
       "x**2 + x"
      ]
     },
     "execution_count": 29,
     "metadata": {},
     "output_type": "execute_result"
    }
   ],
   "source": [
    "print('Ejemplo de expand')\n",
    "a=(x+1)**2\n",
    "print(a)\n",
    "a=expand(a)\n",
    "print(a)\n",
    "print('Ejemplo de simplify')\n",
    "a=(x**2+2*x+1)/(x+1)\n",
    "print(a)\n",
    "a=simplify(a)\n",
    "print(a)\n",
    "print('Ejemplo de substitute')\n",
    "a=x+y**2\n",
    "print(a)\n",
    "a.subs(y,x)"
   ]
  },
  {
   "cell_type": "markdown",
   "metadata": {
    "slideshow": {
     "slide_type": "subslide"
    }
   },
   "source": [
    "También podemos hacer operaciones de cálculo más complejas, como:\n",
    "- Límites\n",
    "- Derivadas\n",
    "- Integrales\n",
    "- Expansión en series de Taylor"
   ]
  },
  {
   "cell_type": "code",
   "execution_count": 30,
   "metadata": {
    "slideshow": {
     "slide_type": "fragment"
    }
   },
   "outputs": [
    {
     "name": "stdout",
     "output_type": "stream",
     "text": [
      "1\n",
      "1\n",
      "-sin(x)*sin(2*x) + 2*cos(x)*cos(2*x)\n",
      "-x**2*cos(x) + 2*x*sin(x) + 2*cos(x)\n",
      "1 - x**2/2 + x**4/24 - x**6/720 + x**8/40320 + O(x**10)\n"
     ]
    }
   ],
   "source": [
    "print(limit(sin(x)/x, x, 0))\n",
    "print(limit(1-exp(-x),x,oo))\n",
    "print(diff(sin(x*2)*cos(x), x))\n",
    "print(integrate(x**2*sin(x),x))\n",
    "print(series(cos(x),x,0,10))"
   ]
  },
  {
   "cell_type": "markdown",
   "metadata": {
    "slideshow": {
     "slide_type": "slide"
    }
   },
   "source": [
    "<figure>\n",
    "    <a href=\"https://pandas.pydata.org/\">\n",
    "    <img style=\"float: right;\" src=\"img/pandas.png\" width=\"200\">\n",
    "    </a>\n",
    "</figure>\n",
    "\n",
    "## Leyendo ficheros de datos con pandas\n",
    "\n",
    "La librería [pandas](https://pandas.pydata.org/) utiliza unos objetos denominados *dataframes* que se pueden leer desde un fichero CSV o Excel."
   ]
  },
  {
   "cell_type": "markdown",
   "metadata": {
    "slideshow": {
     "slide_type": "subslide"
    }
   },
   "source": [
    "Leyendo un fichero CSV:"
   ]
  },
  {
   "cell_type": "code",
   "execution_count": 31,
   "metadata": {
    "slideshow": {
     "slide_type": "fragment"
    }
   },
   "outputs": [
    {
     "data": {
      "text/html": [
       "<div>\n",
       "<style scoped>\n",
       "    .dataframe tbody tr th:only-of-type {\n",
       "        vertical-align: middle;\n",
       "    }\n",
       "\n",
       "    .dataframe tbody tr th {\n",
       "        vertical-align: top;\n",
       "    }\n",
       "\n",
       "    .dataframe thead th {\n",
       "        text-align: right;\n",
       "    }\n",
       "</style>\n",
       "<table border=\"1\" class=\"dataframe\">\n",
       "  <thead>\n",
       "    <tr style=\"text-align: right;\">\n",
       "      <th></th>\n",
       "      <th>X</th>\n",
       "      <th>Y</th>\n",
       "    </tr>\n",
       "  </thead>\n",
       "  <tbody>\n",
       "    <tr>\n",
       "      <th>189</th>\n",
       "      <td>1.89</td>\n",
       "      <td>0.090643</td>\n",
       "    </tr>\n",
       "    <tr>\n",
       "      <th>190</th>\n",
       "      <td>1.90</td>\n",
       "      <td>0.089741</td>\n",
       "    </tr>\n",
       "    <tr>\n",
       "      <th>191</th>\n",
       "      <td>1.91</td>\n",
       "      <td>0.088848</td>\n",
       "    </tr>\n",
       "    <tr>\n",
       "      <th>192</th>\n",
       "      <td>1.92</td>\n",
       "      <td>0.087964</td>\n",
       "    </tr>\n",
       "    <tr>\n",
       "      <th>193</th>\n",
       "      <td>1.93</td>\n",
       "      <td>0.087089</td>\n",
       "    </tr>\n",
       "  </tbody>\n",
       "</table>\n",
       "</div>"
      ],
      "text/plain": [
       "        X         Y\n",
       "189  1.89  0.090643\n",
       "190  1.90  0.089741\n",
       "191  1.91  0.088848\n",
       "192  1.92  0.087964\n",
       "193  1.93  0.087089"
      ]
     },
     "execution_count": 31,
     "metadata": {},
     "output_type": "execute_result"
    }
   ],
   "source": [
    "import pandas as pd\n",
    "df=pd.read_csv(\"Excel_Data_CSV.csv\")\n",
    "df.tail()"
   ]
  },
  {
   "cell_type": "code",
   "execution_count": 32,
   "metadata": {
    "slideshow": {
     "slide_type": "fragment"
    }
   },
   "outputs": [
    {
     "data": {
      "text/plain": [
       "[<matplotlib.lines.Line2D at 0x16ebdd93dd8>]"
      ]
     },
     "execution_count": 32,
     "metadata": {},
     "output_type": "execute_result"
    },
    {
     "data": {
      "image/png": "[encoded data removed]",
      "text/plain": [
       "<Figure size 432x288 with 1 Axes>"
      ]
     },
     "metadata": {
      "needs_background": "light"
     },
     "output_type": "display_data"
    }
   ],
   "source": [
    "plt.loglog(df.X, df.Y)"
   ]
  },
  {
   "cell_type": "markdown",
   "metadata": {
    "slideshow": {
     "slide_type": "subslide"
    }
   },
   "source": [
    "Leyendo un fichero Excel:"
   ]
  },
  {
   "cell_type": "code",
   "execution_count": 33,
   "metadata": {
    "slideshow": {
     "slide_type": "fragment"
    }
   },
   "outputs": [
    {
     "data": {
      "text/html": [
       "<div>\n",
       "<style scoped>\n",
       "    .dataframe tbody tr th:only-of-type {\n",
       "        vertical-align: middle;\n",
       "    }\n",
       "\n",
       "    .dataframe tbody tr th {\n",
       "        vertical-align: top;\n",
       "    }\n",
       "\n",
       "    .dataframe thead th {\n",
       "        text-align: right;\n",
       "    }\n",
       "</style>\n",
       "<table border=\"1\" class=\"dataframe\">\n",
       "  <thead>\n",
       "    <tr style=\"text-align: right;\">\n",
       "      <th></th>\n",
       "      <th>X</th>\n",
       "      <th>Y</th>\n",
       "    </tr>\n",
       "  </thead>\n",
       "  <tbody>\n",
       "    <tr>\n",
       "      <th>189</th>\n",
       "      <td>1.89</td>\n",
       "      <td>0.090643</td>\n",
       "    </tr>\n",
       "    <tr>\n",
       "      <th>190</th>\n",
       "      <td>1.90</td>\n",
       "      <td>0.089741</td>\n",
       "    </tr>\n",
       "    <tr>\n",
       "      <th>191</th>\n",
       "      <td>1.91</td>\n",
       "      <td>0.088848</td>\n",
       "    </tr>\n",
       "    <tr>\n",
       "      <th>192</th>\n",
       "      <td>1.92</td>\n",
       "      <td>0.087964</td>\n",
       "    </tr>\n",
       "    <tr>\n",
       "      <th>193</th>\n",
       "      <td>1.93</td>\n",
       "      <td>0.087089</td>\n",
       "    </tr>\n",
       "  </tbody>\n",
       "</table>\n",
       "</div>"
      ],
      "text/plain": [
       "        X         Y\n",
       "189  1.89  0.090643\n",
       "190  1.90  0.089741\n",
       "191  1.91  0.088848\n",
       "192  1.92  0.087964\n",
       "193  1.93  0.087089"
      ]
     },
     "execution_count": 33,
     "metadata": {},
     "output_type": "execute_result"
    }
   ],
   "source": [
    "df2=pd.read_excel(\"Excel_Data.xlsx\")\n",
    "df.tail()"
   ]
  },
  {
   "cell_type": "code",
   "execution_count": 34,
   "metadata": {
    "slideshow": {
     "slide_type": "fragment"
    }
   },
   "outputs": [
    {
     "data": {
      "text/plain": [
       "<matplotlib.collections.PathCollection at 0x16ebfd2c6a0>"
      ]
     },
     "execution_count": 34,
     "metadata": {},
     "output_type": "execute_result"
    },
    {
     "data": {
      "image/png": "[encoded data removed]",
      "text/plain": [
       "<Figure size 432x288 with 1 Axes>"
      ]
     },
     "metadata": {
      "needs_background": "light"
     },
     "output_type": "display_data"
    }
   ],
   "source": [
    "plt.scatter(df[\"X\"],df[\"Y\"])"
   ]
  },
  {
   "cell_type": "markdown",
   "metadata": {
    "slideshow": {
     "slide_type": "slide"
    }
   },
   "source": [
    "## Para Finalizar... Las Ecuaciones Diferenciales de Lorentz"
   ]
  },
  {
   "cell_type": "markdown",
   "metadata": {
    "slideshow": {
     "slide_type": "subslide"
    }
   },
   "source": [
    "Para finalizar esta introducción, vamos a explorar el sistema de ecuaciones diferenciales de Lorentz:\n",
    "\n",
    "$$\n",
    "\\begin{aligned}\n",
    "\\dot{x} & = \\sigma(y-x) \\\\\n",
    "\\dot{y} & = \\rho x - y - xz \\\\\n",
    "\\dot{z} & = -\\beta z + xy\n",
    "\\end{aligned}\n",
    "$$\n",
    "\n",
    "Podemos explorar la forma de la solución modificando los valores de los parámetros $\\sigma$, $\\beta$ y $\\rho$ de forma interactiva (el fichero *lorenz.py* contiene la subrutina que resuelve la ecuación diferencial):"
   ]
  },
  {
   "cell_type": "code",
   "execution_count": 37,
   "metadata": {
    "slideshow": {
     "slide_type": "fragment"
    }
   },
   "outputs": [
    {
     "ename": "TypeError",
     "evalue": "'module' object is not callable",
     "output_type": "error",
     "traceback": [
      "\u001b[1;31m---------------------------------------------------------------------------\u001b[0m",
      "\u001b[1;31mTypeError\u001b[0m                                 Traceback (most recent call last)",
      "\u001b[1;32m<ipython-input-37-8a4e342612d8>\u001b[0m in \u001b[0;36m<module>\u001b[1;34m\u001b[0m\n\u001b[0;32m      2\u001b[0m \u001b[1;31m#%matplotlib inline\u001b[0m\u001b[1;33m\u001b[0m\u001b[1;33m\u001b[0m\u001b[1;33m\u001b[0m\u001b[0m\n\u001b[0;32m      3\u001b[0m \u001b[1;32mfrom\u001b[0m \u001b[0mlorenz\u001b[0m \u001b[1;32mimport\u001b[0m \u001b[0msolve_lorenz\u001b[0m\u001b[1;33m\u001b[0m\u001b[1;33m\u001b[0m\u001b[0m\n\u001b[1;32m----> 4\u001b[1;33m \u001b[0mw\u001b[0m\u001b[1;33m=\u001b[0m\u001b[0minteractive\u001b[0m\u001b[1;33m(\u001b[0m\u001b[0msolve_lorenz\u001b[0m\u001b[1;33m,\u001b[0m\u001b[0msigma\u001b[0m\u001b[1;33m=\u001b[0m\u001b[1;33m(\u001b[0m\u001b[1;36m0.0\u001b[0m\u001b[1;33m,\u001b[0m\u001b[1;36m50.0\u001b[0m\u001b[1;33m)\u001b[0m\u001b[1;33m,\u001b[0m\u001b[0mrho\u001b[0m\u001b[1;33m=\u001b[0m\u001b[1;33m(\u001b[0m\u001b[1;36m0.0\u001b[0m\u001b[1;33m,\u001b[0m\u001b[1;36m50.0\u001b[0m\u001b[1;33m)\u001b[0m\u001b[1;33m)\u001b[0m\u001b[1;33m\u001b[0m\u001b[1;33m\u001b[0m\u001b[0m\n\u001b[0m\u001b[0;32m      5\u001b[0m \u001b[0mw\u001b[0m\u001b[1;33m\u001b[0m\u001b[1;33m\u001b[0m\u001b[0m\n",
      "\u001b[1;31mTypeError\u001b[0m: 'module' object is not callable"
     ]
    }
   ],
   "source": [
    "%matplotlib widget\n",
    "#%matplotlib inline\n",
    "from lorenz import solve_lorenz\n",
    "w=interactive(solve_lorenz,sigma=(0.0,50.0),rho=(0.0,50.0))\n",
    "w"
   ]
  },
  {
   "cell_type": "code",
   "execution_count": 37,
   "metadata": {},
   "outputs": [
    {
     "data": {
      "image/png": "[encoded data removed]",
      "text/plain": [
       "<Figure size 432x288 with 1 Axes>"
      ]
     },
     "metadata": {
      "needs_background": "light"
     },
     "output_type": "display_data"
    },
    {
     "data": {
      "text/plain": [
       "(array([0.        , 0.004004  , 0.00800801, 0.01201201, 0.01601602,\n",
       "        0.02002002, 0.02402402, 0.02802803, 0.03203203, 0.03603604,\n",
       "        0.04004004, 0.04404404, 0.04804805, 0.05205205, 0.05605606,\n",
       "        0.06006006, 0.06406406, 0.06806807, 0.07207207, 0.07607608,\n",
       "        0.08008008, 0.08408408, 0.08808809, 0.09209209, 0.0960961 ,\n",
       "        0.1001001 , 0.1041041 , 0.10810811, 0.11211211, 0.11611612,\n",
       "        0.12012012, 0.12412412, 0.12812813, 0.13213213, 0.13613614,\n",
       "        0.14014014, 0.14414414, 0.14814815, 0.15215215, 0.15615616,\n",
       "        0.16016016, 0.16416416, 0.16816817, 0.17217217, 0.17617618,\n",
       "        0.18018018, 0.18418418, 0.18818819, 0.19219219, 0.1961962 ,\n",
       "        0.2002002 , 0.2042042 , 0.20820821, 0.21221221, 0.21621622,\n",
       "        0.22022022, 0.22422422, 0.22822823, 0.23223223, 0.23623624,\n",
       "        0.24024024, 0.24424424, 0.24824825, 0.25225225, 0.25625626,\n",
       "        0.26026026, 0.26426426, 0.26826827, 0.27227227, 0.27627628,\n",
       "        0.28028028, 0.28428428, 0.28828829, 0.29229229, 0.2962963 ,\n",
       "        0.3003003 , 0.3043043 , 0.30830831, 0.31231231, 0.31631632,\n",
       "        0.32032032, 0.32432432, 0.32832833, 0.33233233, 0.33633634,\n",
       "        0.34034034, 0.34434434, 0.34834835, 0.35235235, 0.35635636,\n",
       "        0.36036036, 0.36436436, 0.36836837, 0.37237237, 0.37637638,\n",
       "        0.38038038, 0.38438438, 0.38838839, 0.39239239, 0.3963964 ,\n",
       "        0.4004004 , 0.4044044 , 0.40840841, 0.41241241, 0.41641642,\n",
       "        0.42042042, 0.42442442, 0.42842843, 0.43243243, 0.43643644,\n",
       "        0.44044044, 0.44444444, 0.44844845, 0.45245245, 0.45645646,\n",
       "        0.46046046, 0.46446446, 0.46846847, 0.47247247, 0.47647648,\n",
       "        0.48048048, 0.48448448, 0.48848849, 0.49249249, 0.4964965 ,\n",
       "        0.5005005 , 0.5045045 , 0.50850851, 0.51251251, 0.51651652,\n",
       "        0.52052052, 0.52452452, 0.52852853, 0.53253253, 0.53653654,\n",
       "        0.54054054, 0.54454454, 0.54854855, 0.55255255, 0.55655656,\n",
       "        0.56056056, 0.56456456, 0.56856857, 0.57257257, 0.57657658,\n",
       "        0.58058058, 0.58458458, 0.58858859, 0.59259259, 0.5965966 ,\n",
       "        0.6006006 , 0.6046046 , 0.60860861, 0.61261261, 0.61661662,\n",
       "        0.62062062, 0.62462462, 0.62862863, 0.63263263, 0.63663664,\n",
       "        0.64064064, 0.64464464, 0.64864865, 0.65265265, 0.65665666,\n",
       "        0.66066066, 0.66466466, 0.66866867, 0.67267267, 0.67667668,\n",
       "        0.68068068, 0.68468468, 0.68868869, 0.69269269, 0.6966967 ,\n",
       "        0.7007007 , 0.7047047 , 0.70870871, 0.71271271, 0.71671672,\n",
       "        0.72072072, 0.72472472, 0.72872873, 0.73273273, 0.73673674,\n",
       "        0.74074074, 0.74474474, 0.74874875, 0.75275275, 0.75675676,\n",
       "        0.76076076, 0.76476476, 0.76876877, 0.77277277, 0.77677678,\n",
       "        0.78078078, 0.78478478, 0.78878879, 0.79279279, 0.7967968 ,\n",
       "        0.8008008 , 0.8048048 , 0.80880881, 0.81281281, 0.81681682,\n",
       "        0.82082082, 0.82482482, 0.82882883, 0.83283283, 0.83683684,\n",
       "        0.84084084, 0.84484484, 0.84884885, 0.85285285, 0.85685686,\n",
       "        0.86086086, 0.86486486, 0.86886887, 0.87287287, 0.87687688,\n",
       "        0.88088088, 0.88488488, 0.88888889, 0.89289289, 0.8968969 ,\n",
       "        0.9009009 , 0.9049049 , 0.90890891, 0.91291291, 0.91691692,\n",
       "        0.92092092, 0.92492492, 0.92892893, 0.93293293, 0.93693694,\n",
       "        0.94094094, 0.94494494, 0.94894895, 0.95295295, 0.95695696,\n",
       "        0.96096096, 0.96496496, 0.96896897, 0.97297297, 0.97697698,\n",
       "        0.98098098, 0.98498498, 0.98898899, 0.99299299, 0.996997  ,\n",
       "        1.001001  , 1.00500501, 1.00900901, 1.01301301, 1.01701702,\n",
       "        1.02102102, 1.02502503, 1.02902903, 1.03303303, 1.03703704,\n",
       "        1.04104104, 1.04504505, 1.04904905, 1.05305305, 1.05705706,\n",
       "        1.06106106, 1.06506507, 1.06906907, 1.07307307, 1.07707708,\n",
       "        1.08108108, 1.08508509, 1.08908909, 1.09309309, 1.0970971 ,\n",
       "        1.1011011 , 1.10510511, 1.10910911, 1.11311311, 1.11711712,\n",
       "        1.12112112, 1.12512513, 1.12912913, 1.13313313, 1.13713714,\n",
       "        1.14114114, 1.14514515, 1.14914915, 1.15315315, 1.15715716,\n",
       "        1.16116116, 1.16516517, 1.16916917, 1.17317317, 1.17717718,\n",
       "        1.18118118, 1.18518519, 1.18918919, 1.19319319, 1.1971972 ,\n",
       "        1.2012012 , 1.20520521, 1.20920921, 1.21321321, 1.21721722,\n",
       "        1.22122122, 1.22522523, 1.22922923, 1.23323323, 1.23723724,\n",
       "        1.24124124, 1.24524525, 1.24924925, 1.25325325, 1.25725726,\n",
       "        1.26126126, 1.26526527, 1.26926927, 1.27327327, 1.27727728,\n",
       "        1.28128128, 1.28528529, 1.28928929, 1.29329329, 1.2972973 ,\n",
       "        1.3013013 , 1.30530531, 1.30930931, 1.31331331, 1.31731732,\n",
       "        1.32132132, 1.32532533, 1.32932933, 1.33333333, 1.33733734,\n",
       "        1.34134134, 1.34534535, 1.34934935, 1.35335335, 1.35735736,\n",
       "        1.36136136, 1.36536537, 1.36936937, 1.37337337, 1.37737738,\n",
       "        1.38138138, 1.38538539, 1.38938939, 1.39339339, 1.3973974 ,\n",
       "        1.4014014 , 1.40540541, 1.40940941, 1.41341341, 1.41741742,\n",
       "        1.42142142, 1.42542543, 1.42942943, 1.43343343, 1.43743744,\n",
       "        1.44144144, 1.44544545, 1.44944945, 1.45345345, 1.45745746,\n",
       "        1.46146146, 1.46546547, 1.46946947, 1.47347347, 1.47747748,\n",
       "        1.48148148, 1.48548549, 1.48948949, 1.49349349, 1.4974975 ,\n",
       "        1.5015015 , 1.50550551, 1.50950951, 1.51351351, 1.51751752,\n",
       "        1.52152152, 1.52552553, 1.52952953, 1.53353353, 1.53753754,\n",
       "        1.54154154, 1.54554555, 1.54954955, 1.55355355, 1.55755756,\n",
       "        1.56156156, 1.56556557, 1.56956957, 1.57357357, 1.57757758,\n",
       "        1.58158158, 1.58558559, 1.58958959, 1.59359359, 1.5975976 ,\n",
       "        1.6016016 , 1.60560561, 1.60960961, 1.61361361, 1.61761762,\n",
       "        1.62162162, 1.62562563, 1.62962963, 1.63363363, 1.63763764,\n",
       "        1.64164164, 1.64564565, 1.64964965, 1.65365365, 1.65765766,\n",
       "        1.66166166, 1.66566567, 1.66966967, 1.67367367, 1.67767768,\n",
       "        1.68168168, 1.68568569, 1.68968969, 1.69369369, 1.6976977 ,\n",
       "        1.7017017 , 1.70570571, 1.70970971, 1.71371371, 1.71771772,\n",
       "        1.72172172, 1.72572573, 1.72972973, 1.73373373, 1.73773774,\n",
       "        1.74174174, 1.74574575, 1.74974975, 1.75375375, 1.75775776,\n",
       "        1.76176176, 1.76576577, 1.76976977, 1.77377377, 1.77777778,\n",
       "        1.78178178, 1.78578579, 1.78978979, 1.79379379, 1.7977978 ,\n",
       "        1.8018018 , 1.80580581, 1.80980981, 1.81381381, 1.81781782,\n",
       "        1.82182182, 1.82582583, 1.82982983, 1.83383383, 1.83783784,\n",
       "        1.84184184, 1.84584585, 1.84984985, 1.85385385, 1.85785786,\n",
       "        1.86186186, 1.86586587, 1.86986987, 1.87387387, 1.87787788,\n",
       "        1.88188188, 1.88588589, 1.88988989, 1.89389389, 1.8978979 ,\n",
       "        1.9019019 , 1.90590591, 1.90990991, 1.91391391, 1.91791792,\n",
       "        1.92192192, 1.92592593, 1.92992993, 1.93393393, 1.93793794,\n",
       "        1.94194194, 1.94594595, 1.94994995, 1.95395395, 1.95795796,\n",
       "        1.96196196, 1.96596597, 1.96996997, 1.97397397, 1.97797798,\n",
       "        1.98198198, 1.98598599, 1.98998999, 1.99399399, 1.997998  ,\n",
       "        2.002002  , 2.00600601, 2.01001001, 2.01401401, 2.01801802,\n",
       "        2.02202202, 2.02602603, 2.03003003, 2.03403403, 2.03803804,\n",
       "        2.04204204, 2.04604605, 2.05005005, 2.05405405, 2.05805806,\n",
       "        2.06206206, 2.06606607, 2.07007007, 2.07407407, 2.07807808,\n",
       "        2.08208208, 2.08608609, 2.09009009, 2.09409409, 2.0980981 ,\n",
       "        2.1021021 , 2.10610611, 2.11011011, 2.11411411, 2.11811812,\n",
       "        2.12212212, 2.12612613, 2.13013013, 2.13413413, 2.13813814,\n",
       "        2.14214214, 2.14614615, 2.15015015, 2.15415415, 2.15815816,\n",
       "        2.16216216, 2.16616617, 2.17017017, 2.17417417, 2.17817818,\n",
       "        2.18218218, 2.18618619, 2.19019019, 2.19419419, 2.1981982 ,\n",
       "        2.2022022 , 2.20620621, 2.21021021, 2.21421421, 2.21821822,\n",
       "        2.22222222, 2.22622623, 2.23023023, 2.23423423, 2.23823824,\n",
       "        2.24224224, 2.24624625, 2.25025025, 2.25425425, 2.25825826,\n",
       "        2.26226226, 2.26626627, 2.27027027, 2.27427427, 2.27827828,\n",
       "        2.28228228, 2.28628629, 2.29029029, 2.29429429, 2.2982983 ,\n",
       "        2.3023023 , 2.30630631, 2.31031031, 2.31431431, 2.31831832,\n",
       "        2.32232232, 2.32632633, 2.33033033, 2.33433433, 2.33833834,\n",
       "        2.34234234, 2.34634635, 2.35035035, 2.35435435, 2.35835836,\n",
       "        2.36236236, 2.36636637, 2.37037037, 2.37437437, 2.37837838,\n",
       "        2.38238238, 2.38638639, 2.39039039, 2.39439439, 2.3983984 ,\n",
       "        2.4024024 , 2.40640641, 2.41041041, 2.41441441, 2.41841842,\n",
       "        2.42242242, 2.42642643, 2.43043043, 2.43443443, 2.43843844,\n",
       "        2.44244244, 2.44644645, 2.45045045, 2.45445445, 2.45845846,\n",
       "        2.46246246, 2.46646647, 2.47047047, 2.47447447, 2.47847848,\n",
       "        2.48248248, 2.48648649, 2.49049049, 2.49449449, 2.4984985 ,\n",
       "        2.5025025 , 2.50650651, 2.51051051, 2.51451451, 2.51851852,\n",
       "        2.52252252, 2.52652653, 2.53053053, 2.53453453, 2.53853854,\n",
       "        2.54254254, 2.54654655, 2.55055055, 2.55455455, 2.55855856,\n",
       "        2.56256256, 2.56656657, 2.57057057, 2.57457457, 2.57857858,\n",
       "        2.58258258, 2.58658659, 2.59059059, 2.59459459, 2.5985986 ,\n",
       "        2.6026026 , 2.60660661, 2.61061061, 2.61461461, 2.61861862,\n",
       "        2.62262262, 2.62662663, 2.63063063, 2.63463463, 2.63863864,\n",
       "        2.64264264, 2.64664665, 2.65065065, 2.65465465, 2.65865866,\n",
       "        2.66266266, 2.66666667, 2.67067067, 2.67467467, 2.67867868,\n",
       "        2.68268268, 2.68668669, 2.69069069, 2.69469469, 2.6986987 ,\n",
       "        2.7027027 , 2.70670671, 2.71071071, 2.71471471, 2.71871872,\n",
       "        2.72272272, 2.72672673, 2.73073073, 2.73473473, 2.73873874,\n",
       "        2.74274274, 2.74674675, 2.75075075, 2.75475475, 2.75875876,\n",
       "        2.76276276, 2.76676677, 2.77077077, 2.77477477, 2.77877878,\n",
       "        2.78278278, 2.78678679, 2.79079079, 2.79479479, 2.7987988 ,\n",
       "        2.8028028 , 2.80680681, 2.81081081, 2.81481481, 2.81881882,\n",
       "        2.82282282, 2.82682683, 2.83083083, 2.83483483, 2.83883884,\n",
       "        2.84284284, 2.84684685, 2.85085085, 2.85485485, 2.85885886,\n",
       "        2.86286286, 2.86686687, 2.87087087, 2.87487487, 2.87887888,\n",
       "        2.88288288, 2.88688689, 2.89089089, 2.89489489, 2.8988989 ,\n",
       "        2.9029029 , 2.90690691, 2.91091091, 2.91491491, 2.91891892,\n",
       "        2.92292292, 2.92692693, 2.93093093, 2.93493493, 2.93893894,\n",
       "        2.94294294, 2.94694695, 2.95095095, 2.95495495, 2.95895896,\n",
       "        2.96296296, 2.96696697, 2.97097097, 2.97497497, 2.97897898,\n",
       "        2.98298298, 2.98698699, 2.99099099, 2.99499499, 2.998999  ,\n",
       "        3.003003  , 3.00700701, 3.01101101, 3.01501502, 3.01901902,\n",
       "        3.02302302, 3.02702703, 3.03103103, 3.03503504, 3.03903904,\n",
       "        3.04304304, 3.04704705, 3.05105105, 3.05505506, 3.05905906,\n",
       "        3.06306306, 3.06706707, 3.07107107, 3.07507508, 3.07907908,\n",
       "        3.08308308, 3.08708709, 3.09109109, 3.0950951 , 3.0990991 ,\n",
       "        3.1031031 , 3.10710711, 3.11111111, 3.11511512, 3.11911912,\n",
       "        3.12312312, 3.12712713, 3.13113113, 3.13513514, 3.13913914,\n",
       "        3.14314314, 3.14714715, 3.15115115, 3.15515516, 3.15915916,\n",
       "        3.16316316, 3.16716717, 3.17117117, 3.17517518, 3.17917918,\n",
       "        3.18318318, 3.18718719, 3.19119119, 3.1951952 , 3.1991992 ,\n",
       "        3.2032032 , 3.20720721, 3.21121121, 3.21521522, 3.21921922,\n",
       "        3.22322322, 3.22722723, 3.23123123, 3.23523524, 3.23923924,\n",
       "        3.24324324, 3.24724725, 3.25125125, 3.25525526, 3.25925926,\n",
       "        3.26326326, 3.26726727, 3.27127127, 3.27527528, 3.27927928,\n",
       "        3.28328328, 3.28728729, 3.29129129, 3.2952953 , 3.2992993 ,\n",
       "        3.3033033 , 3.30730731, 3.31131131, 3.31531532, 3.31931932,\n",
       "        3.32332332, 3.32732733, 3.33133133, 3.33533534, 3.33933934,\n",
       "        3.34334334, 3.34734735, 3.35135135, 3.35535536, 3.35935936,\n",
       "        3.36336336, 3.36736737, 3.37137137, 3.37537538, 3.37937938,\n",
       "        3.38338338, 3.38738739, 3.39139139, 3.3953954 , 3.3993994 ,\n",
       "        3.4034034 , 3.40740741, 3.41141141, 3.41541542, 3.41941942,\n",
       "        3.42342342, 3.42742743, 3.43143143, 3.43543544, 3.43943944,\n",
       "        3.44344344, 3.44744745, 3.45145145, 3.45545546, 3.45945946,\n",
       "        3.46346346, 3.46746747, 3.47147147, 3.47547548, 3.47947948,\n",
       "        3.48348348, 3.48748749, 3.49149149, 3.4954955 , 3.4994995 ,\n",
       "        3.5035035 , 3.50750751, 3.51151151, 3.51551552, 3.51951952,\n",
       "        3.52352352, 3.52752753, 3.53153153, 3.53553554, 3.53953954,\n",
       "        3.54354354, 3.54754755, 3.55155155, 3.55555556, 3.55955956,\n",
       "        3.56356356, 3.56756757, 3.57157157, 3.57557558, 3.57957958,\n",
       "        3.58358358, 3.58758759, 3.59159159, 3.5955956 , 3.5995996 ,\n",
       "        3.6036036 , 3.60760761, 3.61161161, 3.61561562, 3.61961962,\n",
       "        3.62362362, 3.62762763, 3.63163163, 3.63563564, 3.63963964,\n",
       "        3.64364364, 3.64764765, 3.65165165, 3.65565566, 3.65965966,\n",
       "        3.66366366, 3.66766767, 3.67167167, 3.67567568, 3.67967968,\n",
       "        3.68368368, 3.68768769, 3.69169169, 3.6956957 , 3.6996997 ,\n",
       "        3.7037037 , 3.70770771, 3.71171171, 3.71571572, 3.71971972,\n",
       "        3.72372372, 3.72772773, 3.73173173, 3.73573574, 3.73973974,\n",
       "        3.74374374, 3.74774775, 3.75175175, 3.75575576, 3.75975976,\n",
       "        3.76376376, 3.76776777, 3.77177177, 3.77577578, 3.77977978,\n",
       "        3.78378378, 3.78778779, 3.79179179, 3.7957958 , 3.7997998 ,\n",
       "        3.8038038 , 3.80780781, 3.81181181, 3.81581582, 3.81981982,\n",
       "        3.82382382, 3.82782783, 3.83183183, 3.83583584, 3.83983984,\n",
       "        3.84384384, 3.84784785, 3.85185185, 3.85585586, 3.85985986,\n",
       "        3.86386386, 3.86786787, 3.87187187, 3.87587588, 3.87987988,\n",
       "        3.88388388, 3.88788789, 3.89189189, 3.8958959 , 3.8998999 ,\n",
       "        3.9039039 , 3.90790791, 3.91191191, 3.91591592, 3.91991992,\n",
       "        3.92392392, 3.92792793, 3.93193193, 3.93593594, 3.93993994,\n",
       "        3.94394394, 3.94794795, 3.95195195, 3.95595596, 3.95995996,\n",
       "        3.96396396, 3.96796797, 3.97197197, 3.97597598, 3.97997998,\n",
       "        3.98398398, 3.98798799, 3.99199199, 3.995996  , 4.        ]),\n",
       " array([[[ -2.48933986,   6.6097348 , -14.99656876],\n",
       "         [ -2.15468497,   6.35154765, -15.00271876],\n",
       "         [ -1.84152367,   6.12672528, -14.99853467],\n",
       "         ...,\n",
       "         [ -0.89147023,  -0.22214862,  11.63431098],\n",
       "         [ -0.86636454,  -0.21559327,  11.59322975],\n",
       "         [ -0.84195739,  -0.2093638 ,  11.55225281]],\n",
       " \n",
       "        [[ -5.93002282, -10.59732328, -12.22984216],\n",
       "         [ -6.11338251, -11.08615454, -11.92493613],\n",
       "         [ -6.30827351, -11.58191442, -11.60071019],\n",
       "         ...,\n",
       "         [  0.34700854,   0.13339066,  10.19614976],\n",
       "         [  0.33902076,   0.13261373,  10.15965532],\n",
       "         [  0.33130321,   0.13189428,  10.12328698]],\n",
       " \n",
       "        [[ -9.41219366,  -4.63317819,  -3.09697577],\n",
       "         [ -9.24263038,  -5.09917291,  -2.90443126],\n",
       "         [ -9.09645922,  -5.5478156 ,  -2.69889047],\n",
       "         ...,\n",
       "         [  0.21499383,   0.23875492,   7.01641142],\n",
       "         [  0.21591113,   0.24038034,   6.99137885],\n",
       "         [  0.21685535,   0.24203202,   6.96643863]],\n",
       " \n",
       "        ...,\n",
       " \n",
       "        [[  3.71016621,   7.52827302,  -4.53304974],\n",
       "         [  3.85619659,   7.71689683,  -4.40148565],\n",
       "         [  4.00392279,   7.91113655,  -4.26291306],\n",
       "         ...,\n",
       "         [  0.34662671,   0.38770083,   6.98315188],\n",
       "         [  0.3482095 ,   0.39035688,   6.95857284],\n",
       "         [  0.34983315,   0.39305593,   6.93408844]],\n",
       " \n",
       "        [[ -6.90216325,  11.87658655,  -2.1572643 ],\n",
       "         [ -6.20830039,  11.5069125 ,  -2.45568195],\n",
       "         [ -5.55360627,  11.1653416 ,  -2.71316876],\n",
       "         ...,\n",
       "         [  0.30916741,   0.32562607,   7.53911822],\n",
       "         [  0.30981464,   0.32738481,   7.512403  ],\n",
       "         [  0.31050396,   0.32917619,   7.48578694]],\n",
       " \n",
       "        [[ 13.94520141,   4.90324493,   3.65087161],\n",
       "         [ 13.61385816,   5.2259514 ,   3.91670356],\n",
       "         [ 13.3064772 ,   5.52488364,   4.1918347 ],\n",
       "         ...,\n",
       "         [ -4.06231877,  -4.81137615,   7.40414274],\n",
       "         [ -4.09070351,  -4.83401315,   7.45608705],\n",
       "         [ -4.11886142,  -4.85599204,   7.50875548]]]))"
      ]
     },
     "execution_count": 37,
     "metadata": {},
     "output_type": "execute_result"
    }
   ],
   "source": [
    "solve_lorenz(9.5,0.9,10.0)"
   ]
  },
  {
   "cell_type": "code",
   "execution_count": null,
   "metadata": {},
   "outputs": [],
   "source": []
  },
  {
   "cell_type": "code",
   "execution_count": null,
   "metadata": {},
   "outputs": [],
   "source": []
  }
 ],
 "metadata": {
  "kernelspec": {
   "display_name": "Python 3",
   "language": "python",
   "name": "python3"
  },
  "language_info": {
   "codemirror_mode": {
    "name": "ipython",
    "version": 3
   },
   "file_extension": ".py",
   "mimetype": "text/x-python",
   "name": "python",
   "nbconvert_exporter": "python",
   "pygments_lexer": "ipython3",
   "version": "3.7.2"
  },
  "toc-autonumbering": false
 },
 "nbformat": 4,
 "nbformat_minor": 2
}
