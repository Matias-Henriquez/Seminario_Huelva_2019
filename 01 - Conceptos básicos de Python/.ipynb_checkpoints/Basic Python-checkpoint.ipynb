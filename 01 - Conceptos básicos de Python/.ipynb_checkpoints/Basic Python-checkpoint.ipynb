{
 "cells": [
  {
   "cell_type": "markdown",
   "metadata": {
    "slideshow": {
     "slide_type": "slide"
    }
   },
   "source": [
    "<figure>\n",
    "    <a href=\"http://www.upm.es\">\n",
    "    <img style=\"float: right;\" src=\"img/UPMLogo.png\" width=\"100\">\n",
    "    </a>\n",
    "</figure>\n",
    "\n",
    "# Conceptos básicos de Python\n",
    "\n",
    "#### © **[Jorge Ramírez](http://blogs.upm.es/compsoftmatter/)**, **[Universidad Politécnica de Madrid](http://www.upm.es)**, 2019\n",
    "\n",
    "Este documento es una introducción a conceptos básicos de Python y Jupyter Labs para estudiantes que nunca han utilizado estas herramientas."
   ]
  },
  {
   "cell_type": "markdown",
   "metadata": {
    "slideshow": {
     "slide_type": "slide"
    }
   },
   "source": [
    "## ¿Cómo utilizar Python?\n",
    "Python se puede utilizar de muchas formas diferentes. Aquí destacamos 3 muy típicas."
   ]
  },
  {
   "cell_type": "markdown",
   "metadata": {
    "slideshow": {
     "slide_type": "subslide"
    }
   },
   "source": [
    "### De forma interactiva\n",
    "Abrimos una ventana del interprete de python y empezamos a introducir comandos uno a uno.\n",
    "\n",
    "<img src=\"img/InteractivePython.png\" width=\"600\">\n"
   ]
  },
  {
   "cell_type": "markdown",
   "metadata": {
    "slideshow": {
     "slide_type": "subslide"
    }
   },
   "source": [
    "### Ejecutando programas escritos en Python\n",
    "Se pueden guardar secuencias de instrucciones en ficheros de texto y ejecutarlas como si fuera un programa.\n",
    "\n",
    "<img style=\"float: left;\" src=\"img/PythonProgram.png\" width=\"500\">\n",
    "\n",
    "<img style=\"float: right;\" src=\"img/hangman.png\" width=\"400\">\n",
    "\n",
    "\n"
   ]
  },
  {
   "cell_type": "markdown",
   "metadata": {
    "slideshow": {
     "slide_type": "subslide"
    }
   },
   "source": [
    "### Utilizando Jupyter Labs\n",
    "**[Jupyter Labs](https://Jupyter.org)**  es una aplicación web que permite crear y compartir documentos que combinan texto, imágenes, ecuaciones, gráficos y código que se puede ejecutar de forma interactiva. Este tutorial se va a desarrollar por completo mediante esta herramienta.\n",
    "\n",
    "<img src=\"img/Jupyter-screenshot.png\" width=\"600\">\n"
   ]
  },
  {
   "cell_type": "markdown",
   "metadata": {
    "slideshow": {
     "slide_type": "slide"
    }
   },
   "source": [
    "<figure>\n",
    "    <a href=\"https://www.gnu.org/software/octave/s\">\n",
    "    <img style=\"float: right;\" src=\"img/octave-logo.svg\" width=\"100\">\n",
    "    </a>\n",
    "</figure>\n",
    "\n",
    "<figure>\n",
    "    <a href=\"https://es.mathworks.com/?s_tid=gn_logo\">\n",
    "    <img style=\"float: right;\" src=\"img/Matlab_Logo.png\" width=\"100\">\n",
    "    </a>\n",
    "</figure>\n",
    "\n",
    "## Python es una calculadora básica\n",
    "De forma similar a **[Matlab](https://es.mathworks.com/?s_tid=gn_logo)** u **[Octave](https://www.gnu.org/software/octave/)**, Python puede ser utilizado como una calculadora elemental. La notación de los operadores y el orden en que se aplican las operaciones se muestran en la siguiente tabla: \n",
    "\n",
    "<img style=\"float: right;\" src=\"img/calculator.png\" width=\"300\">\n",
    "\n",
    "| Operación | Operador | Ejemplo |\n",
    "| --- | :---: | :---: |\n",
    "| Exponente | ** | 2**3=8 |\n",
    "| Multiplicación | * | 4 * 2.5=10 | \n",
    "| División | / | 9.9/3=3.3 |\n",
    "| División Entera | // | 9//2=4 |\n",
    "| Resto (módulo) | % | 9%2=1 |\n",
    "| Suma | + | 3+5.1=8.1 |\n",
    "| Resta | - | 65.3-2=63.3 |"
   ]
  },
  {
   "cell_type": "code",
   "execution_count": 1,
   "metadata": {
    "slideshow": {
     "slide_type": "fragment"
    }
   },
   "outputs": [
    {
     "data": {
      "text/plain": [
       "245"
      ]
     },
     "execution_count": 1,
     "metadata": {},
     "output_type": "execute_result"
    }
   ],
   "source": [
    "x=3\n",
    "y=5\n",
    "x**y+2"
   ]
  },
  {
   "cell_type": "markdown",
   "metadata": {
    "slideshow": {
     "slide_type": "subslide"
    }
   },
   "source": [
    "<img style=\"float: right;\" src=\"img/mathfunctions.png\" width=\"300\">\n",
    "\n",
    "Si necesitamos **funciones matemáticas**, es necesario **importar la librería** *numpy* (que se comenta en detalle [más adelante](#numpy)). Las funciones más típicas (sin, cos, exp, etc) están disponibles ([lista completa de todas las funciones incluidas en numpy](https://docs.scipy.org/doc/numpy/reference/routines.math.html)). \n",
    "\n",
    "Existen varias formas de importar una librería en python:\n",
    "\n",
    "- Con el comando **import**. Para acceder al as variables y funciones de la librería, tendrémos que anteponer el nombre de la librería como prefijo, seguido de un punto."
   ]
  },
  {
   "cell_type": "code",
   "execution_count": 2,
   "metadata": {
    "slideshow": {
     "slide_type": "fragment"
    }
   },
   "outputs": [
    {
     "data": {
      "text/plain": [
       "29.96410004739701"
      ]
     },
     "execution_count": 2,
     "metadata": {},
     "output_type": "execute_result"
    }
   ],
   "source": [
    "import numpy\n",
    "numpy.exp(3.4)"
   ]
  },
  {
   "cell_type": "markdown",
   "metadata": {
    "slideshow": {
     "slide_type": "subslide"
    }
   },
   "source": [
    "- Mediante el comando **from** \\* **import** \\*, se pueden importar funciones específicas o todas las funciones de una librería."
   ]
  },
  {
   "cell_type": "code",
   "execution_count": 3,
   "metadata": {
    "slideshow": {
     "slide_type": "fragment"
    }
   },
   "outputs": [
    {
     "name": "stdout",
     "output_type": "stream",
     "text": [
      "-5.216053166299225\n",
      "0.5733448260327263\n"
     ]
    }
   ],
   "source": [
    "from numpy import exp, sin, tan\n",
    "print(tan(435.3))\n",
    "from numpy import *\n",
    "print(cos(434.5))"
   ]
  },
  {
   "cell_type": "markdown",
   "metadata": {
    "slideshow": {
     "slide_type": "fragment"
    }
   },
   "source": [
    "- Importando la librería con un **alias** (para evitar conflicto con otras funciones de otras librerías)."
   ]
  },
  {
   "cell_type": "code",
   "execution_count": 4,
   "metadata": {
    "slideshow": {
     "slide_type": "fragment"
    }
   },
   "outputs": [
    {
     "name": "stdout",
     "output_type": "stream",
     "text": [
      "-0.8715757724135882\n",
      "-0.8715757724135882\n"
     ]
    }
   ],
   "source": [
    "import numpy as np\n",
    "import math as mt\n",
    "print(np.sin(4.2))\n",
    "print(mt.sin(4.2))"
   ]
  },
  {
   "cell_type": "markdown",
   "metadata": {
    "slideshow": {
     "slide_type": "slide"
    }
   },
   "source": [
    "<img style=\"float: right;\" src=\"img/Languages.jpg\" width=\"300\">\n",
    "\n",
    "## Python como lenguaje de programación\n",
    "\n",
    "Funciones, bucles, instrucciones condicionales"
   ]
  },
  {
   "cell_type": "markdown",
   "metadata": {
    "slideshow": {
     "slide_type": "slide"
    }
   },
   "source": [
    "<img style=\"float: right;\" src=\"img/Loop.jpg\" width=\"300\">\n",
    "\n",
    "### Bucles e instrucciones condicionales\n",
    "\n",
    "Podemos hacer bucles (*loops*) para hacer cálculos y *print* para mostrar el resultado final. En python, el **espacio** es **muy importante**. Para delimitar el contenido de un bucle, no se utilizan llaves, ni paréntesis, ni palabras clave tipo *begin* o *end*. El espacio deja claro dónde comienza y donde termina un bucle."
   ]
  },
  {
   "cell_type": "code",
   "execution_count": 6,
   "metadata": {
    "slideshow": {
     "slide_type": "fragment"
    }
   },
   "outputs": [
    {
     "name": "stdout",
     "output_type": "stream",
     "text": [
      "1 2 3 4 5 6 7 8 9 \n",
      "LA SUMA ES:      45\n",
      "2 4 6 8 \n",
      "RESULT IS:      20\n",
      "2 4 6 8 \n",
      "RESULT IS:      20\n"
     ]
    }
   ],
   "source": [
    "result=0\n",
    "for i in range(1,10):\n",
    "    print(i, end=' ')\n",
    "    result+=i\n",
    "print(\"\\nLA SUMA ES: {:7d}\".format(result))\n",
    "\n",
    "result=0\n",
    "for i in range(1,10):\n",
    "    if (i%2==0):\n",
    "        print(i, end=' ')\n",
    "        result+=i\n",
    "print(\"\\nRESULT IS: {:7d}\".format(result))\n",
    "\n",
    "result=0\n",
    "for i in range(2,10,2):\n",
    "    print(i, end=' ')\n",
    "    result+=i\n",
    "print(\"\\nRESULT IS: {:7d}\".format(result))\n"
   ]
  },
  {
   "cell_type": "markdown",
   "metadata": {
    "slideshow": {
     "slide_type": "subslide"
    }
   },
   "source": [
    "<img style=\"float: right;\" src=\"img/cogs.jpg\" width=\"300\">\n",
    "\n",
    "### Subrutinas y funciones\n",
    "\n",
    "Como en cualquier otro lenguaje de programación, podemos declarar funciones y utilizarlas más adelante en nuestro código. Esto nos permite crear una librería de funciones especializadas que podemos utilizar posteriormente. Recordar que:\n",
    "\n",
    "- Las funciones se definen con la palabra clave **def**. \n",
    "- Los argumentos de la función se especifican entre paréntesis. \n",
    "- Igual que con los bucles, el contenido de la función se delimita mediante el **espacio**."
   ]
  },
  {
   "cell_type": "code",
   "execution_count": 6,
   "metadata": {
    "slideshow": {
     "slide_type": "fragment"
    }
   },
   "outputs": [
    {
     "data": {
      "text/plain": [
       "120"
      ]
     },
     "execution_count": 6,
     "metadata": {},
     "output_type": "execute_result"
    }
   ],
   "source": [
    "def fact(x):\n",
    "    if not isinstance(x, (int)) or (x<0):\n",
    "        return 0\n",
    "    if x==0:\n",
    "        return 1\n",
    "    else:\n",
    "        return x*fact(x-1)\n",
    "    \n",
    "fact(5)"
   ]
  },
  {
   "cell_type": "markdown",
   "metadata": {
    "slideshow": {
     "slide_type": "slide"
    },
    "toc-hr-collapsed": true
   },
   "source": [
    "<img style=\"float: right;\" src=\"img/ball-python.jpg\" width=\"300\">\n",
    "\n",
    "## Elementos característicos del lenguaje Python\n",
    "\n",
    "Listas y Diccionarios para organizar los datos."
   ]
  },
  {
   "cell_type": "markdown",
   "metadata": {
    "slideshow": {
     "slide_type": "slide"
    },
    "toc-hr-collapsed": true
   },
   "source": [
    "<img style=\"float: right;\" src=\"img/list.png\" width=\"250\">\n",
    "\n",
    "### Listas\n",
    "Las listas son una forma versatil de almacenar la información. Son formalmente similares a los *arrays* de **Matlab** u otros lenguajes de programación, pero son mucho más flexibles. "
   ]
  },
  {
   "cell_type": "markdown",
   "metadata": {
    "slideshow": {
     "slide_type": "subslide"
    },
    "toc-hr-collapsed": true
   },
   "source": [
    "- Las listas se definen separando los elementos con comas y encerrándolos entre corchetes [...]\n",
    "- Para acceder a los elementos de una lista, también se utilizan los corchetes.\n",
    "- Los índices empiezan en 0"
   ]
  },
  {
   "cell_type": "code",
   "execution_count": 7,
   "metadata": {
    "slideshow": {
     "slide_type": "fragment"
    }
   },
   "outputs": [
    {
     "name": "stdout",
     "output_type": "stream",
     "text": [
      "[1, 2, 4, 8]\n",
      "1\n",
      "8\n",
      "4\n",
      "[1, 2, 4, 8, 16]\n"
     ]
    },
    {
     "data": {
      "text/plain": [
       "5"
      ]
     },
     "execution_count": 7,
     "metadata": {},
     "output_type": "execute_result"
    }
   ],
   "source": [
    "x = [1, 2, 4, 8]\n",
    "print(x)\n",
    "print(x[0])\n",
    "print(x[3])\n",
    "print(len(x))\n",
    "x.append(16)\n",
    "print(x)\n",
    "len(x)"
   ]
  },
  {
   "cell_type": "markdown",
   "metadata": {
    "slideshow": {
     "slide_type": "subslide"
    }
   },
   "source": [
    "#### Operaciones con listas:\n",
    "- Añadir elementos al final (*append*)\n",
    "- Eliminar un elemento de la lista (*pop*)\n",
    "- concatenación (+)"
   ]
  },
  {
   "cell_type": "code",
   "execution_count": 8,
   "metadata": {
    "slideshow": {
     "slide_type": "fragment"
    }
   },
   "outputs": [
    {
     "name": "stdout",
     "output_type": "stream",
     "text": [
      "[1, 2, 4, 8, 16]\n",
      "[1, 2, 4, 8, 16, 32]\n",
      "[2, 4, 8, 16, 32]\n",
      "[2, 4, 8, 16, 32, 2, 4, 8, 16, 32]\n"
     ]
    }
   ],
   "source": [
    "x=[1,2,4,8,16]\n",
    "print(x)\n",
    "x.append(32)\n",
    "print(x)\n",
    "x.pop(0)\n",
    "print(x)\n",
    "x=x+x\n",
    "print(x)"
   ]
  },
  {
   "cell_type": "markdown",
   "metadata": {
    "slideshow": {
     "slide_type": "subslide"
    }
   },
   "source": [
    "#### Operaciones avanzadas con listas:\n",
    "- Recorrer una lista (LOOP)\n",
    "- Crear listas complejas en una sola línea (**list comprehension**)"
   ]
  },
  {
   "cell_type": "code",
   "execution_count": 9,
   "metadata": {
    "slideshow": {
     "slide_type": "fragment"
    }
   },
   "outputs": [
    {
     "name": "stdout",
     "output_type": "stream",
     "text": [
      "0.29192670550711974 0.2877979469597556\n",
      "0.34854780462430324 0.34153329366164137\n",
      "0.03311417191015853 0.0331081203600246\n",
      "0.3464628174709782 0.3395729365279446\n",
      "0.36096603472430566 0.3531781775892965\n",
      "0.37197871370950897 0.3634595317439747\n",
      "0.627951776816482 0.5874885026290433\n",
      "0.61375293044433 0.5759395006120647\n",
      "0.4358869656085832 0.4222145980367013\n",
      "0.6617992428828704 0.6145372466929286\n"
     ]
    }
   ],
   "source": [
    "x=[np.random.random() for i in range(0,10)]\n",
    "for val in x:\n",
    "    print(val, np.sin(val))"
   ]
  },
  {
   "cell_type": "markdown",
   "metadata": {
    "slideshow": {
     "slide_type": "fragment"
    }
   },
   "source": [
    "- Numpy puede operar directamente con todos los elementos de una lista"
   ]
  },
  {
   "cell_type": "code",
   "execution_count": 10,
   "metadata": {
    "slideshow": {
     "slide_type": "fragment"
    }
   },
   "outputs": [
    {
     "name": "stdout",
     "output_type": "stream",
     "text": [
      "[0.29192670550711974, 0.34854780462430324, 0.03311417191015853, 0.3464628174709782, 0.36096603472430566, 0.37197871370950897, 0.627951776816482, 0.61375293044433, 0.4358869656085832, 0.6617992428828704]\n",
      "[0.28779795 0.34153329 0.03310812 0.33957294 0.35317818 0.36345953\n",
      " 0.5874885  0.5759395  0.4222146  0.61453725]\n"
     ]
    }
   ],
   "source": [
    "print(x)\n",
    "print(np.sin(x))"
   ]
  },
  {
   "cell_type": "markdown",
   "metadata": {
    "slideshow": {
     "slide_type": "slide"
    }
   },
   "source": [
    "<img style=\"float: right;\" src=\"img/Dictionaries.jpg\" width=\"300\">\n",
    "\n",
    "### Diccionarios\n",
    "\n",
    "Los diccionarios son útiles para almacenar información en términos de una *clave* (palabra o secuencia de letras). \n",
    "\n",
    "Los diccionarios se especifican como una secuencia separada por comas de etiquetas sus correspondientes valores, separados estos por dos puntos. La secuencia completa se delimita mediante llaves.\n",
    "\n",
    "Por ejemplo, podríamos almacenar las masas atómicas de molécular sencillas:"
   ]
  },
  {
   "cell_type": "code",
   "execution_count": 11,
   "metadata": {
    "slideshow": {
     "slide_type": "fragment"
    }
   },
   "outputs": [],
   "source": [
    "MW={'H2O': 18.02, 'CO2': 44.01, 'C2H6': 30.07}"
   ]
  },
  {
   "cell_type": "markdown",
   "metadata": {
    "slideshow": {
     "slide_type": "fragment"
    }
   },
   "source": [
    "Podemos acceder a cualquiera de los elementos del diccionario fácilmente utilizando su clave:"
   ]
  },
  {
   "cell_type": "code",
   "execution_count": 12,
   "metadata": {
    "slideshow": {
     "slide_type": "fragment"
    }
   },
   "outputs": [
    {
     "data": {
      "text/plain": [
       "30.07"
      ]
     },
     "execution_count": 12,
     "metadata": {},
     "output_type": "execute_result"
    }
   ],
   "source": [
    "MW['C2H6']"
   ]
  },
  {
   "cell_type": "markdown",
   "metadata": {
    "slideshow": {
     "slide_type": "subslide"
    }
   },
   "source": [
    "#### Operaciones avanzadas con diccionarios:\n",
    "- Se pueden recorrer mediante un LOOP\n",
    "- Se pueden ordenar por clave\n",
    "- Se pueden ordenar por valor"
   ]
  },
  {
   "cell_type": "code",
   "execution_count": 13,
   "metadata": {
    "slideshow": {
     "slide_type": "fragment"
    }
   },
   "outputs": [
    {
     "name": "stdout",
     "output_type": "stream",
     "text": [
      "The molar mass of H2O is  18.02\n",
      "The molar mass of CO2 is  44.01\n",
      "The molar mass of C2H6 is  30.07\n",
      "\n",
      "The molar mass of C2H6 is  30.07\n",
      "The molar mass of CO2 is  44.01\n",
      "The molar mass of H2O is  18.02\n",
      "\n",
      "The molar mass of H2O is  18.02\n",
      "The molar mass of C2H6 is  30.07\n",
      "The molar mass of CO2 is  44.01\n"
     ]
    }
   ],
   "source": [
    "for mol in MW.keys():\n",
    "    print(\"The molar mass of {:s} is {:6.2f}\".format(mol, MW[mol]))\n",
    "print(\"\")\n",
    "for mol in sorted(MW):\n",
    "    print(\"The molar mass of {:s} is {:6.2f}\".format(mol, MW[mol]))\n",
    "print(\"\")\n",
    "for mol in sorted(MW, key=MW.get):\n",
    "    print(\"The molar mass of {:s} is {:6.2f}\".format(mol, MW[mol]))"
   ]
  },
  {
   "cell_type": "markdown",
   "metadata": {
    "slideshow": {
     "slide_type": "slide"
    }
   },
   "source": [
    "<figure>\n",
    "    <a href=\"https://www.numpy.org/\">\n",
    "    <img style=\"float: right;\" src=\"img/numpy.jpeg\" width=\"200\">\n",
    "    </a>\n",
    "</figure>\n",
    "\n",
    "## Álgebra lineal con numpy\n",
    "<a id='numpy'></a>\n",
    "\n",
    "El *matlab* de python.\n",
    "\n",
    "<img style=\"float: center;\" src=\"img/linear-algebra.jpg\" width=\"400\">\n"
   ]
  },
  {
   "cell_type": "markdown",
   "metadata": {
    "slideshow": {
     "slide_type": "slide"
    }
   },
   "source": [
    "### Declaración y manipulación de vectores y matrices\n",
    "La librería [numpy](https://www.numpy.org/) nos permite manipular vectores y matrices y resolver problemas de álgebra lineal (entre otras cosas).\n",
    "Por ejemplo, podemos declarar un vector y acceder y mostrar sus elementos de la forma habitual: "
   ]
  },
  {
   "cell_type": "code",
   "execution_count": 14,
   "metadata": {
    "slideshow": {
     "slide_type": "fragment"
    }
   },
   "outputs": [
    {
     "name": "stdout",
     "output_type": "stream",
     "text": [
      "[0. 0. 0. 0. 0. 0. 0. 0. 0. 0.]\n",
      "[0.  0.  0.  0.  3.5 0.  0.  0.  0.  0. ]\n"
     ]
    }
   ],
   "source": [
    "import numpy as np\n",
    "a=np.zeros(10)\n",
    "print(a)\n",
    "a[4]=3.5\n",
    "print(a)"
   ]
  },
  {
   "cell_type": "markdown",
   "metadata": {
    "slideshow": {
     "slide_type": "subslide"
    }
   },
   "source": [
    "O podemos declarar una matriz:"
   ]
  },
  {
   "cell_type": "code",
   "execution_count": 15,
   "metadata": {
    "slideshow": {
     "slide_type": "fragment"
    }
   },
   "outputs": [
    {
     "name": "stdout",
     "output_type": "stream",
     "text": [
      "[[0. 0. 0. 0.]\n",
      " [0. 0. 0. 0.]\n",
      " [0. 0. 0. 0.]\n",
      " [0. 0. 0. 0.]]\n",
      "[[0.  0.  4.2 0. ]\n",
      " [0.  0.  0.  0. ]\n",
      " [0.  8.4 0.  0. ]\n",
      " [0.  0.  0.  0. ]]\n"
     ]
    }
   ],
   "source": [
    "A=np.zeros((4,4))\n",
    "print(A)\n",
    "A[0,2]=4.2\n",
    "A[2,1]=8.4\n",
    "print(A)"
   ]
  },
  {
   "cell_type": "markdown",
   "metadata": {
    "slideshow": {
     "slide_type": "slide"
    }
   },
   "source": [
    "### Resolución de sistemas lineales\n",
    "Es facil generar una matriz y un vector de números aleatorios con numpy:"
   ]
  },
  {
   "cell_type": "code",
   "execution_count": 16,
   "metadata": {
    "slideshow": {
     "slide_type": "fragment"
    }
   },
   "outputs": [
    {
     "name": "stdout",
     "output_type": "stream",
     "text": [
      "[[0.23705762 0.91541247 0.49435888]\n",
      " [0.35045794 0.02928186 0.78442506]\n",
      " [0.80194717 0.19661175 0.93540643]]\n",
      "[0.36253573 0.93951335 0.70009506]\n"
     ]
    }
   ],
   "source": [
    "A=np.random.rand(3,3)\n",
    "b=np.random.rand(3)\n",
    "print(A)\n",
    "print(b)"
   ]
  },
  {
   "cell_type": "markdown",
   "metadata": {
    "slideshow": {
     "slide_type": "fragment"
    }
   },
   "source": [
    "Podemos resolver un sistema de ecuaciones como el siguiente fácilmente\n",
    "$$ Ax=b $$"
   ]
  },
  {
   "cell_type": "code",
   "execution_count": 17,
   "metadata": {
    "slideshow": {
     "slide_type": "fragment"
    }
   },
   "outputs": [
    {
     "name": "stdout",
     "output_type": "stream",
     "text": [
      "[-0.99409862 -0.23798813  1.65072727]\n"
     ]
    }
   ],
   "source": [
    "x=np.linalg.solve(A,b)\n",
    "print(x)"
   ]
  },
  {
   "cell_type": "markdown",
   "metadata": {
    "slideshow": {
     "slide_type": "subslide"
    }
   },
   "source": [
    "Podemos comprobar que la solución es correcta:"
   ]
  },
  {
   "cell_type": "code",
   "execution_count": 18,
   "metadata": {
    "slideshow": {
     "slide_type": "fragment"
    }
   },
   "outputs": [
    {
     "name": "stdout",
     "output_type": "stream",
     "text": [
      "[0.36253573 0.93951335 0.70009506]\n"
     ]
    },
    {
     "data": {
      "text/plain": [
       "array([0.36253573, 0.93951335, 0.70009506])"
      ]
     },
     "execution_count": 18,
     "metadata": {},
     "output_type": "execute_result"
    }
   ],
   "source": [
    "print(b)\n",
    "np.dot(A,x)"
   ]
  },
  {
   "cell_type": "markdown",
   "metadata": {
    "slideshow": {
     "slide_type": "slide"
    }
   },
   "source": [
    "<figure>\n",
    "    <a href=\"https://matplotlib.org/\">\n",
    "    <img style=\"float: right;\" src=\"img/matplotlib.png\" width=\"250\">\n",
    "    </a>\n",
    "</figure>\n",
    "\n",
    "## Representación de gráficos con matplotlib\n",
    "Con la librería [matplotlib](https://matplotlib.org/) podemos representar gráficamente nuestros resultados numéricos:"
   ]
  },
  {
   "cell_type": "code",
   "execution_count": 19,
   "metadata": {
    "slideshow": {
     "slide_type": "fragment"
    }
   },
   "outputs": [
    {
     "data": {
      "text/plain": [
       "[<matplotlib.lines.Line2D at 0x20436c5d6a0>]"
      ]
     },
     "execution_count": 19,
     "metadata": {},
     "output_type": "execute_result"
    },
    {
     "data": {
      "image/png": "[encoded data removed]",
      "text/plain": [
       "<Figure size 432x288 with 1 Axes>"
      ]
     },
     "metadata": {
      "needs_background": "light"
     },
     "output_type": "display_data"
    }
   ],
   "source": [
    "%matplotlib widget\n",
    "#%matplotlib inline\n",
    "import matplotlib.pyplot as plt\n",
    "x=np.linspace(0,8*np.pi,200)\n",
    "y=np.sin(x)*np.exp(-x/10.0)\n",
    "plt.plot(x,y)"
   ]
  },
  {
   "cell_type": "markdown",
   "metadata": {
    "slideshow": {
     "slide_type": "subslide"
    }
   },
   "source": [
    "Se pueden manipular todas las opciones del gráfico, al igual que con Matlab:"
   ]
  },
  {
   "cell_type": "code",
   "execution_count": 20,
   "metadata": {
    "slideshow": {
     "slide_type": "fragment"
    }
   },
   "outputs": [
    {
     "data": {
      "image/png": "[encoded data removed]",
      "text/plain": [
       "<Figure size 432x288 with 1 Axes>"
      ]
     },
     "metadata": {
      "needs_background": "light"
     },
     "output_type": "display_data"
    }
   ],
   "source": [
    "plt.figure(2)\n",
    "plt.plot(x,y, color='lightblue', linewidth=3, label=\"LINE\")\n",
    "plt.scatter(x[0:200:10], y[0:200:10], color='darkgreen', marker='^', label=\"SYMBOLS\")\n",
    "plt.xlim(0., 15.0)\n",
    "plt.xlabel(\"t [s]\")\n",
    "plt.ylabel(\"E [kJ]\")\n",
    "plt.grid()\n",
    "plt.legend()\n",
    "plt.show()"
   ]
  },
  {
   "cell_type": "markdown",
   "metadata": {
    "slideshow": {
     "slide_type": "subslide"
    }
   },
   "source": [
    "Incluso se pueden generar gráficos con más de un subgráfico en su interior"
   ]
  },
  {
   "cell_type": "code",
   "execution_count": 21,
   "metadata": {
    "slideshow": {
     "slide_type": "fragment"
    }
   },
   "outputs": [
    {
     "data": {
      "text/plain": [
       "Text(0.5, 1.0, 'Sampled function')"
      ]
     },
     "execution_count": 21,
     "metadata": {},
     "output_type": "execute_result"
    },
    {
     "data": {
      "image/png": "[encoded data removed]",
      "text/plain": [
       "<Figure size 432x288 with 2 Axes>"
      ]
     },
     "metadata": {
      "needs_background": "light"
     },
     "output_type": "display_data"
    }
   ],
   "source": [
    "plt.figure(3)\n",
    "plt.subplot(2,1,1)\n",
    "plt.plot(x,y, color='lightblue', linewidth=3, label=\"LINE\")\n",
    "plt.title('Original Function')\n",
    "\n",
    "plt.subplot(2,1,2)\n",
    "plt.scatter(x[0:200:5], y[0:200:5], color='darkgreen', marker='^', label=\"SYMBOLS\")\n",
    "plt.title('Sampled function')"
   ]
  },
  {
   "cell_type": "markdown",
   "metadata": {
    "slideshow": {
     "slide_type": "subslide"
    }
   },
   "source": [
    "Incluso se pueden hacer representaciones tridimensionales"
   ]
  },
  {
   "cell_type": "code",
   "execution_count": 22,
   "metadata": {
    "slideshow": {
     "slide_type": "fragment"
    }
   },
   "outputs": [
    {
     "data": {
      "image/png": "[encoded data removed]",
      "text/plain": [
       "<Figure size 432x288 with 1 Axes>"
      ]
     },
     "metadata": {
      "needs_background": "light"
     },
     "output_type": "display_data"
    }
   ],
   "source": [
    "from mpl_toolkits.mplot3d import axes3d\n",
    "\n",
    "fig = plt.figure()\n",
    "ax = fig.add_subplot(111, projection='3d')\n",
    "\n",
    "# Grab some test data.\n",
    "X, Y, Z = axes3d.get_test_data(0.05)\n",
    "\n",
    "# Plot a basic wireframe.\n",
    "ax.plot_wireframe(X, Y, Z, rstride=5, cstride=5)\n",
    "\n",
    "plt.show() "
   ]
  },
  {
   "cell_type": "markdown",
   "metadata": {
    "slideshow": {
     "slide_type": "slide"
    },
    "toc-hr-collapsed": true
   },
   "source": [
    "<figure>\n",
    "    <a href=\"https://www.scipy.org/\">\n",
    "    <img style=\"float: right;\" src=\"img/scipy.png\" width=\"150\">\n",
    "    </a>\n",
    "</figure>\n",
    "\n",
    "\n",
    "## Resolviendo ecuaciones diferenciales con Scipy\n",
    "\n",
    "El *matlab* de python (junto con numpy)."
   ]
  },
  {
   "cell_type": "markdown",
   "metadata": {
    "slideshow": {
     "slide_type": "slide"
    }
   },
   "source": [
    "### Una ecuación diferencial ordinaria\n",
    "Nos proponemos resolver la ecuación diferencial ordinaria siguiente:\n",
    "$$ \\frac{dy}{dt}=- 0.1 y + sin(y)$$\n",
    "El método básico require definir:\n",
    "- **modelo**: La función que devuelve el valor de la derivada en términos de los valores actuales de y\n",
    "- **y0**: La condición inicial \n",
    "- **t**: Los instantes de tiempo en los que queremos determinar la solución."
   ]
  },
  {
   "cell_type": "code",
   "execution_count": 23,
   "metadata": {
    "slideshow": {
     "slide_type": "subslide"
    }
   },
   "outputs": [
    {
     "data": {
      "text/plain": [
       "Text(0, 0.5, 'y')"
      ]
     },
     "execution_count": 23,
     "metadata": {},
     "output_type": "execute_result"
    },
    {
     "data": {
      "image/png": "[encoded data removed]",
      "text/plain": [
       "<Figure size 432x288 with 1 Axes>"
      ]
     },
     "metadata": {
      "needs_background": "light"
     },
     "output_type": "display_data"
    }
   ],
   "source": [
    "%matplotlib inline\n",
    "from scipy.integrate import odeint\n",
    "def modelo(y, t):\n",
    "    return -0.1*y+np.cos(y)\n",
    "\n",
    "y0 = 5\n",
    "t = np.linspace(0,10,100)\n",
    "y = odeint(modelo, y0, t)\n",
    "plt.plot(t,y)\n",
    "plt.xlabel(\"t\")\n",
    "plt.ylabel(\"y\")"
   ]
  },
  {
   "cell_type": "markdown",
   "metadata": {
    "slideshow": {
     "slide_type": "subslide"
    }
   },
   "source": [
    "<figure>\n",
    "    <img style=\"float: right;\" src=\"img/interacting.png\" width=\"450\">\n",
    "</figure>\n",
    "\n",
    "### Interactuando con el código\n",
    "\n",
    "Podemos resolver el mismo problema, pero en función de un ciertos parámetros $k$ y $c$.\n",
    "$$ \\frac{dy}{dt}=- k y + sin(c y)$$"
   ]
  },
  {
   "cell_type": "code",
   "execution_count": 24,
   "metadata": {
    "slideshow": {
     "slide_type": "skip"
    }
   },
   "outputs": [
    {
     "data": {
      "application/vnd.jupyter.widget-view+json": {
       "model_id": "e692384434894c5aaaa9ecced0799ce1",
       "version_major": 2,
       "version_minor": 0
      },
      "text/plain": [
       "interactive(children=(FloatSlider(value=5.0, description='y0', max=6.0, min=3.0), FloatSlider(value=10.0, desc…"
      ]
     },
     "metadata": {},
     "output_type": "display_data"
    }
   ],
   "source": [
    "import ipywidgets as ipy\n",
    "#from ipywidgets import interactive, fixed, widgets\n",
    "def modelo(y, t, k, c):\n",
    "    return -k*y+np.cos(c*y)\n",
    "\n",
    "def integrate_modelo(y0, tmax, k, c):\n",
    "    plt.figure()\n",
    "    t=np.linspace(0,tmax,100)\n",
    "    y=odeint(modelo, y0, t, args=(k,c))\n",
    "    plt.plot(t,y)\n",
    "    plt.xlabel(\"t\")\n",
    "    plt.ylabel(\"y\")\n",
    "    plt.show()\n",
    "    \n",
    "ipy.interactive(integrate_modelo, \n",
    "              y0=ipy.widgets.FloatSlider(value=5.0,min=3.0,max=6.0),\n",
    "              tmax=ipy.widgets.FloatSlider(value=10.0,min=1.0,max=20.0),\n",
    "              k=ipy.widgets.FloatSlider(value=0.1,min=0.0,max=0.3,step=0.01),\n",
    "              c=ipy.widgets.FloatSlider(value=0.01,min=0.0,max=1.0,step=0.01))"
   ]
  },
  {
   "cell_type": "markdown",
   "metadata": {
    "slideshow": {
     "slide_type": "slide"
    }
   },
   "source": [
    "<figure>\n",
    "    <img style=\"float: right;\" src=\"img/Acoplado.png\" width=\"450\">\n",
    "</figure>\n",
    "\n",
    "### Un sistema de ecuaciones diferenciales acopladas\n",
    "\n",
    "$$ \\frac{dx}{dt} = Ax + By $$\n",
    "$$ \\frac{dy}{dt} = Cx + Dy $$\n",
    "\n",
    "Con condiciones iniciales:\n",
    "$$ x(0)=x_0 $$\n",
    "$$ y(0)=y_0 $$"
   ]
  },
  {
   "cell_type": "code",
   "execution_count": 25,
   "metadata": {
    "slideshow": {
     "slide_type": "skip"
    }
   },
   "outputs": [
    {
     "data": {
      "application/vnd.jupyter.widget-view+json": {
       "model_id": "482831b356394497a05948811607f76e",
       "version_major": 2,
       "version_minor": 0
      },
      "text/plain": [
       "interactive(children=(FloatSlider(value=1.0, description='x0', max=5.0, min=-5.0), FloatSlider(value=1.0, desc…"
      ]
     },
     "metadata": {},
     "output_type": "display_data"
    }
   ],
   "source": [
    "def modelo(y, t, A, B, C, D):\n",
    "    return [A*y[0]+B*y[1], C*y[0]+D*y[1]]\n",
    "\n",
    "def integrate_modelo(x0, y0, tmax, A, B, C, D):\n",
    "    plt.figure()\n",
    "    t=np.linspace(0,tmax,100)\n",
    "    y=odeint(modelo, [x0, y0], t, args=(A, B, C, D))\n",
    "    plt.subplot(1,2,1)\n",
    "    plt.plot(t, y[:,0], label='x')\n",
    "    plt.plot(t, y[:,1], label='y')\n",
    "    plt.xlabel(\"t\")\n",
    "    plt.ylabel(\"x,y\")\n",
    "\n",
    "    plt.legend()\n",
    "\n",
    "    plt.subplot(1,2,2)\n",
    "    plt.plot(y[:,0],y[:,1])\n",
    "    plt.scatter(x0,y0,facecolor='r')\n",
    "    plt.scatter(y[-1,0],y[-1,1],facecolor='g')\n",
    "    plt.xlabel(\"x\")\n",
    "    plt.ylabel(\"y\")\n",
    "\n",
    "    #print(y)\n",
    "    plt.show()\n",
    "    \n",
    "w=ipy.interactive(integrate_modelo, \n",
    "              x0=ipy.widgets.FloatSlider(value=1.0,min=-5.0,max=5.0),\n",
    "              y0=ipy.widgets.FloatSlider(value=1.0,min=-5.0,max=5.0),\n",
    "              tmax=ipy.widgets.FloatSlider(value=10.0,min=1.0,max=20.0),\n",
    "              A=ipy.widgets.FloatSlider(value=0.1,min=-2.0,max=2.0,step=0.01),\n",
    "              B=ipy.widgets.FloatSlider(value=0.1,min=-2.0,max=2.0,step=0.01),\n",
    "              C=ipy.widgets.FloatSlider(value=0.1,min=-2.0,max=2.0,step=0.01),\n",
    "              D=ipy.widgets.FloatSlider(value=0.1,min=-2.0,max=2.0,step=0.01))\n",
    "w"
   ]
  },
  {
   "cell_type": "markdown",
   "metadata": {
    "slideshow": {
     "slide_type": "subslide"
    }
   },
   "source": [
    "<figure>\n",
    "    <img style=\"float: right;\" src=\"img/Lorentz1.png\" width=\"250\">\n",
    "</figure>\n",
    "\n",
    "\n",
    "## Para Finalizar... Las Ecuaciones Diferenciales de Lorentz\n",
    "\n",
    "Para finalizar, vamos a explorar el sistema de ecuaciones diferenciales de Lorentz:\n",
    "\n",
    "$$\n",
    "\\begin{aligned}\n",
    "\\dot{x} & = \\sigma(y-x) \\\\\n",
    "\\dot{y} & = \\rho x - y - xz \\\\\n",
    "\\dot{z} & = -\\beta z + xy\n",
    "\\end{aligned}\n",
    "$$\n",
    "\n",
    "<figure>\n",
    "    <img style=\"float: right;\" src=\"img/Lorentz2.png\" width=\"450\">\n",
    "</figure>\n",
    "\n",
    "Podemos explorar la forma de la solución modificando los valores de los parámetros $\\sigma$, $\\beta$ y $\\rho$ de forma interactiva (el fichero *lorenz.py* contiene la subrutina que resuelve la ecuación diferencial):"
   ]
  },
  {
   "cell_type": "code",
   "execution_count": 26,
   "metadata": {
    "slideshow": {
     "slide_type": "skip"
    }
   },
   "outputs": [
    {
     "data": {
      "application/vnd.jupyter.widget-view+json": {
       "model_id": "2f6460239747467fa3fa329957e4d0ba",
       "version_major": 2,
       "version_minor": 0
      },
      "text/plain": [
       "interactive(children=(FloatSlider(value=10.0, description='sigma', max=50.0), FloatSlider(value=2.666666666666…"
      ]
     },
     "metadata": {},
     "output_type": "display_data"
    }
   ],
   "source": [
    "%matplotlib widget\n",
    "#%matplotlib inline\n",
    "from lorenz import solve_lorenz\n",
    "ipy.interactive(solve_lorenz,sigma=(0.0,50.0),rho=(0.0,50.0))"
   ]
  },
  {
   "cell_type": "markdown",
   "metadata": {
    "slideshow": {
     "slide_type": "slide"
    }
   },
   "source": [
    "<figure>\n",
    "    <a href=\"https://www.wolfram.com/mathematica/\">\n",
    "    <img style=\"float: right;\" src=\"img/Mathematica.png\" width=\"150\">\n",
    "    </a>\n",
    "</figure>\n",
    "<figure>\n",
    "    <a href=\"https://www.maplesoft.com/\">\n",
    "    <img style=\"float: right;\" src=\"img/maple.png\" width=\"150\">\n",
    "    </a>\n",
    "</figure>\n",
    "<figure>\n",
    "    <a href=\"https://www.sympy.org/en/index.html\">\n",
    "    <img style=\"float: right;\" src=\"img/Sympy_logo.svg.png\" width=\"150\">\n",
    "    </a>\n",
    "</figure>\n",
    "\n",
    "## Matemáticas simbólicas con Sympy\n",
    "\n",
    "[Sympy](https://www.sympy.org/en/index.html) es una librería de Python para hacer cálculos con matemática simbólica (de forma parecida a **[Maple](https://www.maplesoft.com/)** o **[Mathematica](https://www.wolfram.com/mathematica/)**). En esta librería, antes de poder operar con símbolos algebraicos, tenemos que definirlos. Los símbolos se pueden definir uno a uno o como listas. Para simplificar el uso, es importante asignar los simbolos a una variable que se llame igual que el símbolo en cuestión:"
   ]
  },
  {
   "cell_type": "code",
   "execution_count": 27,
   "metadata": {
    "slideshow": {
     "slide_type": "fragment"
    }
   },
   "outputs": [
    {
     "data": {
      "text/latex": [
       "$\\displaystyle \\frac{z^{y} \\sin{\\left(x + 1 \\right)}}{v}$"
      ],
      "text/plain": [
       "z**y*sin(x + 1)/v"
      ]
     },
     "execution_count": 27,
     "metadata": {},
     "output_type": "execute_result"
    }
   ],
   "source": [
    "from sympy import *\n",
    "x=symbols('x')\n",
    "v, y, z = symbols('v y z')\n",
    "sin(x+1)*z**y/v"
   ]
  },
  {
   "cell_type": "markdown",
   "metadata": {
    "slideshow": {
     "slide_type": "subslide"
    }
   },
   "source": [
    "Algunas de las operaciones que podemos hacer con Sympy son:\n",
    "- Simplificaciones\n",
    "- Expansiones\n",
    "- Sustituciones"
   ]
  },
  {
   "cell_type": "code",
   "execution_count": 28,
   "metadata": {
    "slideshow": {
     "slide_type": "fragment"
    }
   },
   "outputs": [
    {
     "name": "stdout",
     "output_type": "stream",
     "text": [
      "Ejemplo de expand\n",
      "       2\n",
      "(x + 1) \n",
      " 2          \n",
      "x  + 2⋅x + 1\n",
      "Ejemplo de simplify\n",
      " 2          \n",
      "x  + 2⋅x + 1\n",
      "────────────\n",
      "   x + 1    \n",
      "x + 1\n",
      "Ejemplo de substitute\n",
      "     2\n",
      "x + y \n"
     ]
    },
    {
     "data": {
      "text/latex": [
       "$\\displaystyle x^{2} + x$"
      ],
      "text/plain": [
       "x**2 + x"
      ]
     },
     "execution_count": 28,
     "metadata": {},
     "output_type": "execute_result"
    }
   ],
   "source": [
    "print('Ejemplo de expand')\n",
    "a=(x+1)**2\n",
    "pretty_print(a)\n",
    "a=expand(a)\n",
    "pretty_print(a)\n",
    "print('Ejemplo de simplify')\n",
    "a=(x**2+2*x+1)/(x+1)\n",
    "pretty_print(a)\n",
    "a=simplify(a)\n",
    "pretty_print(a)\n",
    "print('Ejemplo de substitute')\n",
    "a=x+y**2\n",
    "pretty_print(a)\n",
    "a.subs(y,x)"
   ]
  },
  {
   "cell_type": "markdown",
   "metadata": {
    "slideshow": {
     "slide_type": "subslide"
    }
   },
   "source": [
    "También podemos hacer operaciones de cálculo más complejas, como:\n",
    "- Límites\n",
    "- Derivadas\n",
    "- Integrales\n",
    "- Expansión en series de Taylor"
   ]
  },
  {
   "cell_type": "code",
   "execution_count": 29,
   "metadata": {
    "slideshow": {
     "slide_type": "fragment"
    }
   },
   "outputs": [
    {
     "name": "stdout",
     "output_type": "stream",
     "text": [
      "1\n",
      "1\n",
      "-sin(x)⋅sin(2⋅x) + 2⋅cos(x)⋅cos(2⋅x)\n",
      "   2                               \n",
      "- x ⋅cos(x) + 2⋅x⋅sin(x) + 2⋅cos(x)\n",
      "     2    4     6      8          \n",
      "    x    x     x      x      ⎛ 10⎞\n",
      "1 - ── + ── - ─── + ───── + O⎝x  ⎠\n",
      "    2    24   720   40320         \n"
     ]
    }
   ],
   "source": [
    "pretty_print(limit(sin(x)/x, x, 0))\n",
    "pretty_print(limit(1-exp(-x),x,oo))\n",
    "pretty_print(diff(sin(x*2)*cos(x), x))\n",
    "pretty_print(integrate(x**2*sin(x),x))\n",
    "pretty_print(series(cos(x),x,0,10))"
   ]
  },
  {
   "cell_type": "markdown",
   "metadata": {
    "slideshow": {
     "slide_type": "slide"
    }
   },
   "source": [
    "<figure>\n",
    "    <a href=\"https://pandas.pydata.org/\">\n",
    "    <img style=\"float: right;\" src=\"img/pandas.png\" width=\"200\">\n",
    "    </a>\n",
    "</figure>\n",
    "\n",
    "## Leyendo ficheros de datos con pandas\n",
    "\n",
    "La librería [pandas](https://pandas.pydata.org/) utiliza unos objetos denominados *dataframes* que se pueden leer desde un fichero CSV o Excel."
   ]
  },
  {
   "cell_type": "markdown",
   "metadata": {
    "slideshow": {
     "slide_type": "subslide"
    }
   },
   "source": [
    "Leyendo un fichero CSV:"
   ]
  },
  {
   "cell_type": "code",
   "execution_count": 30,
   "metadata": {
    "slideshow": {
     "slide_type": "fragment"
    }
   },
   "outputs": [
    {
     "data": {
      "text/html": [
       "<div>\n",
       "<style scoped>\n",
       "    .dataframe tbody tr th:only-of-type {\n",
       "        vertical-align: middle;\n",
       "    }\n",
       "\n",
       "    .dataframe tbody tr th {\n",
       "        vertical-align: top;\n",
       "    }\n",
       "\n",
       "    .dataframe thead th {\n",
       "        text-align: right;\n",
       "    }\n",
       "</style>\n",
       "<table border=\"1\" class=\"dataframe\">\n",
       "  <thead>\n",
       "    <tr style=\"text-align: right;\">\n",
       "      <th></th>\n",
       "      <th>X</th>\n",
       "      <th>Y</th>\n",
       "    </tr>\n",
       "  </thead>\n",
       "  <tbody>\n",
       "    <tr>\n",
       "      <th>189</th>\n",
       "      <td>1.89</td>\n",
       "      <td>0.090643</td>\n",
       "    </tr>\n",
       "    <tr>\n",
       "      <th>190</th>\n",
       "      <td>1.90</td>\n",
       "      <td>0.089741</td>\n",
       "    </tr>\n",
       "    <tr>\n",
       "      <th>191</th>\n",
       "      <td>1.91</td>\n",
       "      <td>0.088848</td>\n",
       "    </tr>\n",
       "    <tr>\n",
       "      <th>192</th>\n",
       "      <td>1.92</td>\n",
       "      <td>0.087964</td>\n",
       "    </tr>\n",
       "    <tr>\n",
       "      <th>193</th>\n",
       "      <td>1.93</td>\n",
       "      <td>0.087089</td>\n",
       "    </tr>\n",
       "  </tbody>\n",
       "</table>\n",
       "</div>"
      ],
      "text/plain": [
       "        X         Y\n",
       "189  1.89  0.090643\n",
       "190  1.90  0.089741\n",
       "191  1.91  0.088848\n",
       "192  1.92  0.087964\n",
       "193  1.93  0.087089"
      ]
     },
     "execution_count": 30,
     "metadata": {},
     "output_type": "execute_result"
    }
   ],
   "source": [
    "%matplotlib inline\n",
    "import pandas as pd\n",
    "df=pd.read_csv(\"Excel_Data_CSV.csv\")\n",
    "df.tail()"
   ]
  },
  {
   "cell_type": "code",
   "execution_count": 31,
   "metadata": {
    "slideshow": {
     "slide_type": "fragment"
    }
   },
   "outputs": [
    {
     "data": {
      "text/plain": [
       "[<matplotlib.lines.Line2D at 0x2043e252828>]"
      ]
     },
     "execution_count": 31,
     "metadata": {},
     "output_type": "execute_result"
    },
    {
     "data": {
      "image/png": "[encoded data removed]",
      "text/plain": [
       "<Figure size 432x288 with 1 Axes>"
      ]
     },
     "metadata": {
      "needs_background": "light"
     },
     "output_type": "display_data"
    }
   ],
   "source": [
    "plt.loglog(df.X, df.Y)"
   ]
  },
  {
   "cell_type": "markdown",
   "metadata": {
    "slideshow": {
     "slide_type": "subslide"
    }
   },
   "source": [
    "Leyendo un fichero Excel:"
   ]
  },
  {
   "cell_type": "code",
   "execution_count": 32,
   "metadata": {
    "slideshow": {
     "slide_type": "fragment"
    }
   },
   "outputs": [
    {
     "data": {
      "text/html": [
       "<div>\n",
       "<style scoped>\n",
       "    .dataframe tbody tr th:only-of-type {\n",
       "        vertical-align: middle;\n",
       "    }\n",
       "\n",
       "    .dataframe tbody tr th {\n",
       "        vertical-align: top;\n",
       "    }\n",
       "\n",
       "    .dataframe thead th {\n",
       "        text-align: right;\n",
       "    }\n",
       "</style>\n",
       "<table border=\"1\" class=\"dataframe\">\n",
       "  <thead>\n",
       "    <tr style=\"text-align: right;\">\n",
       "      <th></th>\n",
       "      <th>X</th>\n",
       "      <th>Y</th>\n",
       "    </tr>\n",
       "  </thead>\n",
       "  <tbody>\n",
       "    <tr>\n",
       "      <th>189</th>\n",
       "      <td>1.89</td>\n",
       "      <td>0.090643</td>\n",
       "    </tr>\n",
       "    <tr>\n",
       "      <th>190</th>\n",
       "      <td>1.90</td>\n",
       "      <td>0.089741</td>\n",
       "    </tr>\n",
       "    <tr>\n",
       "      <th>191</th>\n",
       "      <td>1.91</td>\n",
       "      <td>0.088848</td>\n",
       "    </tr>\n",
       "    <tr>\n",
       "      <th>192</th>\n",
       "      <td>1.92</td>\n",
       "      <td>0.087964</td>\n",
       "    </tr>\n",
       "    <tr>\n",
       "      <th>193</th>\n",
       "      <td>1.93</td>\n",
       "      <td>0.087089</td>\n",
       "    </tr>\n",
       "  </tbody>\n",
       "</table>\n",
       "</div>"
      ],
      "text/plain": [
       "        X         Y\n",
       "189  1.89  0.090643\n",
       "190  1.90  0.089741\n",
       "191  1.91  0.088848\n",
       "192  1.92  0.087964\n",
       "193  1.93  0.087089"
      ]
     },
     "execution_count": 32,
     "metadata": {},
     "output_type": "execute_result"
    }
   ],
   "source": [
    "df2=pd.read_excel(\"Excel_Data.xlsx\")\n",
    "df.tail()"
   ]
  },
  {
   "cell_type": "code",
   "execution_count": 33,
   "metadata": {
    "slideshow": {
     "slide_type": "fragment"
    }
   },
   "outputs": [
    {
     "data": {
      "text/plain": [
       "<matplotlib.collections.PathCollection at 0x2043e522e10>"
      ]
     },
     "execution_count": 33,
     "metadata": {},
     "output_type": "execute_result"
    },
    {
     "data": {
      "image/png": "[encoded data removed]",
      "text/plain": [
       "<Figure size 432x288 with 1 Axes>"
      ]
     },
     "metadata": {
      "needs_background": "light"
     },
     "output_type": "display_data"
    }
   ],
   "source": [
    "%matplotlib inline\n",
    "plt.scatter(df[\"X\"],df[\"Y\"])"
   ]
  },
  {
   "cell_type": "markdown",
   "metadata": {},
   "source": [
    "## Bibliografía - Otros recursos \n",
    "\n",
    "- [Tutorial](https://www.learnpython.org/) básico en learnpython.org.\n",
    "- [Curso](https://www.udemy.com/complete-python-bootcamp/?siteID=jU79Zysihs4-wy57L5rBsHZNKZ2IjcYiTg&LSNPUBID=jU79Zysihs4) completo en Udemy.\n",
    "- Tutorial de [Numpy](https://docs.scipy.org/doc/numpy/user/quickstart.html)\n",
    "- Tutorial de [Scipy](https://docs.scipy.org/doc/scipy/reference/tutorial/index.html)\n",
    "- Tutorial de [Matplotlib](https://matplotlib.org/tutorials/introductory/pyplot.html)\n",
    "- Tutorial de [Sympy](https://docs.sympy.org/latest/tutorial/index.html)\n",
    "- Tutorial de [Pandas](https://pandas.pydata.org/pandas-docs/stable/getting_started/tutorials.html)"
   ]
  }
 ],
 "metadata": {
  "kernelspec": {
   "display_name": "Python 3",
   "language": "python",
   "name": "python3"
  },
  "language_info": {
   "codemirror_mode": {
    "name": "ipython",
    "version": 3
   },
   "file_extension": ".py",
   "mimetype": "text/x-python",
   "name": "python",
   "nbconvert_exporter": "python",
   "pygments_lexer": "ipython3",
   "version": "3.7.2"
  },
  "toc-autonumbering": true,
  "toc-showcode": false,
  "toc-showmarkdowntxt": false
 },
 "nbformat": 4,
 "nbformat_minor": 2
}
