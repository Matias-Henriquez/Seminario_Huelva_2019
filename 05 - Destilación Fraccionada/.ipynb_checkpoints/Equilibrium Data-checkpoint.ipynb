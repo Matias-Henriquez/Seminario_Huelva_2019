{
 "cells": [
  {
   "cell_type": "markdown",
   "metadata": {},
   "source": [
    "## Plot vapour equilibrium data"
   ]
  },
  {
   "cell_type": "code",
   "execution_count": 151,
   "metadata": {},
   "outputs": [
    {
     "ename": "SyntaxError",
     "evalue": "invalid syntax (<ipython-input-151-74f294ad71bf>, line 6)",
     "output_type": "error",
     "traceback": [
      "\u001b[1;36m  File \u001b[1;32m\"<ipython-input-151-74f294ad71bf>\"\u001b[1;36m, line \u001b[1;32m6\u001b[0m\n\u001b[1;33m    from ipywidgets import interact, interactive, fixed, interact_manual, widget, widget.FloatSlider\u001b[0m\n\u001b[1;37m                                                                                        ^\u001b[0m\n\u001b[1;31mSyntaxError\u001b[0m\u001b[1;31m:\u001b[0m invalid syntax\n"
     ]
    }
   ],
   "source": [
    "import pandas as pd\n",
    "import numpy as np\n",
    "%matplotlib inline\n",
    "import matplotlib.pyplot as plt\n",
    "from scipy.optimize import fsolve\n",
    "from ipywidgets import interact, interactive, fixed, interact_manual, widget"
   ]
  },
  {
   "cell_type": "markdown",
   "metadata": {},
   "source": [
    "We begin the analysis by gathering Antoine equation data to create functions that compute \n",
    "the saturation pressure for the components. This data comes from Appendix B of the \n",
    "Murphy textbook with units of temperature in C and pressure in mmHg.\n",
    "\n",
    "http://ddbonline.ddbst.com/AntoineCalculation/AntoineCalculationCGI.exe\n",
    "\n",
    "The Antoine equation is a class of semi-empirical correlations describing the relation between vapor pressure and temperature for pure components. "
   ]
  },
  {
   "cell_type": "code",
   "execution_count": 58,
   "metadata": {},
   "outputs": [],
   "source": [
    "# Create a dictionary with the Antoine Equation for each of the components\n",
    "Psat = dict()\n",
    "Psat['Acetona'] = lambda T: 10**(7.1327 - 1219.97/(T + 230.653))\n",
    "Psat['Acetonitrilo'] = lambda T: 10**(7.33986 - 1482.29/(T + 250.523))\n",
    "Psat['Acido Acetico'] = lambda T: 10**(7.2996 - 1479.02/(T + 216.82))\n",
    "Psat['Agua'] = lambda T: 10**(8.07131 - 1730.63/(T + 233.426))\n",
    "Psat['Etanol'] = lambda T: 10**( 8.20417 - 1642.89/(T + 230.3))\n",
    "Psat['Etilenglicol'] = lambda T: 10**( 8.7945 - 2615.4/(T + 244.91))\n",
    "Psat['Fenol'] = lambda T: 10**( 7.1345 - 1516.07/(T + 174.57))\n",
    "Psat['isopropyl-alcohol'] = lambda T: 10**( 8.1182 - 1580.92/(T + 219.62))\n",
    "Psat['1,2-Etanodiol'] = lambda T: 10**( 7.76432 - 1851.88/(T + 181.744))\n",
    "\n",
    "Tsat = dict()\n",
    "for s in Psat.keys():\n",
    "    Tsat[s] = lambda P, s=s: fsolve(lambda T: Psat[s](T)-P,50)[0]"
   ]
  },
  {
   "cell_type": "code",
   "execution_count": 83,
   "metadata": {},
   "outputs": [
    {
     "data": {
      "application/vnd.jupyter.widget-view+json": {
       "model_id": "b99f9471847e4618a3c7bd1e93cbc867",
       "version_major": 2,
       "version_minor": 0
      },
      "text/plain": [
       "interactive(children=(Dropdown(description='FluidA', options=('Acetona', 'Acetonitrilo', 'Acido Acetico', 'Agu…"
      ]
     },
     "metadata": {},
     "output_type": "display_data"
    }
   ],
   "source": [
    "@interact(FluidA=Psat.keys(),FluidB=Psat.keys(),Pext=(0.2,5.0))\n",
    "def check(FluidA='Acetona', FluidB='Fenol',Pext=1.0):\n",
    "    P=Pext*760\n",
    "    print(\"{:12s}  {:.1f} °C\".format(FluidA,Tsat[FluidA](P)))\n",
    "    print(\"{:12s}  {:.1f} °C\".format(FluidB,Tsat[FluidB](P)))\n",
    "    x = lambda T: (P-Psat[FluidB](T))/(Psat[FluidA](T)-Psat[FluidB](T))\n",
    "    y = lambda T: x(T)*Psat[FluidA](T)/P\n",
    "    plt.figure(2,figsize=(6, 4), dpi= 200)\n",
    "    T = np.linspace(Tsat[FluidA](P),Tsat[FluidB](P))\n",
    "    plt.plot([x(T) for T in T],T,color='black')\n",
    "    plt.plot([y(T) for T in T],T,color='black')\n",
    "    plt.xlabel('Fracción molar '+FluidA)\n",
    "    plt.ylabel('Temperatura $^\\circ$C')\n",
    "    plt.title('Diagrama Txy para {:s}/{:s} a P = {:.0f} atm'.format(FluidA,FluidB,Patm))\n",
    "    #plt.legend(['Bubble Point','Dew Point'])\n",
    "    plt.minorticks_on()\n",
    "    plt.grid(linewidth=1, which='both')\n",
    "    plt.xlim(0,1)\n",
    "    plt.show()"
   ]
  },
  {
   "cell_type": "code",
   "execution_count": 139,
   "metadata": {},
   "outputs": [
    {
     "data": {
      "application/vnd.jupyter.widget-view+json": {
       "model_id": "a5e92ce1c07d446baa3dba5ff0d3a2bb",
       "version_major": 2,
       "version_minor": 0
      },
      "text/plain": [
       "interactive(children=(Dropdown(description='FluidA', options=('Acetona', 'Acetonitrilo', 'Acido Acetico', 'Agu…"
      ]
     },
     "metadata": {},
     "output_type": "display_data"
    }
   ],
   "source": [
    "@interact(FluidA=Psat.keys(),FluidB=Psat.keys(),Pext=(0.2,5.0),xF=(0.0,1.0),TF=(0.0,300.0))\n",
    "def check(FluidA='Acetona', FluidB='Fenol',Pext=1.0,xF=0.5,TF=100.0):\n",
    "    P=Pext*760\n",
    "    print(\"{:12s}  {:.1f} °C\".format(FluidA,Tsat[FluidA](P)))\n",
    "    print(\"{:12s}  {:.1f} °C\".format(FluidB,Tsat[FluidB](P)))\n",
    "    x = lambda T: (P-Psat[FluidB](T))/(Psat[FluidA](T)-Psat[FluidB](T))\n",
    "    y = lambda T: x(T)*Psat[FluidA](T)/P\n",
    "    plt.figure(2,figsize=(6, 4), dpi= 200)\n",
    "    T = np.linspace(Tsat[FluidA](P),Tsat[FluidB](P))\n",
    "    plt.plot([x(T) for T in T],T,color='black')\n",
    "    plt.plot([y(T) for T in T],T,color='black')\n",
    "    plt.xlabel('Fracción molar '+FluidA)\n",
    "    plt.ylabel('Temperatura $^\\circ$C')\n",
    "    plt.title('Diagrama Txy para {:s}/{:s} a P = {:.1f} atm'.format(FluidA,FluidB,Pext))\n",
    "    #plt.legend(['Bubble Point','Dew Point'])\n",
    "    plt.minorticks_on()\n",
    "    plt.grid(linewidth=1, which='both')\n",
    "    plt.xlim(0,1)\n",
    "\n",
    "    Tdew = fsolve(lambda T: y(T)-xF, 138)\n",
    "    Tbub = fsolve(lambda T: x(T)-xF, 0.01)\n",
    "    \n",
    "    ax = plt.axis()\n",
    "    plt.plot(xF,TF,'kx',ms=8)\n",
    "    plt.text(xF,TF+5,'F',size=20)\n",
    "    plt.plot([xF,xF,0],[ax[2],TF,TF],'b--')\n",
    "    plt.text(xF,ax[2],'$x_F$',size=20)\n",
    "    plt.text(0.01,TF+5,'$T_F$',size=20)\n",
    "    \n",
    "    plt.plot(xF,Tdew,'kD',ms=8)\n",
    "    plt.plot(xF,Tbub,'kD',ms=8)\n",
    "    \n",
    "    if (TF>=Tbub):\n",
    "        plt.plot(y(TF),TF,'go',ms=7)\n",
    "        plt.plot([xF,y(TF),y(TF)],[TF,TF,ax[2]],'g--')\n",
    "        plt.text(y(TF),ax[2],'$y=${:.2f}'.format(y(TF)),size=15)\n",
    "    if (TF<=Tdew):\n",
    "        plt.plot(x(TF),TF,'ro',ms=7)\n",
    "        plt.plot([xF,x(TF),x(TF)],[TF,TF,ax[2]],'r--')\n",
    "        plt.text(x(TF),ax[2],'$x=${:.2f}'.format(x(TF)),size=15)\n",
    "    plt.show()\n",
    "    print(\"Tbub  {:.1f} °C\".format(Tbub[0]))\n",
    "    print(\"Tdew  {:.1f} °C\".format(Tdew[0]))"
   ]
  },
  {
   "cell_type": "code",
   "execution_count": 154,
   "metadata": {},
   "outputs": [
    {
     "data": {
      "application/vnd.jupyter.widget-view+json": {
       "model_id": "43ba0ce99d824406b45d201bc8f2b594",
       "version_major": 2,
       "version_minor": 0
      },
      "text/plain": [
       "interactive(children=(Dropdown(description='FluidA', options=('Acetona', 'Acetonitrilo', 'Acido Acetico', 'Agu…"
      ]
     },
     "metadata": {},
     "output_type": "display_data"
    }
   ],
   "source": [
    "@interact(FluidA=Psat.keys(),FluidB=Psat.keys(),Pext=(0.2,5.0),xF=(0.0,1.0),TF=(0.0,300.0),xB=(0.000,0.200),xD=(0.8,1.0),Rext=(0.0,100.0))\n",
    "def check(FluidA='Acetona', FluidB='Fenol',Pext=1.0,xF=0.5,TF=100.0,xB=0.1,xD=0.9,Rext=3.0):\n",
    "    P=Pext*760\n",
    "    print(\"{:12s}  {:.1f} °C\".format(FluidA,Tsat[FluidA](P)))\n",
    "    print(\"{:12s}  {:.1f} °C\".format(FluidB,Tsat[FluidB](P)))\n",
    "    x = lambda T: (P-Psat[FluidB](T))/(Psat[FluidA](T)-Psat[FluidB](T))\n",
    "    y = lambda T: x(T)*Psat[FluidA](T)/P\n",
    "    T = np.linspace(Tsat[FluidA](P),Tsat[FluidB](P))\n",
    "    plt.figure(figsize=(7,7),dpi=200)\n",
    "    plt.plot([x(T) for T in T],[y(T) for T in T], color='black')\n",
    "    plt.plot([0,1],[0,1],color='black',linestyle='--')\n",
    "    plt.axis('equal')\n",
    "\n",
    "    plt.title('Diagrama x-y para {:s}/{:s} a P = {:.1f} atm'.format(FluidA,FluidB,Pext))\n",
    "    plt.xlabel('Fraccion molar de {:s} en el Líquido'.format(FluidA))\n",
    "    plt.ylabel('Fraccion molar de {:s} en el Vapor'.format(FluidA))\n",
    "\n",
    "    plt.xlim(0,1)\n",
    "    plt.ylim(0,1)\n",
    "    plt.minorticks_on()\n",
    "    plt.grid(linewidth=1, which='both')\n"
   ]
  },
  {
   "cell_type": "code",
   "execution_count": null,
   "metadata": {},
   "outputs": [],
   "source": []
  }
 ],
 "metadata": {
  "kernelspec": {
   "display_name": "Python 3",
   "language": "python",
   "name": "python3"
  },
  "language_info": {
   "codemirror_mode": {
    "name": "ipython",
    "version": 3
   },
   "file_extension": ".py",
   "mimetype": "text/x-python",
   "name": "python",
   "nbconvert_exporter": "python",
   "pygments_lexer": "ipython3",
   "version": "3.7.2"
  }
 },
 "nbformat": 4,
 "nbformat_minor": 2
}
