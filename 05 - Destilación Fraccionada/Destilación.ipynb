{
 "cells": [
  {
   "cell_type": "markdown",
   "metadata": {
    "slideshow": {
     "slide_type": "slide"
    }
   },
   "source": [
    "<img style=\"float: right;\" src=\"img/column.png\" width=\"250\">\n",
    "\n",
    "<figure>\n",
    "    <a href=\"http://www.upm.es\">\n",
    "    <img style=\"float: right;\" src=\"img/UPMLogo.png\" width=\"100\">\n",
    "    </a>\n",
    "</figure>\n",
    "\n",
    "# Destilación fraccionada\n",
    "# Método de McCabe-Thiele\n",
    "\n",
    "#### © **[Jorge Ramírez](http://blogs.upm.es/compsoftmatter/)**, **[Universidad Politécnica de Madrid](http://www.upm.es)**, 2019"
   ]
  },
  {
   "cell_type": "markdown",
   "metadata": {
    "slideshow": {
     "slide_type": "slide"
    }
   },
   "source": [
    "En esta unidad vamos a repasar algunos conceptos básicos sobre presión de vapor y volatilidad de sustancias puras y mezclas binarias ideales. Después, utilizaremos esa información para resolver dos problemas de destilación que aparecen con frecuencia en Ingeniería Química:\n",
    "\n",
    "- Destilación Flash\n",
    "- Destilación fraccionada"
   ]
  },
  {
   "cell_type": "markdown",
   "metadata": {
    "slideshow": {
     "slide_type": "fragment"
    }
   },
   "source": [
    "Comenzamos cargando algunas de las librerías que utilizaremos en esta presentación."
   ]
  },
  {
   "cell_type": "code",
   "execution_count": 2,
   "metadata": {
    "slideshow": {
     "slide_type": "fragment"
    }
   },
   "outputs": [],
   "source": [
    "import numpy as np\n",
    "%matplotlib inline\n",
    "import matplotlib.pyplot as plt\n",
    "from scipy.optimize import fsolve\n",
    "from ipywidgets import interact, interactive, fixed, interact_manual, widget, widgets, Layout, HBox, VBox"
   ]
  },
  {
   "cell_type": "markdown",
   "metadata": {
    "slideshow": {
     "slide_type": "slide"
    }
   },
   "source": [
    "## Presión de Vapor de sustancias puras: Ecuación de Antoine\n",
    "\n",
    "La ecuación de Antoine es una correlación semi-empírica que describe la dependencia de la presión de vapor con la temperatura para líquidos puros. Está dada por la expresión:\n",
    "$$ \\log_{10} P=A-\\frac{B}{C+T} $$\n",
    "\n",
    "Donde $A$, $B$ y $C$ tienen valores constantes que dependen de la sustancia que se esté considerando. Típicamente, la ecuación de Antoine está definida para un determinado intervalo de temperatura $[T_1, T_2]$ y es importante no salirse de dicho intervalo. En esta presentación, no tendremos en cuenta los intervalos de validez.\n",
    "\n",
    "Vamos a tomar de la base de datos de **[DDBST](http://ddbonline.ddbst.com/AntoineCalculation/AntoineCalculationCGI.exe)** los valores de las constantes de la ecuación de Antoine para una serie de sustancias. Para definir la ecuación de Antoine para cada sustancia, utilizamos un **diccionario** y definimos las funciones mediante la notación **lambda** (las temperaturas están dadas en $\\circ$C y las presiones en mmHg):"
   ]
  },
  {
   "cell_type": "code",
   "execution_count": 3,
   "metadata": {
    "slideshow": {
     "slide_type": "subslide"
    }
   },
   "outputs": [],
   "source": [
    "# Create a dictionary with the Antoine Equation for each of the components\n",
    "Psat = dict()\n",
    "Psat['Acetona'] = lambda T: 10**(7.1327 - 1219.97/(T + 230.653))\n",
    "Psat['Acetonitrilo'] = lambda T: 10**(7.33986 - 1482.29/(T + 250.523))\n",
    "Psat['Acido Acetico'] = lambda T: 10**(7.2996 - 1479.02/(T + 216.82))\n",
    "Psat['Agua'] = lambda T: 10**(8.07131 - 1730.63/(T + 233.426))\n",
    "Psat['Etanol'] = lambda T: 10**( 8.20417 - 1642.89/(T + 230.3))\n",
    "Psat['Etilenglicol'] = lambda T: 10**( 8.7945 - 2615.4/(T + 244.91))\n",
    "Psat['Fenol'] = lambda T: 10**( 7.1345 - 1516.07/(T + 174.57))\n",
    "Psat['isopropyl-alcohol'] = lambda T: 10**( 8.1182 - 1580.92/(T + 219.62))"
   ]
  },
  {
   "cell_type": "markdown",
   "metadata": {
    "slideshow": {
     "slide_type": "subslide"
    }
   },
   "source": [
    "A continuación, inspeccionamos cómo varía la presión de vapor para dos de las sustancias escogidas con respecto a la temperatura:"
   ]
  },
  {
   "cell_type": "code",
   "execution_count": 5,
   "metadata": {
    "slideshow": {
     "slide_type": "fragment"
    }
   },
   "outputs": [
    {
     "data": {
      "application/vnd.jupyter.widget-view+json": {
       "model_id": "ba137ce080084480b3de42132a6a5e38",
       "version_major": 2,
       "version_minor": 0
      },
      "text/plain": [
       "interactive(children=(Dropdown(description='FluidA', options=('Acetona', 'Acetonitrilo', 'Acido Acetico', 'Agu…"
      ]
     },
     "metadata": {},
     "output_type": "display_data"
    }
   ],
   "source": [
    "@interact(FluidA=Psat.keys(),FluidB=Psat.keys())\n",
    "def check(FluidA='Acetona', FluidB='Agua'):\n",
    "    T = np.linspace(200,350,100)\n",
    "    plt.figure(2,figsize=(6, 4), dpi= 100)    \n",
    "    plt.plot(T,Psat[FluidA](T),color='black',label=FluidA)\n",
    "    plt.plot(T,Psat[FluidB](T),color='red',label=FluidB)\n",
    "    plt.xlabel('T $\\circ$C')\n",
    "    plt.ylabel('$P^0$ [mmHg]')\n",
    "    plt.legend()\n",
    "    plt.minorticks_on()\n",
    "    plt.grid(linewidth=1, which='both')\n",
    "    plt.show()"
   ]
  },
  {
   "cell_type": "markdown",
   "metadata": {
    "slideshow": {
     "slide_type": "subslide"
    }
   },
   "source": [
    "A partir de la **presión de vapor**, se puede determinar la **temperatura de ebullición** de un fluido puro como aquella temperatura $T$ a la que su presión de vapor del fluido se hace igual a la presión exterior. Podemos buscar dicha solución mediante la función **fsolve**. Podemos comprobar la precisión de la ecuación de Antoine para el agua:"
   ]
  },
  {
   "cell_type": "code",
   "execution_count": 14,
   "metadata": {
    "slideshow": {
     "slide_type": "fragment"
    }
   },
   "outputs": [
    {
     "name": "stdout",
     "output_type": "stream",
     "text": [
      "Seleccione un fluido y especifique una presión en atmósferas:\n"
     ]
    },
    {
     "data": {
      "application/vnd.jupyter.widget-view+json": {
       "model_id": "da5c67ed43c84fd283cb8771ade9f7c0",
       "version_major": 2,
       "version_minor": 0
      },
      "text/plain": [
       "interactive(children=(Dropdown(description='f', index=3, options=('Acetona', 'Acetonitrilo', 'Acido Acetico', …"
      ]
     },
     "metadata": {},
     "output_type": "display_data"
    }
   ],
   "source": [
    "Tsat = dict()\n",
    "for s in Psat.keys():\n",
    "    Tsat[s] = lambda P, s=s: fsolve(lambda T: Psat[s](T)-P,50)[0]\n",
    "    \n",
    "print(\"Seleccione un fluido y especifique una presión en atmósferas:\")\n",
    "    \n",
    "@interact(f=Tsat.keys(),P=(0.1,5.0))\n",
    "def getTeb(f='Agua', P=1):\n",
    "    print(\"Punto de ebullición del %s : %.3f\"%(f,Tsat[f](P*760)))"
   ]
  },
  {
   "cell_type": "markdown",
   "metadata": {
    "slideshow": {
     "slide_type": "subslide"
    }
   },
   "source": [
    "También podemos comparar, de forma gráfica, las temperaturas de ebullición de dos fluidos diferentes en función de la Presión exterior (en atmósferas):"
   ]
  },
  {
   "cell_type": "code",
   "execution_count": 17,
   "metadata": {
    "slideshow": {
     "slide_type": "fragment"
    }
   },
   "outputs": [
    {
     "data": {
      "application/vnd.jupyter.widget-view+json": {
       "model_id": "0270fbf0815f47a58d16500153726658",
       "version_major": 2,
       "version_minor": 0
      },
      "text/plain": [
       "interactive(children=(Dropdown(description='FluidA', options=('Acetona', 'Acetonitrilo', 'Acido Acetico', 'Agu…"
      ]
     },
     "metadata": {},
     "output_type": "display_data"
    }
   ],
   "source": [
    "@interact(FluidA=Psat.keys(),FluidB=Psat.keys())\n",
    "def check(FluidA='Acetona', FluidB='Agua'):\n",
    "    P = np.linspace(100,5000,100)\n",
    "    TA=np.zeros(len(P))\n",
    "    TB=np.zeros(len(P))\n",
    "    for i in range(len(P)):\n",
    "        TA[i]=Tsat[FluidA](P[i])\n",
    "        TB[i]=Tsat[FluidB](P[i])\n",
    "    plt.figure(2,figsize=(6, 4), dpi= 100)    \n",
    "    plt.plot(P/760,TA,color='black',label=FluidA)\n",
    "    plt.plot(P/760,TB,color='red',label=FluidB)\n",
    "    plt.xlabel('$P_{ext}$ [atm]')\n",
    "    plt.ylabel('T [$\\circ$C]')\n",
    "    plt.legend()\n",
    "    plt.minorticks_on()\n",
    "    plt.grid(linewidth=1, which='both')\n",
    "    plt.show()"
   ]
  },
  {
   "cell_type": "markdown",
   "metadata": {
    "slideshow": {
     "slide_type": "slide"
    }
   },
   "source": [
    "## Mezclas binarias ideales: Ley de Raoult y diagrama P-x\n",
    "\n",
    "La **ley de Raoult** supone que, en una **mezcla ideal** de dos líquidos, la presión de vapor de cada uno de los componentes de la mezcla es **proporcional** a su **fracción molar** dentro de la disolución:\n",
    "\n",
    "$$P_i = P_i^0 x_i$$\n",
    "\n",
    "Utilizando esta definición, podemos representar la presión de vapor de una mezcla binaria de dos sustancias A y B.\n",
    "\n",
    "**NOTA**: En realidad, las mezclas no suelen ser ideales y suelen presentar desviaciones con respecto a la ley de Raoult."
   ]
  },
  {
   "cell_type": "code",
   "execution_count": 18,
   "metadata": {
    "slideshow": {
     "slide_type": "subslide"
    }
   },
   "outputs": [
    {
     "data": {
      "application/vnd.jupyter.widget-view+json": {
       "model_id": "820648226a7445efa5eeaf76b9166257",
       "version_major": 2,
       "version_minor": 0
      },
      "text/plain": [
       "interactive(children=(Dropdown(description='FluidA', options=('Acetona', 'Acetonitrilo', 'Acido Acetico', 'Agu…"
      ]
     },
     "metadata": {},
     "output_type": "display_data"
    }
   ],
   "source": [
    "@interact(FluidA=Psat.keys(),FluidB=Psat.keys(),T=(200,400))\n",
    "def check(FluidA='Acetona', FluidB='Agua',T=298.15):\n",
    "    plt.figure(2,figsize=(6, 4), dpi= 100)    \n",
    "    PA=Psat[FluidA](T)\n",
    "    PB=Psat[FluidB](T)\n",
    "    x=np.linspace(0,1,100)\n",
    "    plt.plot(x,PA*x,color='blue',label=\"$P^0_{\"+FluidA+\"}$\")\n",
    "    plt.plot(x,PB*(1-x),color='red',label=\"$P^0_{\"+FluidB+\"}$\")\n",
    "    plt.plot(x,PB*(1-x)+PA*x,color='black',label=\"$P^0_{TOTAL}$\")\n",
    "    plt.xlabel(\"$x_{\"+FluidA+\"}$\")\n",
    "    plt.ylabel('$P$ [mmHg]')\n",
    "    plt.legend()\n",
    "    plt.minorticks_on()\n",
    "    plt.grid(linewidth=1, which='both')\n",
    "    plt.xlim(0,1)\n",
    "    plt.ylim(0,1.1*max(PA,PB))\n",
    "    plt.show()"
   ]
  },
  {
   "cell_type": "markdown",
   "metadata": {
    "slideshow": {
     "slide_type": "slide"
    }
   },
   "source": [
    "## Diagramas T-x: Destilación Flash\n",
    "\n",
    "<img style=\"float: right;\" src=\"img/Vap-Liq_Separator.png\" width=\"200\">\n",
    "\n",
    "La **destilación Flash** es una **operación unitaria** en la que una **mezcla líquida saturada** se introduce en un tanque a **menor presión**, en el que se separa en dos fases, un vapor y un líquido enriquecidos en el componente más volátil y menos volátil, respectivamente. La presión $P$ y temperatura $T$ dentro del tanque se deben elegir cuidadosamente para optimizar la separación.\n",
    "\n",
    "El punto de ebullición de la mezcla líquida binaria será la temperatura a la que la presión de vapor de la mezcla se haga igual a la presión exterior. \n",
    "\n",
    "$$ P_{ext} = P_A^0(T)x_A + P_B^0(T)(1-x_A) $$\n",
    "\n",
    "Si conocemos la temperatura $T$, podemos determinar la composición de la mecla que tendrá dicha temperatura de ebullición. Despejando $x_A$ de la ecuación anterior:\n",
    "$$ x_A = \\frac{P_{ext}-P_B^0(T)}{P_A^0(T)-P_B^0(T)},$$\n",
    "así comola composición del vapor que se desprenderá a esa temperatura:\n",
    "$$ y_A = \\frac{x_A P_A^0(T)}{P_{ext}}$$"
   ]
  },
  {
   "cell_type": "markdown",
   "metadata": {
    "slideshow": {
     "slide_type": "subslide"
    }
   },
   "source": [
    "Primero, vamos a explorar qué forma tienen los diagramas **T-x** (temperatura-composición) para mezclas ideales de fluidos, en función de la presión exterior $P$ y de la composición de la mezcla."
   ]
  },
  {
   "cell_type": "code",
   "execution_count": 25,
   "metadata": {
    "slideshow": {
     "slide_type": "fragment"
    }
   },
   "outputs": [
    {
     "data": {
      "application/vnd.jupyter.widget-view+json": {
       "model_id": "2ad2e0d32b7f46e08f283a47d35a9047",
       "version_major": 2,
       "version_minor": 0
      },
      "text/plain": [
       "interactive(children=(Dropdown(description='FluidA', options=('Acetona', 'Acetonitrilo', 'Acido Acetico', 'Agu…"
      ]
     },
     "metadata": {},
     "output_type": "display_data"
    }
   ],
   "source": [
    "@interact(FluidA=Psat.keys(),FluidB=Psat.keys(),Pext=(0.2,5.0))\n",
    "def check(FluidA='Acetona', FluidB='Agua',Pext=1.0):\n",
    "    P=Pext*760\n",
    "    x = lambda T: (P-Psat[FluidB](T))/(Psat[FluidA](T)-Psat[FluidB](T))\n",
    "    y = lambda T: x(T)*Psat[FluidA](T)/P\n",
    "    plt.figure(2,figsize=(6, 4), dpi= 100)\n",
    "    T = np.linspace(Tsat[FluidA](P),Tsat[FluidB](P))\n",
    "    plt.plot([x(T) for T in T],T,color='black')\n",
    "    plt.plot([y(T) for T in T],T,color='black')\n",
    "    plt.xlabel(\"$x_{\"+FluidA+\"}$\")\n",
    "    plt.ylabel('Temperatura $^\\circ$C')\n",
    "    plt.title('Diagrama Txy para {:s}/{:s} a P = {:.0f} atm'.format(FluidA,FluidB,P))\n",
    "    Tmid=0.5*(Tsat[FluidA](P)+Tsat[FluidB](P))\n",
    "    plt.text(x(Tmid),Tmid-5,'L',size=15)\n",
    "    plt.text(y(Tmid),Tmid+5,'V',size=15)\n",
    "    plt.minorticks_on()\n",
    "    plt.grid(linewidth=1, which='both')\n",
    "    plt.xlim(0,1)\n",
    "    plt.show()"
   ]
  },
  {
   "cell_type": "markdown",
   "metadata": {
    "slideshow": {
     "slide_type": "subslide"
    }
   },
   "source": [
    "Con esa información, vamos a intentar **resolver un problema de destilación Flash** en el que conocemos: \n",
    "\n",
    "- Los dos fluidos A y B (intentaremos seleccionar A como el más volátil)\n",
    "- La composición $x_F$ y caudal $F$ de la mezcla que se alimenta al destilador.\n",
    "- La Temperatura $T$ y presión $P$ dentro del destilador."
   ]
  },
  {
   "cell_type": "code",
   "execution_count": 35,
   "metadata": {
    "slideshow": {
     "slide_type": "fragment"
    }
   },
   "outputs": [
    {
     "data": {
      "application/vnd.jupyter.widget-view+json": {
       "model_id": "6930da3e93f944e58ebbe4050987c1d6",
       "version_major": 2,
       "version_minor": 0
      },
      "text/plain": [
       "interactive(children=(Dropdown(description='FluidA', options=('Acetona', 'Acetonitrilo', 'Acido Acetico', 'Agu…"
      ]
     },
     "metadata": {},
     "output_type": "display_data"
    }
   ],
   "source": [
    "@interact(FluidA=Psat.keys(),FluidB=Psat.keys(),Pext=(0.2,5.0),xF=(0.0,1.0),TF=(0.0,300.0),F=(20,200))\n",
    "def check(FluidA='Acetona', FluidB='Agua',Pext=1.0,xF=0.5,TF=100.0,F=100.0):\n",
    "    P=Pext*760\n",
    "    x = lambda T: (P-Psat[FluidB](T))/(Psat[FluidA](T)-Psat[FluidB](T))\n",
    "    y = lambda T: x(T)*Psat[FluidA](T)/P\n",
    "    plt.figure(2,figsize=(6, 4), dpi= 100)\n",
    "    T = np.linspace(Tsat[FluidA](P),Tsat[FluidB](P))\n",
    "    plt.plot([x(T) for T in T],T,color='black')\n",
    "    plt.plot([y(T) for T in T],T,color='black')\n",
    "    plt.xlabel(\"$x_{\"+FluidA+\"}$\")\n",
    "    plt.ylabel('Temperatura $^\\circ$C')\n",
    "    plt.title('Diagrama Txy para {:s}/{:s} a P = {:.1f} atm'.format(FluidA,FluidB,Pext))\n",
    "    plt.minorticks_on()\n",
    "    plt.grid(linewidth=1, which='both')\n",
    "    plt.xlim(0,1)\n",
    "\n",
    "    Tdew = fsolve(lambda T: y(T)-xF, 138)\n",
    "    Tbub = fsolve(lambda T: x(T)-xF, 0.01)\n",
    "    \n",
    "    ax = plt.axis()\n",
    "    plt.plot(xF,TF,'kx',ms=8)\n",
    "    plt.plot([xF,xF,0],[ax[2],TF,TF],'b--')\n",
    "    plt.text(xF,ax[2],'$x_F$',size=20)\n",
    "    plt.text(0.01,TF+1,'$T_F$',size=15)\n",
    "    \n",
    "    plt.plot(xF,Tdew,'kD',ms=8)\n",
    "    plt.plot(xF,Tbub,'kD',ms=8)\n",
    "    \n",
    "    if (TF>=Tbub and TF<=Tdew):\n",
    "        plt.plot(y(TF),TF,'go',ms=7)\n",
    "        plt.plot([xF,y(TF),y(TF)],[TF,TF,ax[2]],'g--')\n",
    "        plt.text(y(TF),ax[2],'$y=${:.2f}'.format(y(TF)),size=15)\n",
    "        plt.plot(x(TF),TF,'ro',ms=7)\n",
    "        plt.plot([xF,x(TF),x(TF)],[TF,TF,ax[2]],'r--')\n",
    "        plt.text(x(TF),ax[2],'$x=${:.2f}'.format(x(TF)),size=15,horizontalalignment='right')\n",
    "    plt.show()\n",
    "    \n",
    "    L=F*(y(TF)-xF)/(y(TF)-x(TF))\n",
    "    V=F-L\n",
    "    print(\"L = %.3f - V = %.3f\"%(L, V))\n",
    "    print(\"Tburbuja  {:.1f} °C - Trocio {:.1f} °C\".format(Tbub[0],Tdew[0]))"
   ]
  },
  {
   "cell_type": "markdown",
   "metadata": {
    "slideshow": {
     "slide_type": "slide"
    }
   },
   "source": [
    "<img style=\"float: right;\" src=\"img/column.png\" width=\"250\">\n",
    "\n",
    "## Diagramas y-x: Destilación Fraccionada - Metodo de McCabe-Thiele\n",
    "\n",
    "Mediante destilación Flash, no es posible la separación completa de los componentes de una mezcla ideal. Para ello, es necesario hacer uso de la destilación fraccionada. \n",
    "\n",
    "En este tipo de operación, es más práctico trabajar con el diagrama **y-x** (composición del vapor frente a composición del líquido, con respecto al componente más volátil). \n",
    "\n",
    "Podemos explorar qué pinta tienen estos diagramas **y-x** para pares de fluidos de nuestra biblioteca (seleccionar el fluido **más volátil** como el **FluidoA**), en función de la presión a la que trabaja la columna."
   ]
  },
  {
   "cell_type": "code",
   "execution_count": 39,
   "metadata": {
    "slideshow": {
     "slide_type": "subslide"
    }
   },
   "outputs": [
    {
     "data": {
      "application/vnd.jupyter.widget-view+json": {
       "model_id": "39a39b5dd50646c6b8fc7b24892713e1",
       "version_major": 2,
       "version_minor": 0
      },
      "text/plain": [
       "interactive(children=(Dropdown(description='FluidA', options=('Acetona', 'Acetonitrilo', 'Acido Acetico', 'Agu…"
      ]
     },
     "metadata": {},
     "output_type": "display_data"
    }
   ],
   "source": [
    "@interact(FluidA=Psat.keys(),FluidB=Psat.keys(),Pext=(0.2,5.0))\n",
    "def check(FluidA='Acetona', FluidB='Agua',Pext=1.0):\n",
    "    P=Pext*760\n",
    "    x = lambda T: (P-Psat[FluidB](T))/(Psat[FluidA](T)-Psat[FluidB](T))\n",
    "    y = lambda T: x(T)*Psat[FluidA](T)/P\n",
    "    T = np.linspace(Tsat[FluidA](P),Tsat[FluidB](P))\n",
    "    plt.figure(figsize=(5,5),dpi=100)\n",
    "    plt.plot([x(T) for T in T],[y(T) for T in T], color='black')\n",
    "    plt.plot([0,1],[0,1],color='black',linestyle='--')\n",
    "    plt.axis('equal')\n",
    "\n",
    "    plt.title('Diagrama x-y para {:s}/{:s} a P = {:.1f} atm'.format(FluidA,FluidB,Pext))\n",
    "    plt.xlabel(\"$x_{\"+FluidA+\"}$\")\n",
    "    plt.ylabel(\"$y_{\"+FluidA+\"}$\")\n",
    "\n",
    "    plt.xlim(0,1)\n",
    "    plt.ylim(0,1)\n",
    "    plt.minorticks_on()\n",
    "    plt.grid(linewidth=1, which='both')\n"
   ]
  },
  {
   "cell_type": "markdown",
   "metadata": {
    "slideshow": {
     "slide_type": "subslide"
    }
   },
   "source": [
    "### Método de McCabe y Thiele\n",
    "\n",
    "Se desea separar los componentes de una mezcla binaria ideal de composición $x_F$ (en el componente más volátil) en dos corrientes, una enriquecida en el componente más volátil ($x_D$) y otra empobrecida (de composición $x_B$).\n",
    "El método de McCabe y Thiele es un método gráfico que permite diseñar y dimensionar operaciones de destilación fraccionada de forma sencilla, intuitiva e instructiva. El método precisa que tracemos tres rectas en el diagrama **y-x**:\n",
    "\n",
    "- La **recta de alimentación**: pasa por el punto $(x_F, x_F)$ y la pendiente depende del estado en el que entra la alimentación a la columna (como líquido saturado, líquido subenfriado, vapor saturado, etc). \n",
    "\n",
    "- La **recta de operación de la zona de rectificación**: pasa por el punto  $(x_D, x_D)$ y proporciona la relación entre las composiciones del líquido que desciende desde un plato superior y la del vapor que asciende desde un plato inferior, en la zona de la columna por encima de la alimentación.\n",
    "\n",
    "- La **recta de operación de la zona de agotamiento**: pasa por el punto  $(x_B, x_B)$, igual que la anterior pero para la zona de la columna por debajo de la alimentación."
   ]
  },
  {
   "cell_type": "markdown",
   "metadata": {
    "slideshow": {
     "slide_type": "subslide"
    }
   },
   "source": [
    "Para trazar la recta de alimentación, necesitamos saber la $T_{burbuja}$, $T_{rocio}$, $C_p$(L) y $C_p$(V) de cada fluido puro y $\\Delta H_{vap}$ de cada fluido puro."
   ]
  },
  {
   "cell_type": "code",
   "execution_count": 40,
   "metadata": {
    "slideshow": {
     "slide_type": "fragment"
    }
   },
   "outputs": [],
   "source": [
    "Hvap = dict()\n",
    "Hvap['Acetona'] = 31300\n",
    "Hvap['Acetonitrilo'] = 33225\n",
    "Hvap['Acido Acetico'] = 23700\n",
    "Hvap['Agua'] = 40660\n",
    "Hvap['Etanol'] = 38600\n",
    "Hvap['Etilenglicol'] = 53200\n",
    "Hvap['Fenol'] = 58800\n",
    "Hvap['isopropyl-alcohol'] = 44000\n",
    "\n",
    "cPLiq = dict()\n",
    "cPLiq['Acetona'] = 125.5\n",
    "cPLiq['Acetonitrilo'] = 91.7\n",
    "cPLiq['Acido Acetico'] = 123.1\n",
    "cPLiq['Agua'] = 75.327\n",
    "cPLiq['Etanol'] = 112.4\n",
    "cPLiq['Etilenglicol'] = 37.8\n",
    "cPLiq['Fenol'] = 138.0\n",
    "cPLiq['isopropyl-alcohol'] = 160.8 \n",
    "\n",
    "cPVap = dict()\n",
    "cPVap['Acetona'] = 75\n",
    "cPVap['Acetonitrilo'] = 80 \n",
    "cPVap['Acido Acetico'] = 63.4\n",
    "cPVap['Agua'] = 37.47\n",
    "cPVap['Etanol'] = 82.0\n",
    "cPVap['Etilenglicol'] = 23.0\n",
    "cPVap['Fenol'] = 145.52\n",
    "cPVap['isopropyl-alcohol'] = 92.4\n"
   ]
  },
  {
   "cell_type": "markdown",
   "metadata": {
    "slideshow": {
     "slide_type": "subslide"
    }
   },
   "source": [
    "Una vez establecida la especificación, podemos explorar cómo afectan los diferentes parámetros de la destilación al número de etapas necesarias para llevarla a cabo. Para ello, hay que seleccionar:\n",
    "\n",
    "- Fluidos que queremos separar (seleccione el **FluidoA** como el **más volátil** de los dos).\n",
    "- Especificación de la operación (composición de la alimentación $x_F$, composición de la corriente de destilado $x_D$ y de la de fondo $x_B$).\n",
    "- Relación de reflujo externa $R_{ext}$ a utilizar.\n",
    "- Temperatura a la que entra la alimentacion ($T_F$).\n",
    "- Presión a la que trabaja la columna ($P$)."
   ]
  },
  {
   "cell_type": "code",
   "execution_count": 43,
   "metadata": {
    "slideshow": {
     "slide_type": "fragment"
    }
   },
   "outputs": [
    {
     "data": {
      "application/vnd.jupyter.widget-view+json": {
       "model_id": "c78030dd56684a0e80ec08c96c848b89",
       "version_major": 2,
       "version_minor": 0
      },
      "text/plain": [
       "VBox(children=(HBox(children=(Dropdown(description='FluidA', options=('Acetona', 'Acetonitrilo', 'Acido Acetic…"
      ]
     },
     "metadata": {},
     "output_type": "display_data"
    }
   ],
   "source": [
    "def check(FluidA='Acetona', FluidB='Agua',Pext=1.0,TF=100.0,xF=0.5,xB=0.1,xD=0.9,Rext=3.0):\n",
    "    P=Pext*760\n",
    "    x = lambda T: (P-Psat[FluidB](T))/(Psat[FluidA](T)-Psat[FluidB](T))\n",
    "    y = lambda T: x(T)*Psat[FluidA](T)/P\n",
    "    T = np.linspace(Tsat[FluidA](P),Tsat[FluidB](P))\n",
    "    plt.figure(figsize=(5,5),dpi=100)\n",
    "    xT=x(T)\n",
    "    yT=y(T)\n",
    "    p=xT.argsort()\n",
    "    xT=xT[p]\n",
    "    yT=yT[p]\n",
    "    plt.plot(xT,yT, color='black')\n",
    "    plt.plot([0,1],[0,1],color='black',linestyle='--')\n",
    "    plt.axis('equal')\n",
    "\n",
    "    # RECTA Q\n",
    "    Tdew = fsolve(lambda T: y(T)-xF, 138)[0]\n",
    "    Tbub = fsolve(lambda T: x(T)-xF, 0.01)[0]\n",
    "    \n",
    "    Hvapmix=xF*Hvap[FluidA]+(1-xF)*Hvap[FluidB]\n",
    "    cPVapmix=xF*cPVap[FluidA]+(1-xF)*cPVap[FluidB]\n",
    "    cPLiqmix=xF*cPLiq[FluidA]+(1-xF)*cPLiq[FluidB]\n",
    "    \n",
    "    if (TF>Tdew):\n",
    "        q = -(TF-Tdew)*(cPVapmix)/Hvapmix\n",
    "    elif (TF>Tbub):\n",
    "        q = (Tdew-TF)/(Tdew-Tbub)\n",
    "    else:\n",
    "        q = (Hvapmix+(Tbub-TF)*cPLiqmix)/Hvapmix\n",
    "    \n",
    "    yq=-xT*q/(1-q)+xF/(1-q)\n",
    "\n",
    "    #Intersection occurs between points itemindex and itemindex+1\n",
    "    itemindex = np.argwhere(np.diff(np.sign(yq - yT))).flatten()\n",
    "    a1=np.array([xT[itemindex][0],yq[itemindex][0]])\n",
    "    a2=np.array([xT[itemindex+1][0],yq[itemindex+1][0]])\n",
    "    b1=np.array([xT[itemindex][0],yT[itemindex][0]])\n",
    "    b2=np.array([xT[itemindex+1][0],yT[itemindex+1][0]])\n",
    "    da = a2-a1\n",
    "    db = b2-b1\n",
    "    dp = a1-b1\n",
    "    dap = np.empty_like(da)\n",
    "    dap[0] = -da[1]\n",
    "    dap[1] = da[0]\n",
    "    denom = np.dot( dap, db)\n",
    "    num = np.dot( dap, dp )\n",
    "    intersec=(num / denom.astype(float))*db + b1    \n",
    "    plt.plot([xF,intersec[0]],[xF,intersec[1]],color='blue')\n",
    "    plt.plot(intersec[0],intersec[1],'ko',ms=5)\n",
    "\n",
    "    # RECTA DE OPERACION DE ALIMENTACION (REFLUJO MINIMO)\n",
    "    plt.plot([xD, intersec[0]], [xD,intersec[1]], 'c--')\n",
    "    Rextmin=(intersec[1]-xD)/(intersec[0]-intersec[1])\n",
    "    \n",
    "    if (Rext<Rextmin):\n",
    "        print('Reflujo menor que el mínimo permitido (%.2f)'%Rextmin)\n",
    "        return\n",
    "    \n",
    "    # RECTA DE OPERACION DE ALIMENTACION\n",
    "    plt.plot([xD,0],[xD,xD/(1+Rext)],'c-')\n",
    "    \n",
    "    # INTERSECCION RECTA DE OPERACION - RECTA DE ALIMENTACION\n",
    "    a1=np.array([xF,xF])\n",
    "    a2=intersec\n",
    "    b1=np.array([xD,xD])\n",
    "    b2=np.array([0,xD/(1+Rext)])\n",
    "    da = a2-a1\n",
    "    db = b2-b1\n",
    "    dp = a1-b1\n",
    "    dap = np.empty_like(da)\n",
    "    dap[0] = -da[1]\n",
    "    dap[1] = da[0]\n",
    "    denom = np.dot( dap, db)\n",
    "    num = np.dot( dap, dp )\n",
    "    intersec2=(num / denom.astype(float))*db + b1    \n",
    "    plt.plot(intersec2[0],intersec2[1],'mo',ms=5)\n",
    "    \n",
    "    # RECTA DE OPERACION - ZONA DE AGOTAMIENTO\n",
    "    plt.plot([xB,intersec2[0]],[xB,intersec2[1]])\n",
    "    S = (intersec2[1]-xB)/(intersec2[0]-xB)\n",
    "\n",
    "    plt.title('Diagrama x-y para {:s}/{:s} a P = {:.1f} atm'.format(FluidA,FluidB,Pext))\n",
    "    plt.xlabel(\"$x_{\"+FluidA+\"}$\")\n",
    "    plt.ylabel(\"$y_{\"+FluidA+\"}$\")\n",
    "\n",
    "    plt.plot(xF,xF,'go',ms=5)\n",
    "    plt.plot(xD,xD,'bo',ms=5)\n",
    "    plt.plot(xB,xB,'yo',ms=5)\n",
    "\n",
    "    # START McCabe-Thiele\n",
    "    xP = xD\n",
    "    yP = xD\n",
    "    nTray = 0\n",
    "\n",
    "    while xP > xB:\n",
    "        nTray += 1\n",
    "        Tdew = fsolve(lambda T:y(T) - yP, 100)\n",
    "        xQ = xP\n",
    "        xP = x(Tdew)\n",
    "        plt.plot([xQ,xP],[yP,yP],'r')\n",
    "        #plt.plot(xP,yP,'ro',ms=5)\n",
    "        plt.text(xP-0.03,yP,nTray)\n",
    "\n",
    "        yQ = yP\n",
    "        yP = min([xD - (Rext/(Rext+1))*(xD-xP),xB + S*(xP-xB)])\n",
    "        plt.plot([xP,xP],[yQ,yP],'r')\n",
    "        \n",
    "        plt.plot([xB,xB],[0,xB],'b--')\n",
    "        plt.plot([xF,xF],[0,xF],'b--')\n",
    "        plt.plot([xD,xD],[0,xD],'b--')\n",
    "        plt.text(xB,0.02,'$x_B$ = {:0.2f}'.format(float(xB)),horizontalalignment='center')\n",
    "        plt.text(xF,0.02,'$x_F$ = {:0.2f}'.format(float(xF)),horizontalalignment='center')\n",
    "        plt.text(xD,0.02,'$x_D$ = {:0.2f}'.format(float(xD)),horizontalalignment='center')\n",
    "    \n",
    "    plt.text(0.05,0.95,'{:d} etapas eq.'.format(int(nTray)),weight='bold')\n",
    "\n",
    "    plt.xlim(0,1)\n",
    "    plt.ylim(0,1)\n",
    "    plt.minorticks_on()\n",
    "    plt.grid(linewidth=1, which='both')\n",
    "\n",
    "    \n",
    "widget=interactive(check,FluidA=Psat.keys(),FluidB=Psat.keys(),\n",
    "          Pext=widgets.FloatSlider(value=1.0,min=0.2,max=5.0,step=0.1), \n",
    "          TF=widgets.FloatSlider(value=100,min=30,max=300,step=5), \n",
    "          xF=widgets.FloatSlider(value=0.5,min=0.1,max=0.9,step=0.01), \n",
    "          xB=widgets.FloatSlider(value=0.1,min=0.01,max=0.49,step=0.01), \n",
    "          xD=widgets.FloatSlider(value=0.9,min=0.51,max=0.99,step=0.01), \n",
    "          Rext=widgets.FloatSlider(value=3.0,min=0.1,max=5.0,step=0.1))\n",
    "controls = HBox(widget.children[:-1], layout = Layout(flex_flow='row wrap'))\n",
    "output = widget.children[-1]\n",
    "display(VBox([controls, output]))"
   ]
  },
  {
   "cell_type": "markdown",
   "metadata": {},
   "source": [
    "## Bibliografía - Otros Recursos\n",
    "\n",
    "- W.L. McCabe, J.C. Smith y P. Harriott, *Operaciones Unitarias en Ingeniería Química*, 7ª ed., McGraw Hill, 2007\n",
    "- J. Kantor, *[Introduction to Chemical Engineering Analysis](https://github.com/jckantor/CBE20255)*, curso CBE 20255, Universidad de Notre Dame, Indiana, EE.UU.\n",
    "- [LearnChemE](http://www.learncheme.com/simulations)"
   ]
  },
  {
   "cell_type": "code",
   "execution_count": null,
   "metadata": {},
   "outputs": [],
   "source": []
  }
 ],
 "metadata": {
  "kernelspec": {
   "display_name": "Python 3",
   "language": "python",
   "name": "python3"
  },
  "language_info": {
   "codemirror_mode": {
    "name": "ipython",
    "version": 3
   },
   "file_extension": ".py",
   "mimetype": "text/x-python",
   "name": "python",
   "nbconvert_exporter": "python",
   "pygments_lexer": "ipython3",
   "version": "3.7.2"
  },
  "toc-autonumbering": true
 },
 "nbformat": 4,
 "nbformat_minor": 2
}
