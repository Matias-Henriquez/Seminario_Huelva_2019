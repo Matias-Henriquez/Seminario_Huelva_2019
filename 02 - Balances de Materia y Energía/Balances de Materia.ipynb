{
 "cells": [
  {
   "cell_type": "markdown",
   "metadata": {
    "slideshow": {
     "slide_type": "slide"
    }
   },
   "source": [
    "<figure>\n",
    "    <a href=\"http://www.upm.es\">\n",
    "    <img style=\"float: right;\" src=\"img/UPMLogo.png\" width=\"100\">\n",
    "    </a>\n",
    "</figure>\n",
    "\n",
    "# Balances de Materia con Python\n",
    "\n",
    "#### © **[Jorge Ramírez](http://blogs.upm.es/compsoftmatter/)**, **[Universidad Politécnica de Madrid](http://www.upm.es)**, 2019\n",
    "\n",
    "<img style=\"float: right;\" src=\"img/balance.jpg\" width=\"400\">"
   ]
  },
  {
   "cell_type": "markdown",
   "metadata": {
    "slideshow": {
     "slide_type": "notes"
    }
   },
   "source": [
    "Los balances de materia en procesos químicos se pueden **expresar, analizar y resolver** fácilmente mediante **sistemas de ecuaciones algebraicas lineales**. El trabajo de traducir los datos del problema en ecuaciones algebraicas con los coeficientes correctos puede resultar **tedioso** y su solución puede dar lugar a **errores de cálculo**. Los sistemas de cálculo algebraico simbólico pueden ser muy útiles en este ámbito. \n",
    "\n",
    "En este ejercicio, se muestra mediante ejemplos cómo **resolver un problema balance de materia** en procesos con **una o varias etapas**, **con y sin reacción química** (típicos de un curso introductorio de Ingeniería Química), utilizando la librería **Sympy**."
   ]
  },
  {
   "cell_type": "markdown",
   "metadata": {
    "slideshow": {
     "slide_type": "slide"
    }
   },
   "source": [
    "## Balance en una unidad de mezcla - Dilución de NaOH\n",
    "\n",
    "### Enunciado\n",
    "\n",
    "Se desea preparar una disolución acuosa de NaOH (8% en masa) diluyendo una disolución al 20% en masa con agua pura. Calcular cuántos litros de $\\mathrm{H}_2\\mathrm{O}$ son necesarios y cuántos kg de disolución deseada son producidos por cada kg de la corriente de sosa de alimentación. \n",
    "\n",
    "**Ejemplo 4.3-3 R.M. Felder, Elementary Principles of Chemical Processes, 3rd Edition**"
   ]
  },
  {
   "cell_type": "markdown",
   "metadata": {
    "slideshow": {
     "slide_type": "subslide"
    }
   },
   "source": [
    "### Base de Cálculo, diagrama de flujo y ecuaciones de balance\n",
    "\n",
    "Elegimos una base de cálculo (100 kg de la disolución de alimentación al 20% en masa de NaOH). El diagrama de flujo con la información conocida y las incógnitas es:\n",
    "\n",
    "<img src=\"img/FlowChart1_Mixer.png\" width=\"400\">\n"
   ]
  },
  {
   "cell_type": "markdown",
   "metadata": {
    "slideshow": {
     "slide_type": "fragment"
    }
   },
   "source": [
    "Podemos escribir 3 ecuaciones de balance (una global y otra por cada una de las 2 sustancias que participan NaOH y $H_2O$). Solo dos de ellas serán independientes, elegimos escribir las ecuaciones de balance global y una en NaOH:\n",
    "$$ \\mathrm{GLOBAL}: 100 + m_1 = m_2 $$\n",
    "$$ \\mathrm{NaOH}: 100 \\cdot 0.2 = m_2 \\cdot 0.08 $$\n",
    "\n",
    "El sistema de ecuaciones es trivial, pero sirve de ejemplo para ilustrar cómo expresar un problema utilizando sympy."
   ]
  },
  {
   "cell_type": "markdown",
   "metadata": {
    "slideshow": {
     "slide_type": "subslide"
    }
   },
   "source": [
    "### Expresar el problema en Sympy\n",
    "Primero, importamos la libraría **sympy**. Necesitamos definir las variables simbólicas utilizando la función **var**:"
   ]
  },
  {
   "cell_type": "code",
   "execution_count": 1,
   "metadata": {
    "slideshow": {
     "slide_type": "fragment"
    }
   },
   "outputs": [],
   "source": [
    "import sympy as sym\n",
    "sym.init_printing()\n",
    "m1, m2 = sym.var('m1 m2')"
   ]
  },
  {
   "cell_type": "markdown",
   "metadata": {
    "slideshow": {
     "slide_type": "fragment"
    }
   },
   "source": [
    "Después, definimos las ecuaciones que deseamos resolver utilizando la función **Eq**:"
   ]
  },
  {
   "cell_type": "code",
   "execution_count": 3,
   "metadata": {
    "slideshow": {
     "slide_type": "fragment"
    }
   },
   "outputs": [
    {
     "data": {
      "image/png": "[encoded data removed]",
      "text/latex": [
       "$\\displaystyle m_{1} - m_{2} + 100 = 0$"
      ],
      "text/plain": [
       "m₁ - m₂ + 100 = 0"
      ]
     },
     "metadata": {},
     "output_type": "display_data"
    },
    {
     "data": {
      "image/png": "[encoded data removed]",
      "text/latex": [
       "$\\displaystyle 20.0 - 0.08 m_{2} = 0$"
      ],
      "text/plain": [
       "20.0 - 0.08⋅m₂ = 0"
      ]
     },
     "metadata": {},
     "output_type": "display_data"
    }
   ],
   "source": [
    "EqGlobal=sym.Eq(100+m1-m2)\n",
    "EqNaOH=sym.Eq(100*0.2-m2*0.08)\n",
    "display(EqGlobal)\n",
    "display(EqNaOH)"
   ]
  },
  {
   "cell_type": "markdown",
   "metadata": {
    "slideshow": {
     "slide_type": "subslide"
    }
   },
   "source": [
    "Finalmente, resolvemos el sistema de ecuaciones utilizando la función **solve** de **sympy**."
   ]
  },
  {
   "cell_type": "code",
   "execution_count": 4,
   "metadata": {
    "slideshow": {
     "slide_type": "fragment"
    }
   },
   "outputs": [
    {
     "name": "stdout",
     "output_type": "stream",
     "text": [
      "Variable m1  :    150.00\n",
      "Variable m2  :    250.00\n"
     ]
    }
   ],
   "source": [
    "soln = sym.solve([EqGlobal, EqNaOH])\n",
    "for k in soln.keys():\n",
    "    print(\"Variable {0:4s}:  {1:8.2f}\".format(str(k),soln[k]))"
   ]
  },
  {
   "cell_type": "markdown",
   "metadata": {
    "slideshow": {
     "slide_type": "fragment"
    }
   },
   "source": [
    "Las respuestas a las preguntas planteadas son:"
   ]
  },
  {
   "cell_type": "code",
   "execution_count": 5,
   "metadata": {
    "slideshow": {
     "slide_type": "fragment"
    }
   },
   "outputs": [
    {
     "name": "stdout",
     "output_type": "stream",
     "text": [
      "Se necesitan   150.00 L de agua por cada kg de alimentación\n",
      "Se producen   250.00 kg de disolución de NaOH al 0.08% por cada kg de alimentación\n"
     ]
    }
   ],
   "source": [
    "sol1 = m1/100\n",
    "sol2 = m2/100\n",
    "print(\"Se necesitan {:8.2f} L de agua por cada kg de alimentación\".format(round(soln[m1],2)))\n",
    "print(\"Se producen {:8.2f} kg de disolución de NaOH al 0.08% por cada kg de alimentación\".format(round(soln[m2],2)))"
   ]
  },
  {
   "cell_type": "markdown",
   "metadata": {
    "slideshow": {
     "slide_type": "slide"
    }
   },
   "source": [
    "## Balance en un reactor - Combustión Incompleta de Metano\n",
    "\n",
    "### Enunciado\n",
    "\n",
    "Se quema metano con aire en un reactor de combustión para dar una mezcla de monóxido de carbono, dióxido de carbono y agua. Las reacciones que tienen lugar son:\n",
    "$$ \\mathrm{CH}_4 + \\frac{3}{2}\\mathrm{O}_2 \\to \\mathrm{CO} + 2\\mathrm{H_2O} $$\n",
    "$$ \\mathrm{CH}_4 + 2\\mathrm{O}_2 \\to \\mathrm{CO_2} + 2\\mathrm{H_2O} $$\n",
    "La alimentación al reactor contiene 7.8% $\\mathrm{CH_4}$, 19.4% $\\mathrm{O_2}$ y 72.8% $\\mathrm{N_2}$ (composición molar). La conversión de metano es del 90% y el gas de salida contiene 8 moles de $\\mathrm{CO_2}$ por cada mol de $\\mathrm{CO}$. Se pide:\n",
    "\n",
    "a) Realice un análisis de grados de libertad del proceso.\n",
    "\n",
    "b) Calcule la composición molar de la corriente de salida.\n",
    "\n",
    "**Ejemplo 4.7-1 R.M. Felder, Elementary Principles of Chemical Processes, 3rd Edition**"
   ]
  },
  {
   "cell_type": "markdown",
   "metadata": {
    "slideshow": {
     "slide_type": "subslide"
    }
   },
   "source": [
    "### Base de cálculo y diagrama de flujo\n",
    "\n",
    "Tomamos como base de cálculo 100 mol de la corriente de alimentación del reactor. En este ejemplo, vamos a aplicar un tratamiento más general que nos será de utilidad en casos en los que aparezca más de una unidad en el proceso. \n",
    "\n",
    "Para simplificar la notación, denominamos a las sustancias con los siguientes códigos: \n",
    "\n",
    "- M = $\\mathrm{CH_4}$\n",
    "- O = $\\mathrm{O_2}$\n",
    "- N = $\\mathrm{N_2}$\n",
    "- MON = $\\mathrm{CO}$\n",
    "- D = $\\mathrm{CO_2}$\n",
    "- H = $\\mathrm{H_2}$\n",
    "\n",
    "El diagrama de flujo que incorpora toda la información del problema es:\n",
    "\n",
    "<img src=\"img/FlowChart2_Reactor.png\" width=\"400\">"
   ]
  },
  {
   "cell_type": "markdown",
   "metadata": {
    "slideshow": {
     "slide_type": "subslide"
    }
   },
   "source": [
    "### Declaración de variables\n",
    "\n",
    "Tenemos dos corrientes en el problema (aunque conocemos toda la información de una de ellas). Creamos las variables de cada corriente utilizando la función **var** y las almacenamos en una lista."
   ]
  },
  {
   "cell_type": "code",
   "execution_count": 6,
   "metadata": {
    "slideshow": {
     "slide_type": "fragment"
    }
   },
   "outputs": [
    {
     "data": {
      "image/png": "[encoded data removed]",
      "text/latex": [
       "$\\displaystyle \\left[ \\left( nM_{1}, \\  nO_{1}, \\  nN_{1}\\right), \\  \\left( nM_{2}, \\  nO_{2}, \\  nN_{2}, \\  nMON_{2}, \\  nD_{2}, \\  nH_{2}\\right)\\right]$"
      ],
      "text/plain": [
       "[(nM₁, nO₁, nN₁), (nM₂, nO₂, nN₂, nMON₂, nD₂, nH₂)]"
      ]
     },
     "metadata": {},
     "output_type": "display_data"
    }
   ],
   "source": [
    "stream1=sym.var('nM1 nO1 nN1')\n",
    "stream2=sym.var('nM2 nO2 nN2 nMON2 nD2 nH2')\n",
    "stream_table=[]\n",
    "stream_table.append(stream1)\n",
    "stream_table.append(stream2)\n",
    "display(stream_table)"
   ]
  },
  {
   "cell_type": "markdown",
   "metadata": {
    "slideshow": {
     "slide_type": "subslide"
    }
   },
   "source": [
    "Cuando hay reacciones, el avance de cada reacción es una nueva variable. En el reactor tienen lugar dos reacciones. Le asignamos la variable $X_{MON}$ al avance de la primera reacción (la que da lugar al monóxido) y $X_{D}$ al avance de la segunda reacción (la que da lugar al dióxido)."
   ]
  },
  {
   "cell_type": "code",
   "execution_count": 7,
   "metadata": {
    "slideshow": {
     "slide_type": "fragment"
    }
   },
   "outputs": [
    {
     "data": {
      "image/png": "[encoded data removed]",
      "text/latex": [
       "$\\displaystyle \\left( XMON, \\  XD\\right)$"
      ],
      "text/plain": [
       "(XMON, XD)"
      ]
     },
     "metadata": {},
     "output_type": "display_data"
    }
   ],
   "source": [
    "extents=sym.var('XMON XD')\n",
    "display(extents)"
   ]
  },
  {
   "cell_type": "markdown",
   "metadata": {
    "slideshow": {
     "slide_type": "subslide"
    }
   },
   "source": [
    "Agrupamos todas las variables en una lista:"
   ]
  },
  {
   "cell_type": "code",
   "execution_count": 8,
   "metadata": {
    "slideshow": {
     "slide_type": "fragment"
    }
   },
   "outputs": [
    {
     "name": "stdout",
     "output_type": "stream",
     "text": [
      "[XMON, XD, nM1, nO1, nN1, nM2, nO2, nN2, nMON2, nD2, nH2]\n"
     ]
    }
   ],
   "source": [
    "variables=[]\n",
    "for x in extents:\n",
    "    variables.append(x)\n",
    "for s in stream_table:\n",
    "    for x in s:\n",
    "        variables.append(x)\n",
    "print(variables)"
   ]
  },
  {
   "cell_type": "markdown",
   "metadata": {
    "slideshow": {
     "slide_type": "subslide"
    }
   },
   "source": [
    "### Declaración de ecuaciones\n",
    "\n",
    "Las ecuaciones que relacionan las variables de las corrientes 1 y 2 están determinadas por la estequiometría de las reacciones que tienen lugar en el Reactor. Las ecuaciones son:\n",
    "\n",
    "$$ n_{M}^2 = n_{M}^1 - X_{MON} - X_D $$\n",
    "$$ n_O^2 = n_O^1 - \\frac{3}{2} X_{MON} - 2 X_D $$\n",
    "$$ n_{MON}^2 = X_{MON} $$\n",
    "$$ n_D^2 = X_D $$\n",
    "$$ n_H^2 = 2 X_{MON} + 2 X_D $$\n",
    "$$ n_N^2 = n_N^1 $$ \n",
    "\n",
    "La última ecuación expresa el hecho de que el nitrógeno no participa en la reacción. Declaramos dichas ecuaciones utilizando la función **Eq**:"
   ]
  },
  {
   "cell_type": "code",
   "execution_count": 9,
   "metadata": {
    "slideshow": {
     "slide_type": "fragment"
    }
   },
   "outputs": [
    {
     "data": {
      "image/png": "[encoded data removed]",
      "text/latex": [
       "$\\displaystyle XD + XMON - nM_{1} + nM_{2} = 0$"
      ],
      "text/plain": [
       "XD + XMON - nM₁ + nM₂ = 0"
      ]
     },
     "metadata": {},
     "output_type": "display_data"
    },
    {
     "data": {
      "image/png": "[encoded data removed]",
      "text/latex": [
       "$\\displaystyle 2 XD + 1.5 XMON - nO_{1} + nO_{2} = 0$"
      ],
      "text/plain": [
       "2⋅XD + 1.5⋅XMON - nO₁ + nO₂ = 0"
      ]
     },
     "metadata": {},
     "output_type": "display_data"
    },
    {
     "data": {
      "image/png": "[encoded data removed]",
      "text/latex": [
       "$\\displaystyle - XMON + nMON_{2} = 0$"
      ],
      "text/plain": [
       "-XMON + nMON₂ = 0"
      ]
     },
     "metadata": {},
     "output_type": "display_data"
    },
    {
     "data": {
      "image/png": "[encoded data removed]",
      "text/latex": [
       "$\\displaystyle - XD + nD_{2} = 0$"
      ],
      "text/plain": [
       "-XD + nD₂ = 0"
      ]
     },
     "metadata": {},
     "output_type": "display_data"
    },
    {
     "data": {
      "image/png": "[encoded data removed]",
      "text/latex": [
       "$\\displaystyle - 2 XD - 2 XMON + nH_{2} = 0$"
      ],
      "text/plain": [
       "-2⋅XD - 2⋅XMON + nH₂ = 0"
      ]
     },
     "metadata": {},
     "output_type": "display_data"
    },
    {
     "data": {
      "image/png": "[encoded data removed]",
      "text/latex": [
       "$\\displaystyle - nN_{1} + nN_{2} = 0$"
      ],
      "text/plain": [
       "-nN₁ + nN₂ = 0"
      ]
     },
     "metadata": {},
     "output_type": "display_data"
    }
   ],
   "source": [
    "reactor = [\n",
    "    sym.Eq(nM2 - nM1 + XMON + XD),\n",
    "    sym.Eq(nO2 - nO1 + 3/2*XMON + 2*XD),\n",
    "    sym.Eq(nMON2 - XMON),\n",
    "    sym.Eq(nD2 - XD),\n",
    "    sym.Eq(nH2 - 2*XMON - 2*XD),\n",
    "    sym.Eq(nN2 - nN1)\n",
    "]\n",
    "for eqn in reactor:\n",
    "    display(eqn)"
   ]
  },
  {
   "cell_type": "markdown",
   "metadata": {
    "slideshow": {
     "slide_type": "subslide"
    }
   },
   "source": [
    "### Declaración de especificaciones\n",
    "\n",
    "Las especificaciones del problema se refieren a la composición de la corriente de entrada (corriente 1), la conversión de metano en el reactor y a la relación entre los moles de monóxido y dióxido de carbono en la corriente de salida (corriente 2). Dichas especificaciones también se pueden escribir utilizando el comando **Eq**:"
   ]
  },
  {
   "cell_type": "code",
   "execution_count": 10,
   "metadata": {
    "slideshow": {
     "slide_type": "fragment"
    }
   },
   "outputs": [
    {
     "data": {
      "image/png": "[encoded data removed]",
      "text/latex": [
       "$\\displaystyle nM_{1} = 7.8$"
      ],
      "text/plain": [
       "nM₁ = 7.8"
      ]
     },
     "metadata": {},
     "output_type": "display_data"
    },
    {
     "data": {
      "image/png": "[encoded data removed]",
      "text/latex": [
       "$\\displaystyle nO_{1} = 19.4$"
      ],
      "text/plain": [
       "nO₁ = 19.4"
      ]
     },
     "metadata": {},
     "output_type": "display_data"
    },
    {
     "data": {
      "image/png": "[encoded data removed]",
      "text/latex": [
       "$\\displaystyle nN_{1} = 72.8$"
      ],
      "text/plain": [
       "nN₁ = 72.8"
      ]
     },
     "metadata": {},
     "output_type": "display_data"
    },
    {
     "data": {
      "image/png": "[encoded data removed]",
      "text/latex": [
       "$\\displaystyle - 0.1 nM_{1} + nM_{2} = 0$"
      ],
      "text/plain": [
       "-0.1⋅nM₁ + nM₂ = 0"
      ]
     },
     "metadata": {},
     "output_type": "display_data"
    },
    {
     "data": {
      "image/png": "[encoded data removed]",
      "text/latex": [
       "$\\displaystyle nD_{2} - 8 nMON_{2} = 0$"
      ],
      "text/plain": [
       "nD₂ - 8⋅nMON₂ = 0"
      ]
     },
     "metadata": {},
     "output_type": "display_data"
    }
   ],
   "source": [
    "stream1_spec = [\n",
    "    sym.Eq(nM1, 7.8),\n",
    "    sym.Eq(nO1, 19.4),\n",
    "    sym.Eq(nN1, 72.8)\n",
    "]\n",
    "stream2_spec = [\n",
    "    sym.Eq(nM2 - 0.1*nM1),\n",
    "    sym.Eq(nD2 - 8*nMON2)\n",
    "]\n",
    "specifications = stream1_spec + stream2_spec\n",
    "for eqn in specifications:\n",
    "    display(eqn)"
   ]
  },
  {
   "cell_type": "markdown",
   "metadata": {
    "slideshow": {
     "slide_type": "subslide"
    }
   },
   "source": [
    "### Análisis de grados de libertad\n",
    "\n",
    "Un análisis de grados de libertad nos permite comparar el número de variables al número de ecuaciones."
   ]
  },
  {
   "cell_type": "code",
   "execution_count": 11,
   "metadata": {
    "slideshow": {
     "slide_type": "fragment"
    }
   },
   "outputs": [
    {
     "name": "stdout",
     "output_type": "stream",
     "text": [
      "***************************\n",
      "*** TABLA DE CORRIENTES ***\n",
      "***************************\n",
      "\n",
      "Corriente 1\n",
      "\n",
      "\tVariable: nM1  \n",
      "\tVariable: nO1  \n",
      "\tVariable: nN1  \n",
      "\n",
      "Corriente 2\n",
      "\n",
      "\tVariable: nM2  \n",
      "\tVariable: nO2  \n",
      "\tVariable: nN2  \n",
      "\tVariable: nMON2\n",
      "\tVariable: nD2  \n",
      "\tVariable: nH2  \n",
      "\n",
      "9 Variables en 2 corrientes\n",
      "\n",
      "***************************\n",
      "*** TABLA DE REACCIONES ***\n",
      "***************************\n",
      "\n",
      "2 Avances de Reacción\n",
      "\n",
      "\tAvance:  XMON\n",
      "\tAvance:  XD\n",
      "\n",
      "*****************************\n",
      "*** Nº TOTAL DE VARIABLES ***\n",
      "*****************************\n",
      "\n",
      "11 Variables = 9 Variables de Corriente + 2 Avances de Reacción \n",
      "\n"
     ]
    }
   ],
   "source": [
    "print(\"***************************\")\n",
    "print(\"*** TABLA DE CORRIENTES ***\")\n",
    "print(\"***************************\")\n",
    "nVars = 0\n",
    "nStreams = 1\n",
    "for s in stream_table:\n",
    "    print(\"\\nCorriente %d\\n\"%nStreams)\n",
    "    nStreams += 1\n",
    "    for v in s:\n",
    "        nVars += 1\n",
    "        print(\"\\tVariable: {:5s}\".format(v.name))\n",
    "print(\"\\n%d Variables en %d corrientes\\n\" % (nVars, len(stream_table)))\n",
    "\n",
    "print(\"***************************\")\n",
    "print(\"*** TABLA DE REACCIONES ***\")\n",
    "print(\"***************************\")\n",
    "\n",
    "print(\"\\n%d Avances de Reacción\\n\" % len(extents))\n",
    "for v in extents:\n",
    "    print(\"\\tAvance: \", v.name)\n",
    "\n",
    "print(\"\\n*****************************\")\n",
    "print(\"*** Nº TOTAL DE VARIABLES ***\")\n",
    "print(\"*****************************\")\n",
    "print(\"\\n%d Variables = %d Variables de Corriente + %d Avances de Reacción \\n\" \\\n",
    "    % (len(variables),nVars,len(extents)))\n"
   ]
  },
  {
   "cell_type": "code",
   "execution_count": 36,
   "metadata": {
    "slideshow": {
     "slide_type": "fragment"
    }
   },
   "outputs": [
    {
     "name": "stdout",
     "output_type": "stream",
     "text": [
      "\n",
      "11 Ecuaciones = 6 Balances de Materia + 5 Especificaciones\n",
      "\n",
      "6 Balances de Materia\n",
      "\n"
     ]
    },
    {
     "data": {
      "image/png": "[encoded data removed]",
      "text/latex": [
       "$\\displaystyle XD + XMON - nM_{1} + nM_{2} = 0$"
      ],
      "text/plain": [
       "XD + XMON - nM₁ + nM₂ = 0"
      ]
     },
     "metadata": {},
     "output_type": "display_data"
    },
    {
     "data": {
      "image/png": "[encoded data removed]",
      "text/latex": [
       "$\\displaystyle 2 XD + 1.5 XMON - nO_{1} + nO_{2} = 0$"
      ],
      "text/plain": [
       "2⋅XD + 1.5⋅XMON - nO₁ + nO₂ = 0"
      ]
     },
     "metadata": {},
     "output_type": "display_data"
    },
    {
     "data": {
      "image/png": "[encoded data removed]",
      "text/latex": [
       "$\\displaystyle - XMON + nMON_{2} = 0$"
      ],
      "text/plain": [
       "-XMON + nMON₂ = 0"
      ]
     },
     "metadata": {},
     "output_type": "display_data"
    },
    {
     "data": {
      "image/png": "[encoded data removed]",
      "text/latex": [
       "$\\displaystyle - XD + nD_{2} = 0$"
      ],
      "text/plain": [
       "-XD + nD₂ = 0"
      ]
     },
     "metadata": {},
     "output_type": "display_data"
    },
    {
     "data": {
      "image/png": "[encoded data removed]",
      "text/latex": [
       "$\\displaystyle - 2 XD - 2 XMON + nH_{2} = 0$"
      ],
      "text/plain": [
       "-2⋅XD - 2⋅XMON + nH₂ = 0"
      ]
     },
     "metadata": {},
     "output_type": "display_data"
    },
    {
     "data": {
      "image/png": "[encoded data removed]",
      "text/latex": [
       "$\\displaystyle - nN_{1} + nN_{2} = 0$"
      ],
      "text/plain": [
       "-nN₁ + nN₂ = 0"
      ]
     },
     "metadata": {},
     "output_type": "display_data"
    },
    {
     "name": "stdout",
     "output_type": "stream",
     "text": [
      "\n",
      "\n",
      "5 Especificaciones\n",
      "\n"
     ]
    },
    {
     "data": {
      "image/png": "[encoded data removed]",
      "text/latex": [
       "$\\displaystyle nM_{1} = 7.8$"
      ],
      "text/plain": [
       "nM₁ = 7.8"
      ]
     },
     "metadata": {},
     "output_type": "display_data"
    },
    {
     "data": {
      "image/png": "[encoded data removed]",
      "text/latex": [
       "$\\displaystyle nO_{1} = 19.4$"
      ],
      "text/plain": [
       "nO₁ = 19.4"
      ]
     },
     "metadata": {},
     "output_type": "display_data"
    },
    {
     "data": {
      "image/png": "[encoded data removed]",
      "text/latex": [
       "$\\displaystyle nN_{1} = 72.8$"
      ],
      "text/plain": [
       "nN₁ = 72.8"
      ]
     },
     "metadata": {},
     "output_type": "display_data"
    },
    {
     "data": {
      "image/png": "[encoded data removed]",
      "text/latex": [
       "$\\displaystyle - 0.1 nM_{1} + nM_{2} = 0$"
      ],
      "text/plain": [
       "-0.1⋅nM₁ + nM₂ = 0"
      ]
     },
     "metadata": {},
     "output_type": "display_data"
    },
    {
     "data": {
      "image/png": "[encoded data removed]",
      "text/latex": [
       "$\\displaystyle nD_{2} - 8 nMON_{2} = 0$"
      ],
      "text/plain": [
       "nD₂ - 8⋅nMON₂ = 0"
      ]
     },
     "metadata": {},
     "output_type": "display_data"
    }
   ],
   "source": [
    "equations = reactor + specifications\n",
    "print(\"\\n%d Ecuaciones = %d Balances de Materia + %d Especificaciones\" \\\n",
    "    % (len(equations),len(reactor),len(specifications)))\n",
    "\n",
    "print(\"\\n%d Balances de Materia\\n\" % len(reactor))\n",
    "for mb in reactor:\n",
    "    display(mb)\n",
    "\n",
    "print(\"\\n\\n%d Especificaciones\\n\" % len(specifications))\n",
    "for spec in specifications:\n",
    "    display(spec)"
   ]
  },
  {
   "cell_type": "markdown",
   "metadata": {
    "slideshow": {
     "slide_type": "subslide"
    }
   },
   "source": [
    "Si el número de variables se corresponde al número de ecuaciones, entonces el sistema tiene 0 grados de libertad (**el problema está bien especificado**)."
   ]
  },
  {
   "cell_type": "markdown",
   "metadata": {
    "slideshow": {
     "slide_type": "subslide"
    }
   },
   "source": [
    "### Solución"
   ]
  },
  {
   "cell_type": "code",
   "execution_count": 37,
   "metadata": {
    "slideshow": {
     "slide_type": "subslide"
    }
   },
   "outputs": [
    {
     "name": "stdout",
     "output_type": "stream",
     "text": [
      "Variable XD  :      6.24\n",
      "Variable XMON:      0.78\n",
      "Variable nD2 :      6.24\n",
      "Variable nH2 :     14.04\n",
      "Variable nM1 :      7.80\n",
      "Variable nM2 :      0.78\n",
      "Variable nMON2:      0.78\n",
      "Variable nN1 :     72.80\n",
      "Variable nN2 :     72.80\n",
      "Variable nO1 :     19.40\n",
      "Variable nO2 :      5.75\n"
     ]
    }
   ],
   "source": [
    "soln = sym.solve(reactor + specifications)\n",
    "\n",
    "for k in soln.keys():\n",
    "    print(\"Variable {0:4s}:  {1:8.2f}\".format(str(k),round(soln[k],2)))"
   ]
  },
  {
   "cell_type": "markdown",
   "metadata": {
    "slideshow": {
     "slide_type": "fragment"
    }
   },
   "source": [
    "La composición del gas de salida estará dada por:"
   ]
  },
  {
   "cell_type": "code",
   "execution_count": 38,
   "metadata": {
    "slideshow": {
     "slide_type": "fragment"
    }
   },
   "outputs": [
    {
     "name": "stdout",
     "output_type": "stream",
     "text": [
      "Composición del gas de salida:\n",
      "Metano     0.78%\n",
      "Oxígeno     5.73%\n",
      "Nitrógeno    72.52%\n",
      "Monóxido de Carbono     0.78%\n",
      "Dióxido de Carbono     6.22%\n",
      "Agua    13.99%\n"
     ]
    }
   ],
   "source": [
    "nTOTAL=soln[nM2]+soln[nO2]+soln[nN2]+soln[nMON2]+soln[nD2]+soln[nH2]\n",
    "print('Composición del gas de salida:')\n",
    "print('Metano {:8.2f}%'.format(soln[nM2]/nTOTAL*100))\n",
    "print('Oxígeno {:8.2f}%'.format(soln[nO2]/nTOTAL*100))\n",
    "print('Nitrógeno {:8.2f}%'.format(soln[nN2]/nTOTAL*100))\n",
    "print('Monóxido de Carbono {:8.2f}%'.format(soln[nMON2]/nTOTAL*100))\n",
    "print('Dióxido de Carbono {:8.2f}%'.format(soln[nD2]/nTOTAL*100))\n",
    "print('Agua {:8.2f}%'.format(soln[nH2]/nTOTAL*100))"
   ]
  },
  {
   "cell_type": "markdown",
   "metadata": {
    "slideshow": {
     "slide_type": "slide"
    }
   },
   "source": [
    "## Balance en varios equipos con reacción, reciclado y purga - Síntesis de Metanol\n",
    "\n",
    "### Enunciado\n",
    "\n",
    "El metanol se produce mediante reacción de dióxido de carbono e hidrógeno:\n",
    "\n",
    "$$ \\mathrm{CO_2} + 3\\mathrm{H_2} \\to \\mathrm{CH_3OH} + \\mathrm{H_2O} $$\n",
    "\n",
    "La alimentación fresca del proceso contiene hidrógeno, dióxido de carbono y 0.4% molar de inertes (I). El efluente del reactor entra en un condensador que elimina todo el metanol y el agua formados pero ninguno de los reactivos o inertes. Estos últimos se recirculan al reactor. Para evitar la acumulación de inertes en el sistema, se elimina una corriente de purga de la corriente de reciclado. \n",
    "\n",
    "La corriente que entra en el reactor (suma de las corrientes de alimentación fresca y la de reciclo) contiene 28% $\\mathrm{CO_2}$, 70% $\\mathrm{H_2}$ y 2% de inertes (composición molar). La conversión de hidrógeno en cada pasada por el reactor es del 60%. Calcular:\n",
    "\n",
    "- Los caudales molares y composición molar de la corriente de alimentación fresca, la corriente que entra en el reactor, la corriente de recirculación y la corriente de purga para una producción de 155 kmol/h de $\\mathrm{CH_3OH}$.\n",
    "\n",
    "**Ejemplo 4.7-3 R.M. Felder, Elementary Principles of Chemical Processes, 3rd Edition**"
   ]
  },
  {
   "cell_type": "markdown",
   "metadata": {
    "slideshow": {
     "slide_type": "subslide"
    }
   },
   "source": [
    "### Base de cálculo y diagrama de flujo\n",
    "\n",
    "Como regla general, eligiremos como base de cálculo aquella corriente de la que dispongamos de más información. En este caso, se trata de la corriente que entra en el reactor. Para simplificar la notación, denominamos D=$\\mathrm{CO_2}$, H=$\\mathrm{H_2}$, M=$\\mathrm{CH_3OH}$, A=$\\mathrm{H_2O}$ e I=Inertes.\n",
    "\n",
    "<img src=\"img/FlowChart3_Methanol.png\" width=\"600\">"
   ]
  },
  {
   "cell_type": "markdown",
   "metadata": {
    "slideshow": {
     "slide_type": "subslide"
    }
   },
   "source": [
    "### Declaración de variables"
   ]
  },
  {
   "cell_type": "code",
   "execution_count": 90,
   "metadata": {
    "slideshow": {
     "slide_type": "fragment"
    }
   },
   "outputs": [
    {
     "data": {
      "image/png": "[encoded data removed]",
      "text/latex": [
       "$\\displaystyle \\left[ \\left( nD_{1}, \\  nH_{1}, \\  nI_{1}\\right), \\  \\left( nD_{2}, \\  nH_{2}, \\  nI_{2}\\right), \\  \\left( nD_{3}, \\  nH_{3}, \\  nI_{3}, \\  nM_{3}, \\  nA_{3}\\right), \\  \\left( nM_{4}, \\  nA_{4}\\right), \\  \\left( nD_{5}, \\  nH_{5}, \\  nI_{5}\\right), \\  \\left( nD_{6}, \\  nH_{6}, \\  nI_{6}\\right), \\  \\left( nD_{7}, \\  nH_{7}, \\  nI_{7}\\right)\\right]$"
      ],
      "text/plain": [
       "[(nD₁, nH₁, nI₁), (nD₂, nH₂, nI₂), (nD₃, nH₃, nI₃, nM₃, nA₃), (nM₄, nA₄), (nD₅\n",
       ", nH₅, nI₅), (nD₆, nH₆, nI₆), (nD₇, nH₇, nI₇)]"
      ]
     },
     "metadata": {},
     "output_type": "display_data"
    },
    {
     "data": {
      "image/png": "[encoded data removed]",
      "text/latex": [
       "$\\displaystyle \\left[ X\\right]$"
      ],
      "text/plain": [
       "[X]"
      ]
     },
     "metadata": {},
     "output_type": "display_data"
    },
    {
     "name": "stdout",
     "output_type": "stream",
     "text": [
      "alpha = Cantidad de la corriente 5 que se va a la purga\n"
     ]
    },
    {
     "data": {
      "image/png": "[encoded data removed]",
      "text/latex": [
       "$\\displaystyle \\left[ \\alpha\\right]$"
      ],
      "text/plain": [
       "[α]"
      ]
     },
     "metadata": {},
     "output_type": "display_data"
    },
    {
     "name": "stdout",
     "output_type": "stream",
     "text": [
      "[X, alpha, nD1, nH1, nI1, nD2, nH2, nI2, nD3, nH3, nI3, nM3, nA3, nM4, nA4, nD5, nH5, nI5, nD6, nH6, nI6, nD7, nH7, nI7]\n"
     ]
    }
   ],
   "source": [
    "stream1=sym.var('nD1 nH1 nI1')\n",
    "stream2=sym.var('nD2 nH2 nI2')\n",
    "stream3=sym.var('nD3 nH3 nI3 nM3 nA3')\n",
    "stream4=sym.var('nM4 nA4')\n",
    "stream5=sym.var('nD5 nH5 nI5')\n",
    "stream6=sym.var('nD6 nH6 nI6')\n",
    "stream7=sym.var('nD7 nH7 nI7')\n",
    "stream_table=[]\n",
    "stream_table.append(stream1)\n",
    "stream_table.append(stream2)\n",
    "stream_table.append(stream3)\n",
    "stream_table.append(stream4)\n",
    "stream_table.append(stream5)\n",
    "stream_table.append(stream6)\n",
    "stream_table.append(stream7)\n",
    "display(stream_table)\n",
    "\n",
    "extents=[sym.var('X')]\n",
    "display(extents)\n",
    "\n",
    "print(\"alpha = Cantidad de la corriente 5 que se va a la purga\")\n",
    "split=[sym.var('alpha')]\n",
    "display(split)\n",
    "\n",
    "variables=[]\n",
    "for x in extents:\n",
    "    variables.append(x)\n",
    "for x in split:\n",
    "    variables.append(x)\n",
    "for s in stream_table:\n",
    "    for x in s:\n",
    "        variables.append(x)\n",
    "print(variables)"
   ]
  },
  {
   "cell_type": "markdown",
   "metadata": {
    "slideshow": {
     "slide_type": "subslide"
    }
   },
   "source": [
    "### Declaración de ecuaciones\n",
    "\n",
    "Definimos las ecuaciones de balance de materia para cada equipo del proceso, más los puntos donde se retira la purga y el punto donde se mezclan las corrientes de alimentación fresca y la de recirculación."
   ]
  },
  {
   "cell_type": "code",
   "execution_count": 91,
   "metadata": {
    "slideshow": {
     "slide_type": "fragment"
    }
   },
   "outputs": [
    {
     "data": {
      "image/png": "[encoded data removed]",
      "text/latex": [
       "$\\displaystyle - nD_{1} + nD_{2} - nD_{7} = 0$"
      ],
      "text/plain": [
       "-nD₁ + nD₂ - nD₇ = 0"
      ]
     },
     "metadata": {},
     "output_type": "display_data"
    },
    {
     "data": {
      "image/png": "[encoded data removed]",
      "text/latex": [
       "$\\displaystyle - nH_{1} + nH_{2} - nH_{7} = 0$"
      ],
      "text/plain": [
       "-nH₁ + nH₂ - nH₇ = 0"
      ]
     },
     "metadata": {},
     "output_type": "display_data"
    },
    {
     "data": {
      "image/png": "[encoded data removed]",
      "text/latex": [
       "$\\displaystyle - nI_{1} + nI_{2} - nI_{7} = 0$"
      ],
      "text/plain": [
       "-nI₁ + nI₂ - nI₇ = 0"
      ]
     },
     "metadata": {},
     "output_type": "display_data"
    },
    {
     "data": {
      "image/png": "[encoded data removed]",
      "text/latex": [
       "$\\displaystyle X - nD_{2} + nD_{3} = 0$"
      ],
      "text/plain": [
       "X - nD₂ + nD₃ = 0"
      ]
     },
     "metadata": {},
     "output_type": "display_data"
    },
    {
     "data": {
      "image/png": "[encoded data removed]",
      "text/latex": [
       "$\\displaystyle 3 X - nH_{2} + nH_{3} = 0$"
      ],
      "text/plain": [
       "3⋅X - nH₂ + nH₃ = 0"
      ]
     },
     "metadata": {},
     "output_type": "display_data"
    },
    {
     "data": {
      "image/png": "[encoded data removed]",
      "text/latex": [
       "$\\displaystyle - nI_{2} + nI_{3} = 0$"
      ],
      "text/plain": [
       "-nI₂ + nI₃ = 0"
      ]
     },
     "metadata": {},
     "output_type": "display_data"
    },
    {
     "data": {
      "image/png": "[encoded data removed]",
      "text/latex": [
       "$\\displaystyle - X + nM_{3} = 0$"
      ],
      "text/plain": [
       "-X + nM₃ = 0"
      ]
     },
     "metadata": {},
     "output_type": "display_data"
    },
    {
     "data": {
      "image/png": "[encoded data removed]",
      "text/latex": [
       "$\\displaystyle - X + nA_{3} = 0$"
      ],
      "text/plain": [
       "-X + nA₃ = 0"
      ]
     },
     "metadata": {},
     "output_type": "display_data"
    },
    {
     "data": {
      "image/png": "[encoded data removed]",
      "text/latex": [
       "$\\displaystyle - nM_{3} + nM_{4} = 0$"
      ],
      "text/plain": [
       "-nM₃ + nM₄ = 0"
      ]
     },
     "metadata": {},
     "output_type": "display_data"
    },
    {
     "data": {
      "image/png": "[encoded data removed]",
      "text/latex": [
       "$\\displaystyle - nA_{3} + nA_{4} = 0$"
      ],
      "text/plain": [
       "-nA₃ + nA₄ = 0"
      ]
     },
     "metadata": {},
     "output_type": "display_data"
    },
    {
     "data": {
      "image/png": "[encoded data removed]",
      "text/latex": [
       "$\\displaystyle - nD_{3} + nD_{5} = 0$"
      ],
      "text/plain": [
       "-nD₃ + nD₅ = 0"
      ]
     },
     "metadata": {},
     "output_type": "display_data"
    },
    {
     "data": {
      "image/png": "[encoded data removed]",
      "text/latex": [
       "$\\displaystyle - nH_{3} + nH_{5} = 0$"
      ],
      "text/plain": [
       "-nH₃ + nH₅ = 0"
      ]
     },
     "metadata": {},
     "output_type": "display_data"
    },
    {
     "data": {
      "image/png": "[encoded data removed]",
      "text/latex": [
       "$\\displaystyle - nI_{3} + nI_{5} = 0$"
      ],
      "text/plain": [
       "-nI₃ + nI₅ = 0"
      ]
     },
     "metadata": {},
     "output_type": "display_data"
    },
    {
     "data": {
      "image/png": "[encoded data removed]",
      "text/latex": [
       "$\\displaystyle \\alpha nD_{5} - nD_{6} = 0$"
      ],
      "text/plain": [
       "α⋅nD₅ - nD₆ = 0"
      ]
     },
     "metadata": {},
     "output_type": "display_data"
    },
    {
     "data": {
      "image/png": "[encoded data removed]",
      "text/latex": [
       "$\\displaystyle \\alpha nH_{5} - nH_{6} = 0$"
      ],
      "text/plain": [
       "α⋅nH₅ - nH₆ = 0"
      ]
     },
     "metadata": {},
     "output_type": "display_data"
    },
    {
     "data": {
      "image/png": "[encoded data removed]",
      "text/latex": [
       "$\\displaystyle \\alpha nI_{5} - nI_{6} = 0$"
      ],
      "text/plain": [
       "α⋅nI₅ - nI₆ = 0"
      ]
     },
     "metadata": {},
     "output_type": "display_data"
    },
    {
     "data": {
      "image/png": "[encoded data removed]",
      "text/latex": [
       "$\\displaystyle nD_{5} \\left(1 - \\alpha\\right) - nD_{7} = 0$"
      ],
      "text/plain": [
       "nD₅⋅(1 - α) - nD₇ = 0"
      ]
     },
     "metadata": {},
     "output_type": "display_data"
    },
    {
     "data": {
      "image/png": "[encoded data removed]",
      "text/latex": [
       "$\\displaystyle nH_{5} \\left(1 - \\alpha\\right) - nH_{7} = 0$"
      ],
      "text/plain": [
       "nH₅⋅(1 - α) - nH₇ = 0"
      ]
     },
     "metadata": {},
     "output_type": "display_data"
    },
    {
     "data": {
      "image/png": "[encoded data removed]",
      "text/latex": [
       "$\\displaystyle nI_{5} \\left(1 - \\alpha\\right) - nI_{7} = 0$"
      ],
      "text/plain": [
       "nI₅⋅(1 - α) - nI₇ = 0"
      ]
     },
     "metadata": {},
     "output_type": "display_data"
    }
   ],
   "source": [
    "mix = [\n",
    "    sym.Eq(nD2-nD1-nD7),\n",
    "    sym.Eq(nH2-nH1-nH7),\n",
    "    sym.Eq(nI2-nI1-nI7),\n",
    "]\n",
    "\n",
    "reactor = [\n",
    "    sym.Eq(nD3-nD2+X),\n",
    "    sym.Eq(nH3-nH2+3*X),\n",
    "    sym.Eq(nI3-nI2),\n",
    "    sym.Eq(nM3-X),\n",
    "    sym.Eq(nA3-X)\n",
    "]\n",
    "\n",
    "condenser =[\n",
    "    sym.Eq(nM4-nM3),\n",
    "    sym.Eq(nA4-nA3),\n",
    "    sym.Eq(nD5-nD3),\n",
    "    sym.Eq(nH5-nH3),\n",
    "    sym.Eq(nI5-nI3)\n",
    "]\n",
    "\n",
    "purge = [\n",
    "    sym.Eq(nD5*alpha-nD6),\n",
    "    sym.Eq(nH5*alpha-nH6),\n",
    "    sym.Eq(nI5*alpha-nI6),\n",
    "    sym.Eq(nD5*(1-alpha)-nD7),\n",
    "    sym.Eq(nH5*(1-alpha)-nH7),\n",
    "    sym.Eq(nI5*(1-alpha)-nI7)\n",
    "]\n",
    "\n",
    "eqns_table=[]\n",
    "eqns_table.append(mix)\n",
    "eqns_table.append(reactor)\n",
    "eqns_table.append(condenser)\n",
    "eqns_table.append(purge)\n",
    "\n",
    "for eq in eqns_table:\n",
    "    for e in eq:\n",
    "        display(e)"
   ]
  },
  {
   "cell_type": "markdown",
   "metadata": {
    "slideshow": {
     "slide_type": "subslide"
    }
   },
   "source": [
    "### Declaración de especificaciones\n",
    "\n",
    "Especificaciones en la corriente de entrada al reactor, conversión de hidrógeno en el reactor, proporción de inertes en la alimentación fresca"
   ]
  },
  {
   "cell_type": "code",
   "execution_count": 105,
   "metadata": {
    "slideshow": {
     "slide_type": "fragment"
    }
   },
   "outputs": [
    {
     "data": {
      "image/png": "[encoded data removed]",
      "text/latex": [
       "$\\displaystyle \\frac{nI_{1}}{nD_{1} + nH_{1} + nI_{1}} - 0.004 = 0$"
      ],
      "text/plain": [
       "      nI₁                  \n",
       "─────────────── - 0.004 = 0\n",
       "nD₁ + nH₁ + nI₁            "
      ]
     },
     "metadata": {},
     "output_type": "display_data"
    },
    {
     "data": {
      "image/png": "[encoded data removed]",
      "text/latex": [
       "$\\displaystyle nD_{2} = 28.0$"
      ],
      "text/plain": [
       "nD₂ = 28.0"
      ]
     },
     "metadata": {},
     "output_type": "display_data"
    },
    {
     "data": {
      "image/png": "[encoded data removed]",
      "text/latex": [
       "$\\displaystyle nH_{2} = 70.0$"
      ],
      "text/plain": [
       "nH₂ = 70.0"
      ]
     },
     "metadata": {},
     "output_type": "display_data"
    },
    {
     "data": {
      "image/png": "[encoded data removed]",
      "text/latex": [
       "$\\displaystyle nI_{2} = 2.0$"
      ],
      "text/plain": [
       "nI₂ = 2.0"
      ]
     },
     "metadata": {},
     "output_type": "display_data"
    },
    {
     "data": {
      "image/png": "[encoded data removed]",
      "text/latex": [
       "$\\displaystyle -0.6 + \\frac{nH_{2} - nH_{3}}{nH_{2}} = 0$"
      ],
      "text/plain": [
       "       nH₂ - nH₃    \n",
       "-0.6 + ───────── = 0\n",
       "          nH₂       "
      ]
     },
     "metadata": {},
     "output_type": "display_data"
    }
   ],
   "source": [
    "stream1_spec = [\n",
    "    sym.Eq(nI1/(nI1+nH1+nD1)-0.004)\n",
    "]\n",
    "stream2_spec = [\n",
    "    sym.Eq(nD2, 28.0),\n",
    "    sym.Eq(nH2, 70.0),\n",
    "    sym.Eq(nI2, 2.0)\n",
    "]\n",
    "reactor_spec = [\n",
    "    sym.Eq((nH2-nH3)/nH2-0.6)\n",
    "]\n",
    "#purge_spec = [\n",
    "#    sym.Eq(nI6-nI1)\n",
    "#]\n",
    "\n",
    "specifications = stream1_spec + stream2_spec + reactor_spec + purge_spec\n",
    "for eqn in specifications:\n",
    "    display(eqn)"
   ]
  },
  {
   "cell_type": "markdown",
   "metadata": {
    "slideshow": {
     "slide_type": "subslide"
    }
   },
   "source": [
    "### Análisis de grados de libertad"
   ]
  },
  {
   "cell_type": "code",
   "execution_count": 106,
   "metadata": {
    "slideshow": {
     "slide_type": "fragment"
    }
   },
   "outputs": [
    {
     "name": "stdout",
     "output_type": "stream",
     "text": [
      "***************************\n",
      "*** TABLA DE CORRIENTES ***\n",
      "***************************\n",
      "\n",
      "Corriente 1\n",
      "\n",
      "\tVariable: nD1  \n",
      "\tVariable: nH1  \n",
      "\tVariable: nI1  \n",
      "\n",
      "Corriente 2\n",
      "\n",
      "\tVariable: nD2  \n",
      "\tVariable: nH2  \n",
      "\tVariable: nI2  \n",
      "\n",
      "Corriente 3\n",
      "\n",
      "\tVariable: nD3  \n",
      "\tVariable: nH3  \n",
      "\tVariable: nI3  \n",
      "\tVariable: nM3  \n",
      "\tVariable: nA3  \n",
      "\n",
      "Corriente 4\n",
      "\n",
      "\tVariable: nM4  \n",
      "\tVariable: nA4  \n",
      "\n",
      "Corriente 5\n",
      "\n",
      "\tVariable: nD5  \n",
      "\tVariable: nH5  \n",
      "\tVariable: nI5  \n",
      "\n",
      "Corriente 6\n",
      "\n",
      "\tVariable: nD6  \n",
      "\tVariable: nH6  \n",
      "\tVariable: nI6  \n",
      "\n",
      "Corriente 7\n",
      "\n",
      "\tVariable: nD7  \n",
      "\tVariable: nH7  \n",
      "\tVariable: nI7  \n",
      "\n",
      "22 Variables en 7 corrientes\n",
      "\n",
      "***************************\n",
      "*** TABLA DE REACCIONES ***\n",
      "***************************\n",
      "\n",
      "1 Avances de Reacción\n",
      "\n",
      "\tAvance:  X\n",
      "******************************\n",
      "*** TABLA DE BIFURCACIONES ***\n",
      "******************************\n",
      "\n",
      "1 Bifurcaciones\n",
      "\n",
      "\tAvance:  alpha\n",
      "\n",
      "*****************************\n",
      "*** Nº TOTAL DE VARIABLES ***\n",
      "*****************************\n",
      "\n",
      "24 Variables = 22 Variables de Corriente + 1 Avances de Reacción + 1 Bifurcaciones\n",
      "\n"
     ]
    }
   ],
   "source": [
    "print(\"***************************\")\n",
    "print(\"*** TABLA DE CORRIENTES ***\")\n",
    "print(\"***************************\")\n",
    "nVars = 0\n",
    "nStreams = 1\n",
    "for s in stream_table:\n",
    "    print(\"\\nCorriente %d\\n\"%nStreams)\n",
    "    nStreams += 1\n",
    "    for v in s:\n",
    "        nVars += 1\n",
    "        print(\"\\tVariable: {:5s}\".format(v.name))\n",
    "print(\"\\n%d Variables en %d corrientes\\n\" % (nVars, len(stream_table)))\n",
    "\n",
    "print(\"***************************\")\n",
    "print(\"*** TABLA DE REACCIONES ***\")\n",
    "print(\"***************************\")\n",
    "\n",
    "print(\"\\n%d Avances de Reacción\\n\" % len(extents))\n",
    "for v in extents:\n",
    "    print(\"\\tAvance: \", v.name)\n",
    "    \n",
    "print(\"******************************\")\n",
    "print(\"*** TABLA DE BIFURCACIONES ***\")\n",
    "print(\"******************************\")\n",
    "\n",
    "print(\"\\n%d Bifurcaciones\\n\" % len(split))\n",
    "for v in split:\n",
    "    print(\"\\tAvance: \", v.name)\n",
    "\n",
    "\n",
    "print(\"\\n*****************************\")\n",
    "print(\"*** Nº TOTAL DE VARIABLES ***\")\n",
    "print(\"*****************************\")\n",
    "print(\"\\n%d Variables = %d Variables de Corriente + %d Avances de Reacción + %d Bifurcaciones\\n\" \\\n",
    "    % (len(variables),nVars,len(extents),len(split)))\n"
   ]
  },
  {
   "cell_type": "code",
   "execution_count": 107,
   "metadata": {
    "slideshow": {
     "slide_type": "subslide"
    }
   },
   "outputs": [
    {
     "name": "stdout",
     "output_type": "stream",
     "text": [
      "*************************\n",
      "** Balances de Materia **\n",
      "*************************\n",
      "\n",
      " Modulo 1\n",
      "\n",
      "Eq(-nD1 + nD2 - nD7, 0)\n",
      "Eq(-nH1 + nH2 - nH7, 0)\n",
      "Eq(-nI1 + nI2 - nI7, 0)\n",
      "\n",
      " Modulo 2\n",
      "\n",
      "Eq(X - nD2 + nD3, 0)\n",
      "Eq(3*X - nH2 + nH3, 0)\n",
      "Eq(-nI2 + nI3, 0)\n",
      "Eq(-X + nM3, 0)\n",
      "Eq(-X + nA3, 0)\n",
      "\n",
      " Modulo 3\n",
      "\n",
      "Eq(-nM3 + nM4, 0)\n",
      "Eq(-nA3 + nA4, 0)\n",
      "Eq(-nD3 + nD5, 0)\n",
      "Eq(-nH3 + nH5, 0)\n",
      "Eq(-nI3 + nI5, 0)\n",
      "\n",
      " Modulo 4\n",
      "\n",
      "Eq(alpha*nD5 - nD6, 0)\n",
      "Eq(alpha*nH5 - nH6, 0)\n",
      "Eq(alpha*nI5 - nI6, 0)\n",
      "Eq(nD5*(1 - alpha) - nD7, 0)\n",
      "Eq(nH5*(1 - alpha) - nH7, 0)\n",
      "Eq(nI5*(1 - alpha) - nI7, 0)\n",
      "\n",
      " 19 Ecuaciones en 4 Módulos\n",
      "\n",
      "**********************\n",
      "** Especificaciones **\n",
      "**********************\n",
      "\n",
      "\n",
      "5 Especificaciones\n",
      "\n",
      "Eq(nI1/(nD1 + nH1 + nI1) - 0.004, 0)\n",
      "Eq(nD2, 28.0)\n",
      "Eq(nH2, 70.0)\n",
      "Eq(nI2, 2.0)\n",
      "Eq(-0.6 + (nH2 - nH3)/nH2, 0)\n",
      "\n",
      "24 Ecuaciones = 19 Balances de Materia + 5 Especificaciones\n"
     ]
    }
   ],
   "source": [
    "print(\"*************************\")\n",
    "print(\"** Balances de Materia **\")\n",
    "print(\"*************************\")\n",
    "nEquations=0\n",
    "nModules=0\n",
    "equations=[]\n",
    "for eq in eqns_table:\n",
    "    nModules+=1\n",
    "    print(\"\\n Modulo %d\\n\"%nModules)\n",
    "    for e in eq:\n",
    "        nEquations+=1\n",
    "        print(e)\n",
    "        equations.append(e)\n",
    "print(\"\\n %d Ecuaciones en %d Módulos\\n\"%(nEquations,nModules))        \n",
    "\n",
    "print(\"**********************\")\n",
    "print(\"** Especificaciones **\")\n",
    "print(\"**********************\")\n",
    "print(\"\\n\\n%d Especificaciones\\n\" % len(specifications))\n",
    "for spec in specifications:\n",
    "    print(spec)\n",
    "    equations.append(spec)\n",
    "\n",
    "print(\"\\n%d Ecuaciones = %d Balances de Materia + %d Especificaciones\" \\\n",
    "    % (len(equations),nEquations,len(specifications)))"
   ]
  },
  {
   "cell_type": "markdown",
   "metadata": {
    "slideshow": {
     "slide_type": "subslide"
    }
   },
   "source": [
    "### Solución"
   ]
  },
  {
   "cell_type": "code",
   "execution_count": 111,
   "metadata": {
    "slideshow": {
     "slide_type": "fragment"
    }
   },
   "outputs": [
    {
     "name": "stdout",
     "output_type": "stream",
     "text": [
      "Variable X   :  14.0000000000000\n",
      "Variable alpha:  0.122807017543860\n",
      "Variable nA3 :  14.0000000000000\n",
      "Variable nA4 :  14.0000000000000\n",
      "Variable nD1 :  15.7192982456140\n",
      "Variable nD2 :  28.0000000000000\n",
      "Variable nD3 :  14.0000000000000\n",
      "Variable nD5 :  14.0000000000000\n",
      "Variable nD6 :  1.71929824561404\n",
      "Variable nD7 :  12.2807017543860\n",
      "Variable nH1 :  45.4385964912281\n",
      "Variable nH2 :  70.0000000000000\n",
      "Variable nH3 :  28.0000000000000\n",
      "Variable nH5 :  28.0000000000000\n",
      "Variable nH6 :  3.43859649122807\n",
      "Variable nH7 :  24.5614035087719\n",
      "Variable nI1 :  0.245614035087719\n",
      "Variable nI2 :  2.00000000000000\n",
      "Variable nI3 :  2.00000000000000\n",
      "Variable nI5 :  2.00000000000000\n",
      "Variable nI6 :  0.245614035087719\n",
      "Variable nI7 :  1.75438596491228\n",
      "Variable nM3 :  14.0000000000000\n",
      "Variable nM4 :  14.0000000000000\n"
     ]
    }
   ],
   "source": [
    "soln = sym.solve(equations + specifications)[0]\n",
    "\n",
    "for k in soln.keys():\n",
    "    print(\"Variable {0:4s}:  {1:8s}\".format(str(k),str(soln[k])))"
   ]
  },
  {
   "cell_type": "markdown",
   "metadata": {
    "slideshow": {
     "slide_type": "subslide"
    }
   },
   "source": [
    "### Reescalado de la solución\n"
   ]
  },
  {
   "cell_type": "code",
   "execution_count": 138,
   "metadata": {
    "slideshow": {
     "slide_type": "fragment"
    }
   },
   "outputs": [
    {
     "name": "stdout",
     "output_type": "stream",
     "text": [
      "* Alimentación Fresca\n",
      "Caudal molar 679.82\n",
      "Composición:    25.60 % CO2 -    74.00 % H2 -     0.40 % I\n",
      "* Alimentación del Reactor\n",
      "Caudal molar 1107.14\n",
      "Composición:    28.00 % CO2 -    70.00 % H2 -     2.00 % I\n",
      "* Corriente de Recirculación\n",
      "Caudal molar 427.32\n",
      "Composición:    31.82 % CO2 -    63.64 % H2 -     4.55 % I\n",
      "* Corriente de Purga\n",
      "Caudal molar 59.82\n",
      "Composición:    31.82 % CO2 -    63.64 % H2 -     4.55 % I\n"
     ]
    }
   ],
   "source": [
    "factor=155/soln[nM4]\n",
    "\n",
    "print(\"* Alimentación Fresca\")\n",
    "n1=soln[nD1]+soln[nH1]+soln[nI1]\n",
    "print(\"Caudal molar %.2f\"%(factor*n1))\n",
    "print(\"Composición: %8.2f %% CO2 - %8.2f %% H2 - %8.2f %% I\"%(soln[nD1]/n1*100,soln[nH1]/n1*100,soln[nI1]/n1*100))\n",
    "\n",
    "print(\"* Alimentación del Reactor\")\n",
    "n2=soln[nD2]+soln[nH2]+soln[nI2]\n",
    "print(\"Caudal molar %.2f\"%(factor*n2))\n",
    "print(\"Composición: %8.2f %% CO2 - %8.2f %% H2 - %8.2f %% I\"%(soln[nD2]/n2*100,soln[nH2]/n2*100,soln[nI2]/n2*100))\n",
    "\n",
    "print(\"* Corriente de Recirculación\")\n",
    "n7=soln[nD7]+soln[nH7]+soln[nI7]\n",
    "print(\"Caudal molar %.2f\"%(factor*n7))\n",
    "print(\"Composición: %8.2f %% CO2 - %8.2f %% H2 - %8.2f %% I\"%(soln[nD7]/n7*100,soln[nH7]/n7*100,soln[nI7]/n7*100))\n",
    "\n",
    "print(\"* Corriente de Purga\")\n",
    "n6=soln[nD6]+soln[nH6]+soln[nI6]\n",
    "print(\"Caudal molar %.2f\"%(factor*n6))\n",
    "print(\"Composición: %8.2f %% CO2 - %8.2f %% H2 - %8.2f %% I\"%(soln[nD6]/n6*100,soln[nH6]/n6*100,soln[nI6]/n6*100))"
   ]
  },
  {
   "cell_type": "markdown",
   "metadata": {},
   "source": [
    "## Bibliografía - Otros recursos\n",
    "\n",
    "- R.M. Felder, *Elementary Principles of Chemical Processes*, 3rd Edition, John Wiley & Sons, 2004.\n",
    "- J. Kantor, *[Introduction to Chemical Engineering Analysis](https://github.com/jckantor/CBE20255)*, curso CBE 20255, Universidad de Notre Dame, Indiana, EE.UU.\n",
    "- N. de Nevers, *Physical And Chemical Equilibrium For Chemical Engineers*, John Wiley & Sons, 2002. [Repositorio de códigos](https://github.com/FOSSEE/Python-Textbook-Companions/tree/master/Physical_And_Chemical_Equilibrium_For_Chemical_Engineers_by_N._de_Nevers)"
   ]
  },
  {
   "cell_type": "code",
   "execution_count": null,
   "metadata": {},
   "outputs": [],
   "source": []
  }
 ],
 "metadata": {
  "kernelspec": {
   "display_name": "Python 3",
   "language": "python",
   "name": "python3"
  },
  "language_info": {
   "codemirror_mode": {
    "name": "ipython",
    "version": 3
   },
   "file_extension": ".py",
   "mimetype": "text/x-python",
   "name": "python",
   "nbconvert_exporter": "python",
   "pygments_lexer": "ipython3",
   "version": "3.7.2"
  },
  "toc-autonumbering": true
 },
 "nbformat": 4,
 "nbformat_minor": 2
}
