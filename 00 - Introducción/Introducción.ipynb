{
 "cells": [
  {
   "cell_type": "markdown",
   "metadata": {
    "slideshow": {
     "slide_type": "slide"
    },
    "toc-hr-collapsed": false
   },
   "source": [
    "<figure>\n",
    "    <a href=\"http://www.upm.es\">\n",
    "    <img style=\"float: right;\" src=\"img/UPMLogo.png\" width=\"100\">\n",
    "    </a>\n",
    "</figure>\n",
    "\n",
    "# Uso de software libre en Ingeniería Química\n",
    "\n",
    "#### © **[Jorge Ramírez](http://blogs.upm.es/compsoftmatter/)**, **[Universidad Politécnica de Madrid](http://www.upm.es)**, 2019\n",
    "\n",
    "<img style=\"float: center;\" src=\"img/Simulacion.png\" width=\"400\">\n"
   ]
  },
  {
   "cell_type": "markdown",
   "metadata": {
    "slideshow": {
     "slide_type": "slide"
    },
    "toc-hr-collapsed": false
   },
   "source": [
    "## Métodos numéricos en Ingeniería (CAD/CAE/CAM)"
   ]
  },
  {
   "cell_type": "markdown",
   "metadata": {
    "slideshow": {
     "slide_type": "notes"
    }
   },
   "source": [
    "En las disciplinas de Ingeniería es muy común tener que realizar cálculos complejos que no son posibles de completar de forma manual, excepto para casos demasiado simples para ser de utilidad en el mundo real. Por ello, es necesario recurrir a cálculos numéricos que ayuden al ingeniero a buscar soluciones a problemas o para optimizar el diseño de equipos, instalaciones y estructuras. \n",
    "\n",
    "Algunos ejemplos de aplicaciones en las que el cálculo numérico es imprescindible se muestran en la siguiente lista (junto con las disciplinas de ingeniería en las que resultan relevantes):"
   ]
  },
  {
   "cell_type": "markdown",
   "metadata": {
    "slideshow": {
     "slide_type": "fragment"
    },
    "toc-hr-collapsed": false
   },
   "source": [
    "<figure>\n",
    "    <img style=\"float: right;\" src=\"img/calculodeestructuras.png\" width=\"250\">\n",
    "</figure>\n",
    "\n",
    "- Cálculo de estructuras\n",
    "    - Ingeniería Civil\n",
    "    - Arquitectura\n",
    "    - Ingeniería Mecánica, etc..."
   ]
  },
  {
   "cell_type": "markdown",
   "metadata": {
    "slideshow": {
     "slide_type": "fragment"
    },
    "toc-hr-collapsed": false
   },
   "source": [
    "<figure>\n",
    "    <img style=\"float: right;\" src=\"img/venturi.jpg\" width=\"250\">\n",
    "</figure>\n",
    "\n",
    "- Mecánica de Fluidos/aerodinámica\n",
    "   - Ingeniería Aeronáutica\n",
    "   - Ingeniería Química\n",
    "   - Ingeniería Mecánica"
   ]
  },
  {
   "cell_type": "markdown",
   "metadata": {
    "slideshow": {
     "slide_type": "fragment"
    },
    "toc-hr-collapsed": false
   },
   "source": [
    "<figure>\n",
    "    <img style=\"float: right;\" src=\"img/circuit.png\" width=\"250\">\n",
    "</figure>\n",
    "\n",
    "- Circuitos electrónicos\n",
    "   - Ingeniería Eléctrica\n",
    "   - Ingeniería Electrónica\n",
    "   - Ingeniería de Telecomunicaciones"
   ]
  },
  {
   "cell_type": "markdown",
   "metadata": {
    "slideshow": {
     "slide_type": "notes"
    }
   },
   "source": [
    "Cualquier paquete de software que sirva de apoyo para hacer cálculos en ingeniería, debe poseer las características siguientes:"
   ]
  },
  {
   "cell_type": "markdown",
   "metadata": {
    "slideshow": {
     "slide_type": "slide"
    }
   },
   "source": [
    "<figure>\n",
    "    <img style=\"float: right;\" src=\"img/albebra.jpg\" width=\"250\">\n",
    "</figure>\n",
    "\n",
    "<figure>\n",
    "    <img style=\"float: right;\" src=\"img/chemistry.png\" width=\"150\">\n",
    "</figure>\n",
    "\n",
    "## Herramientas\n",
    "\n",
    "- Álgebra lineal\n",
    "- Representación gráfica\n",
    "- Solución a decenas/cientos/miles de ecuaciones (diferenciales) acopladas\n",
    "- Simulación\n",
    "- Propiedades físicas y químicas"
   ]
  },
  {
   "cell_type": "markdown",
   "metadata": {
    "slideshow": {
     "slide_type": "notes"
    }
   },
   "source": [
    "Algunos ejemplos de paquetes comerciales de software de amplio uso en ingeniería (junto con su precio estimado) son:"
   ]
  },
  {
   "cell_type": "markdown",
   "metadata": {
    "slideshow": {
     "slide_type": "slide"
    }
   },
   "source": [
    "## Software Comercial\n",
    "\n",
    "<figure>\n",
    "    <a href=\"https://www.comsol.com/\">\n",
    "    <img style=\"float: right;\" src=\"img/comsol.jpg\" width=\"100\">\n",
    "    </a>\n",
    "</figure>\n",
    "<figure>\n",
    "    <a href=\"https://www.aspentech.com/en/products/engineering/aspen-plus\">\n",
    "    <img style=\"float: right;\" src=\"img/aspen.png\" width=\"100\">\n",
    "    </a>\n",
    "</figure>\n",
    "<figure>\n",
    "    <a href=\"https://es.mathworks.com/\">\n",
    "    <img style=\"float: right;\" src=\"img/Matlab_Logo.png\" width=\"80\">\n",
    "    </a>\n",
    "</figure>\n",
    "\n",
    "- **[Aspen Plus](https://www.aspentech.com/en/products/engineering/aspen-plus)** (`$`20k-50k cada año, Ingeniería Química) \n",
    "- **[Comsol](https://www.comsol.com/)** (`$`5k, Elementos finitos, física)\n",
    "- **[Matlab](https://es.mathworks.com/)** (`$`3k, Matemáticas)\n",
    "\n",
    "<figure>\n",
    "    <a href=\"https://www.3dsbiovia.com/products/collaborative-science/biovia-materials-studio/\">\n",
    "    <img style=\"float: right;\" src=\"img/materialsstudio.png\" width=\"100\">\n",
    "    </a>\n",
    "</figure>\n",
    "<figure>\n",
    "    <a href=\"https://www.ansys.com/\">\n",
    "    <img style=\"float: right;\" src=\"img/ansys.png\" width=\"100\">\n",
    "    </a>\n",
    "</figure>\n",
    "\n",
    "- **[Ansys/Fluent](https://www.ansys.com/)** (`$`30k, Estructuras, Fluidos)\n",
    "- **[Materials Studio](https://www.3dsbiovia.com/products/collaborative-science/biovia-materials-studio/)** (`$` Varios k, Simulación Molecular)"
   ]
  },
  {
   "cell_type": "markdown",
   "metadata": {
    "slideshow": {
     "slide_type": "notes"
    }
   },
   "source": [
    "Para muchos de los paquetes de software comerciales es posible encontrar una alternativa de software libre, con funcionalidad parecida (a veces hasta superior):"
   ]
  },
  {
   "cell_type": "markdown",
   "metadata": {
    "slideshow": {
     "slide_type": "slide"
    }
   },
   "source": [
    "## Software libre\n",
    "\n",
    "<figure>\n",
    "    <a href=\"https://www.gnu.org/software/octave/\">\n",
    "    <img style=\"float: right;\" src=\"img/octave.svg\" width=\"100\">\n",
    "    </a>\n",
    "</figure>\n",
    "<figure>\n",
    "    <a href=\"https://www.freecadweb.org/\">\n",
    "    <img style=\"float: right;\" src=\"img/freecad.png\" width=\"100\">\n",
    "    </a>\n",
    "</figure>\n",
    "<figure>\n",
    "    <a href=\"https://www.cocosimulator.org/\">\n",
    "    <img style=\"float: right;\" src=\"img/coco.jpg\" width=\"100\">\n",
    "    </a>\n",
    "</figure>\n",
    "<figure>\n",
    "    <a href=\"http://dwsim.inforside.com.br/\">\n",
    "    <img style=\"float: right;\" src=\"img/DWSIM.png\" width=\"100\">\n",
    "    </a>\n",
    "</figure>\n",
    "\n",
    "\n",
    "- **[DWSIM](http://dwsim.inforside.com.br/)** (`$` 0, Ingeniería Química)\n",
    "- **[COCO](https://www.cocosimulator.org/)** (`$` 0, Ingeniería Química)\n",
    "- **[FreeCAD](https://www.freecadweb.org/)** (`$` 0, Elementos Finitos)\n",
    "- **[Octave](https://www.gnu.org/software/octave/)** (`$` 0, Matemáticas)\n",
    "\n",
    "<figure>\n",
    "    <a href=\"https://lammps.sandia.gov/\">\n",
    "    <img style=\"float: right;\" src=\"img/lammps.gif\" width=\"200\">\n",
    "    </a>\n",
    "</figure>\n",
    "<figure>\n",
    "    <a href=\"https://www.openfoam.com/\">\n",
    "    <img style=\"float: right;\" src=\"img/openfoam.png\" width=\"200\">\n",
    "    </a>\n",
    "</figure>\n",
    "\n",
    "- **[OpenFoam](https://www.openfoam.com/)** (`$` 0, Mecánica de Fluidos)\n",
    "- **[LAMMPS](https://lammps.sandia.gov/)** (`$` 0, Simulación Molecular)\n",
    "- **[Gromacs](http://www.gromacs.org/)** (`$` 0, Simulación Molecular)\n",
    "- **[Python](http://www.python.org)** (`$` 0, Lenguaje de Programación) \n",
    "\n",
    "<figure>\n",
    "    <a href=\"http://www.python.org\">\n",
    "    <img style=\"float: right;\" src=\"img/python-logo.png\" width=\"200\">\n",
    "    </a>\n",
    "</figure>\n",
    "<figure>\n",
    "    <a href=\"http://www.gromacs.org/\">\n",
    "    <img style=\"float: right;\" src=\"img/gromacs.jpg\" width=\"100\">\n",
    "    </a>\n",
    "</figure>\n"
   ]
  },
  {
   "cell_type": "markdown",
   "metadata": {
    "slideshow": {
     "slide_type": "slide"
    }
   },
   "source": [
    "<figure>\n",
    "    <a href=\"https://www.fsf.org/\">\n",
    "    <img style=\"float: right;\" src=\"img/FSF.png\" width=\"100\">\n",
    "    </a>\n",
    "</figure>\n",
    "\n",
    "## ¿Qué es el software libre?\n",
    "\n",
    "<figure>\n",
    "    <img style=\"float: right;\" src=\"img/linux.png\" width=\"100\">\n",
    "</figure>\n",
    "<figure>\n",
    "    <img style=\"float: right;\" src=\"img/wordpress.png\" width=\"100\">\n",
    "</figure>\n",
    "<figure>\n",
    "    <img style=\"float: right;\" src=\"img/vlc.jpg\" width=\"100\">\n",
    "</figure>\n",
    "\n",
    "Es un término parecido al software abierto (*open source*). Se trata de un producto de software que **permite** libremente:\n",
    "   - el **uso** para cualquier objetivo,\n",
    "   - **estudiar** y **modificar** el **código fuente**,\n",
    "   - **redistribuir** copias a cualquier persona (tanto las del software original como el modificado).\n",
    "\n",
    "No es lo mismo que **Freeware** (software que es distribuido de forma gratuita). \n",
    "\n",
    "<figure>\n",
    "    <img style=\"float: right;\" src=\"img/skype.png\" width=\"100\">\n",
    "</figure>\n",
    "<figure>\n",
    "    <img style=\"float: right;\" src=\"img/acrobatreader.png\" width=\"100\">\n",
    "</figure>\n"
   ]
  },
  {
   "cell_type": "markdown",
   "metadata": {
    "slideshow": {
     "slide_type": "slide"
    }
   },
   "source": [
    "<figure>\n",
    "    <img style=\"float: right;\" src=\"img/myths.jpg\" width=\"300\">\n",
    "</figure>\n",
    "\n",
    "## Mitos del software libre"
   ]
  },
  {
   "cell_type": "markdown",
   "metadata": {
    "slideshow": {
     "slide_type": "fragment"
    }
   },
   "source": [
    "- No ofrece soporte\n",
    "    - **FALSO**: Muchas empresas lo ofrecen. Existen multitud de foros abiertos donde los usuarios discuten aplicaciones y se ayudan mutuamente."
   ]
  },
  {
   "cell_type": "markdown",
   "metadata": {
    "slideshow": {
     "slide_type": "fragment"
    }
   },
   "source": [
    "- No será gratuito en el futuro\n",
    "    - **FALSO**: Pertenece a la comunidad"
   ]
  },
  {
   "cell_type": "markdown",
   "metadata": {
    "slideshow": {
     "slide_type": "fragment"
    }
   },
   "source": [
    "- Tiene fallos\n",
    "    - ¡Por supuesto! El software comercial también."
   ]
  },
  {
   "cell_type": "markdown",
   "metadata": {
    "slideshow": {
     "slide_type": "slide"
    }
   },
   "source": [
    "<figure>\n",
    "    <img style=\"float: right;\" src=\"img/failure.jpg\" width=\"300\">\n",
    "</figure>\n",
    "\n",
    "## Fallos de software famosos\n",
    "\n",
    "El software comercial o *propietario* también contiene fallos. En la siguiente lista, destacamos algunos de los más famosos."
   ]
  },
  {
   "cell_type": "markdown",
   "metadata": {
    "slideshow": {
     "slide_type": "subslide"
    }
   },
   "source": [
    "<figure>\n",
    "    <img style=\"float: right;\" src=\"img/patriot.jpg\" width=\"200\">\n",
    "</figure>\n",
    "\n",
    "- **1991**: El misil de Dhahran\n",
    "\n",
    "En febrero de 1991, durante la primera Guerra del Golfo, un misil iraquí impactó en la base estadounidense de Dhahran, en Arabia Saudita, matando a 28 soldados norteamericanos."
   ]
  },
  {
   "cell_type": "markdown",
   "metadata": {
    "slideshow": {
     "slide_type": "notes"
    }
   },
   "source": [
    "Tras una investigación, se descubrió que el sistema antimisiles de la base (los famosos sistemas *Patriot*, cuyo cometido es detectar e interceptar misiles enemigos en pleno vuelo) falló debido a un fallo del hardware/software. El reloj interno del sistema se retrasaba varios milisegundos durante cada hora que estaba encendido. Cuando ocurrió el impacto, el *Patriot* había estado funcionando durante 100 h seguidas, acumulando un total de 0.33 s. \n",
    "\n",
    "Para una persona, un tercio de segundo es una cantidad muy pequeña. Sin embargo, para un sistema como el *Patriot*, intentando detectar un misil *Scud* (los utilizados por Saddam Hussein), que alcanza una velocidad de 1.5 km/s, este retraso significa un error de 500m, por lo que, cuando el *Patriot* detectó el misil, era demasiado tarde para reaccionar y el *Scud* impactó en la base de EE.UU."
   ]
  },
  {
   "cell_type": "markdown",
   "metadata": {
    "slideshow": {
     "slide_type": "subslide"
    }
   },
   "source": [
    "<figure>\n",
    "    <img style=\"float: right;\" src=\"img/mars.jpg\" width=\"200\">\n",
    "</figure>\n",
    "\n",
    "- **1998**: ¿Metros o pies? La nave de estudio de clima en Marte\n",
    "\n",
    "La nave *Mars Climate Orbiter* fue lanzada en 1998 con el objetivo de estudiar el clima del planeta Marte, pero nunca consiguió completar su misión."
   ]
  },
  {
   "cell_type": "markdown",
   "metadata": {
    "slideshow": {
     "slide_type": "notes"
    }
   },
   "source": [
    "Después de viajar por el espacio durante varios meses, la sonda *Mars Climate Orbiter* se destruyó debido a un error de navegación. Los equipos que controlaban la sonda desde la Tierra utilizaron parámetros en el **sistema imperial** de unidades, mientras que los cálculos del software de la sonda fueron programados utilizando el **sistema métrico**. Los errores de cálculo produjeron un desvío en la trayectoria de la nave de unos 100 km y, finalmente, la sonda se destruyó debido a la fricción con la atmósfera de Marte."
   ]
  },
  {
   "cell_type": "markdown",
   "metadata": {
    "slideshow": {
     "slide_type": "subslide"
    }
   },
   "source": [
    "<figure>\n",
    "    <img style=\"float: right;\" src=\"img/arianne.jpg\" width=\"200\">\n",
    "</figure>\n",
    "\n",
    "- **1996**: Demasiados dígitos para la nave Arianne 5\n",
    "\n",
    "El 4 de junio de 1996, tan solo 30 segundos después de su lanzamiento, el cohete Ariane 5 (de la Agencia Espacial Europea) se desintegró lentamente hasta su explosión final."
   ]
  },
  {
   "cell_type": "markdown",
   "metadata": {
    "slideshow": {
     "slide_type": "notes"
    }
   },
   "source": [
    "La investigación posterior descubrió que el software de la nave transformó una variable real de 64-bit en una variable de 16-bit sin decimales. \n",
    "\n",
    "Una variable de 16 bits puede tener un valor entre -32768 y +32767, mientras que una de 64 bits puede tener un valor desde -9223372036854775808 hasta + 9223372036854775807. Debido al diferente tamaño de las variables, se desencadenó una serie de errores en el software del sistema que afectaron a todos los ordenadores a bordo, paralizando por completo a la nave y provocando que iniciara su rutina de auto-destrucción."
   ]
  },
  {
   "cell_type": "markdown",
   "metadata": {
    "slideshow": {
     "slide_type": "subslide"
    }
   },
   "source": [
    "<figure>\n",
    "    <img style=\"float: right;\" src=\"img/luggage.jpg\" width=\"200\">\n",
    "</figure>\n",
    "\n",
    "- **2008**: Inauguración de la Terminal 5 del Aeropuerto de Heathrow (Londres)\n",
    "\n",
    "Durante los primeros 10 días de funcionamiento de la terminal, unas 42000 maletas fueron extraviadas y más de 500 vuelos fueron cancelados."
   ]
  },
  {
   "cell_type": "markdown",
   "metadata": {
    "slideshow": {
     "slide_type": "notes"
    }
   },
   "source": [
    "El nuevo sistema de servicio de equipajes, diseñado para gestionar enormes cantiades de equipaje que se facturan cada día, se probó de forma intensiva en los días previos a la inauguración por parte de los ingenieros, utilizando hasta 12000 maletas en las pruebas. El sistema parecía funcionar sin errores en todos los tests. \n",
    "\n",
    "Sin embargo, el día de la inauguración, los fallos comenzaron a ocurrir en cadena. Los programadores no habían considerado un caso real en el que alguien quita una maleta de la cinta transportadora para sacar un objeto y luego la vuelve a colocar. El sistema completo se colapsó y se tuvo que parar."
   ]
  },
  {
   "cell_type": "markdown",
   "metadata": {
    "slideshow": {
     "slide_type": "slide"
    }
   },
   "source": [
    "<img style=\"float: right;\" src=\"img/montypython.jpg\" width=\"250\">\n",
    "<figure>\n",
    "    <a href=\"http://www.python.org\">\n",
    "    <img style=\"float: right;\" src=\"img/python-logo.png\" width=\"200\">\n",
    "    </a>\n",
    "</figure>\n",
    "\n",
    "## ¿Qué es Python?\n",
    "- El nombre proviene del grupo de comediantes **Monty Python**\n",
    "- **[Python](https://www.python.org/)** es un lenguaje de programación de **alto nivel** y **orientado a objeto** muy útil para el desarrollo rápido de aplicaciones online y científicas.   \n",
    "- Es un lenguaje **moderno** y **elegante**, con énfasis en que el código sea legible.\n",
    "- El lenguaje básico es **interpretado** (no compilado)."
   ]
  },
  {
   "cell_type": "markdown",
   "metadata": {
    "slideshow": {
     "slide_type": "fragment"
    }
   },
   "source": [
    "- Los **tipos** de variable son **dinámicos**.\n",
    "- Se **recoge la basura** automáticamente."
   ]
  },
  {
   "cell_type": "markdown",
   "metadata": {
    "slideshow": {
     "slide_type": "fragment"
    }
   },
   "source": [
    "- Funciona en **todos los sistemas operativos**.\n",
    "- Es **gratuito**.\n",
    "- Python se refiere tanto al lenguaje como a la **inmensa colección de librerías** (130k en 2018 y creciendo) de cálculo numérico, tratamiento de datos, gráficos, comunicaciones, etc."
   ]
  },
  {
   "cell_type": "markdown",
   "metadata": {
    "slideshow": {
     "slide_type": "fragment"
    }
   },
   "source": [
    "- **Muy utilizado** a nivel mundial en ciencia e ingeniería cuando la **productividad** es más importante que el rendimiento computacional."
   ]
  },
  {
   "cell_type": "markdown",
   "metadata": {
    "slideshow": {
     "slide_type": "slide"
    }
   },
   "source": [
    "## Compañías que utilizan Python\n",
    "\n",
    "<img style=\"float: right;\" src=\"img/companies.png\" width=\"800\">\n"
   ]
  },
  {
   "cell_type": "markdown",
   "metadata": {
    "slideshow": {
     "slide_type": "slide"
    }
   },
   "source": [
    "## Perspectivas de Python\n",
    "\n",
    "Las **[perspectivas](https://stackoverflow.blog/2017/09/06/incredible-growth-python/)** de python son muy prometedoras:\n",
    "\n",
    "<img style=\"float: right;\" src=\"img/projections-Python.png\" width=\"600\">"
   ]
  },
  {
   "cell_type": "markdown",
   "metadata": {
    "slideshow": {
     "slide_type": "slide"
    }
   },
   "source": [
    "<img style=\"float: right;\" src=\"img/nature.png\" width=\"400\">\n",
    "\n",
    "## En la comunidad científica...\n",
    "\n",
    "Revistas como **[Nature](https://www.nature.com/)** le han dedicado varios artículos a destacar que **python** ofrece una oportunidad excelente para compartir métodos, resultados y nuevos descubrimientos científicos.\n"
   ]
  },
  {
   "cell_type": "markdown",
   "metadata": {
    "slideshow": {
     "slide_type": "slide"
    }
   },
   "source": [
    "## Índice de este seminario\n",
    "\n",
    "En este seminario, vamos a ver, brevemente:\n",
    "\n",
    "1. Introducción a **Python** y **Jupyter Labs**\n",
    "2. Uso de Python para resolver **Balances de materia**\n",
    "3. **Teoría de colisiones** y **Cinética química**\n",
    "4. **Reactores químicos**: Diagramas de **Levenspiel**\n",
    "5. Resolución de una **Destilación Fraccionada**\n"
   ]
  }
 ],
 "metadata": {
  "kernelspec": {
   "display_name": "Python 3",
   "language": "python",
   "name": "python3"
  },
  "language_info": {
   "codemirror_mode": {
    "name": "ipython",
    "version": 3
   },
   "file_extension": ".py",
   "mimetype": "text/x-python",
   "name": "python",
   "nbconvert_exporter": "python",
   "pygments_lexer": "ipython3",
   "version": "3.7.2"
  },
  "toc-autonumbering": true,
  "toc-showcode": false,
  "toc-showmarkdowntxt": false,
  "toc-showtags": false
 },
 "nbformat": 4,
 "nbformat_minor": 2
}
