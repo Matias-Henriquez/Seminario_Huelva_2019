{
 "cells": [
  {
   "cell_type": "markdown",
   "metadata": {
    "slideshow": {
     "slide_type": "slide"
    }
   },
   "source": [
    "<figure>\n",
    "    <a href=\"http://www.upm.es\">\n",
    "    <img style=\"float: right;\" src=\"img/UPMLogo.png\" width=\"100\">\n",
    "    </a>\n",
    "</figure>\n",
    "\n",
    "# Asociación de Reactores y Gráficas de Levenspiel\n",
    "\n",
    "#### © **[Jorge Ramírez](http://blogs.upm.es/compsoftmatter/)**, **[Universidad Politécnica de Madrid](http://www.upm.es)**, 2019\n",
    "\n",
    "<img style=\"float: right;\" src=\"img/pfr.svg\" width=\"300\">\n",
    "<img style=\"float: right;\" src=\"img/cstr.png\" width=\"150\">\n"
   ]
  },
  {
   "cell_type": "markdown",
   "metadata": {
    "slideshow": {
     "slide_type": "slide"
    }
   },
   "source": [
    "## Ecuaciones de diseño de un reactor de flujo ideal e isotermo\n",
    "\n",
    "Se tiene un reactor en el que se lleva a cabo la reacción $A \\to B$. Partiendo de la ecuación general de balance de materia:\n",
    "\n",
    "<img style=\"float: right;\" src=\"img/balanceflujo.png\" width=\"300\">\n",
    "\n",
    "$$ F_{A,in} - F_{A,out} - r_A V = \\frac{dn_A}{dt} $$\n",
    "\n",
    "donde:\n",
    "\n",
    "- $V$ es un cierto volumen de control, \n",
    "- $F_{A,in}$ y $F_{A,out}$ son los caudales molares del reactivo $A$ a la entrada y salida del volumen $V$, respectivamente, \n",
    "- $r_A$ es la velocidad de reacción de $A$ y \n",
    "- $dn_A/dt$ es la variación en el nº de moles de $A$ dentro del volumen de control por unidad de tiempo. Al estar en el régimen estacionario, esta derivada vale 0."
   ]
  },
  {
   "cell_type": "markdown",
   "metadata": {
    "slideshow": {
     "slide_type": "slide"
    }
   },
   "source": [
    "<img style=\"float: right;\" src=\"img/cstr_scheme.png\" width=\"250\">\n",
    "\n",
    "## Reactor de tanque agitado (CSTR)\n",
    "\n",
    "La ecuación de diseño queda:\n",
    "\n",
    "$$ V =  \\frac{F_{A,0}X_A}{r_A}$$\n",
    "\n",
    "Se corresponde con el área de un rectángulo cuya base es $X_A$ y la altura es $\\frac{F_{A,0}}{r_A}$."
   ]
  },
  {
   "cell_type": "markdown",
   "metadata": {
    "slideshow": {
     "slide_type": "slide"
    }
   },
   "source": [
    "<img style=\"float: right;\" src=\"img/pfr_scheme.png\" width=\"350\">\n",
    "\n",
    "## Reactor tubular (PFR)\n",
    "\n",
    "La ecuación de diseño queda:\n",
    "\n",
    "$$ V = F_{A,0} \\int_0^{X_A} \\frac{dX_A}{r_A} $$\n",
    "\n",
    "Se corresponde con el área debajo de la curva dada por $\\frac{F_{A,0}}{r_A}$ entre las conversiones 0 y $X_A$."
   ]
  },
  {
   "cell_type": "markdown",
   "metadata": {
    "slideshow": {
     "slide_type": "slide"
    }
   },
   "source": [
    "<img style=\"float: right;\" src=\"img/levenspiel.gif\" width=\"350\">\n",
    "\n",
    "## Asociación de reactores en serie - Gráficas de Levenspiel\n",
    "\n",
    "Los resultados anteriores nos pueden ayudar a diseñar una secuencia óptima de reactores CSTR y PFR en serie tal que el volumen total sea mínimo. Para ello, representamos la gráfica de Levenspiel:\n",
    "\n",
    "- En el eje $y$ se representa la función $F_{A,0}/r_A$, donde $F_{A,0}$ es el caudal que entra en el primero de los reactores en serie y $r_A$ es la cinética de la reacción. \n",
    "- En el eje $x$ se representa la conversión del reactivo $A$, $X_A$.\n",
    "- Dependiendo del tipo de reactor, determinamos su volumen:\n",
    "   - **CSTR**: Área del rectángulo cuya base es la diferencia de conversiones entre la entrada y la salida del reactor y la altura es la función $F_{A,0}/r_A$ medida en la conversión de salida del reactor.\n",
    "   - **PFR**: Área debajo de la curva $F_{A,0}/r_A$ entre las conversiones de la entrada y la salida del reactor."
   ]
  },
  {
   "cell_type": "markdown",
   "metadata": {
    "slideshow": {
     "slide_type": "slide"
    }
   },
   "source": [
    "## Gráficas de Levenspiel para 2 reactores en series (en Python)\n",
    "\n",
    "Podemos explorar las gráficas de Levenspiel en Python. Primero, cargamos todas las librerías necesarias:"
   ]
  },
  {
   "cell_type": "code",
   "execution_count": 1,
   "metadata": {
    "slideshow": {
     "slide_type": "fragment"
    }
   },
   "outputs": [],
   "source": [
    "import numpy as np\n",
    "%matplotlib inline\n",
    "import matplotlib.pyplot as plt\n",
    "from matplotlib.patches import Rectangle, Polygon\n",
    "import scipy.integrate as integrate\n",
    "from ipywidgets import interact, interactive, fixed, interact_manual, widget, widgets, Layout, HBox, VBox\n",
    "import levenspiel"
   ]
  },
  {
   "cell_type": "markdown",
   "metadata": {
    "slideshow": {
     "slide_type": "subslide"
    }
   },
   "source": [
    "En este ejemplo, exploramos las siguientes leyes de velocidad:\n",
    "\n",
    "- Orden 1: $r_A = k c_A = k c_{A,0} (1-X_A)$\n",
    "- Orden 2: $r_A = k c_A^2 = k c_{A,0}^2 (1-X_A)^2$\n",
    "- Cinética de Langmuir-Hinshelwood: $r_A=\\frac{k c_{A,0} \\left(1-X_A\\right)}{\\left(1+k_A c_{A,0} \\left(1-X_A\\right)\\right)^2}$\n",
    "\n",
    "Almacenamos las funciones $F_{A,0}/r_A$ correspondientes en un diccionario y exploramos el volumen total del reactor e forma interactiva (la función que calcular las gráficas se encuentra detallada en el módulo `levenspiel.py`)."
   ]
  },
  {
   "cell_type": "code",
   "execution_count": 2,
   "metadata": {
    "slideshow": {
     "slide_type": "fragment"
    }
   },
   "outputs": [
    {
     "data": {
      "application/vnd.jupyter.widget-view+json": {
       "model_id": "774314184a0c45cd9fbdafb600cbd145",
       "version_major": 2,
       "version_minor": 0
      },
      "text/plain": [
       "VBox(children=(HBox(children=(Dropdown(description='kinetics', index=2, options=('1er Orden', '2º Orden', 'Lan…"
      ]
     },
     "metadata": {},
     "output_type": "display_data"
    }
   ],
   "source": [
    "widget=interactive(levenspiel.plot,kinetics=levenspiel.Kinetics.keys(),\n",
    "          k=widgets.FloatSlider(value=0.5,min=0.1,max=5.0,step=0.1),\n",
    "          X1=widgets.FloatSlider(value=0.3,min=0.01,max=0.5,step=0.01),\n",
    "          X2=widgets.FloatSlider(value=0.75,min=0.5,max=0.99,step=0.01),\n",
    "          Reactor1=['CSTR','PFR'],\n",
    "          Reactor2=['CSTR','PFR'])\n",
    "controls = HBox(widget.children[:-1], layout = Layout(flex_flow='row wrap'))\n",
    "output = widget.children[-1]\n",
    "display(VBox([controls, output]))"
   ]
  },
  {
   "cell_type": "code",
   "execution_count": null,
   "metadata": {
    "slideshow": {
     "slide_type": "skip"
    }
   },
   "outputs": [],
   "source": []
  }
 ],
 "metadata": {
  "kernelspec": {
   "display_name": "Python 3",
   "language": "python",
   "name": "python3"
  },
  "language_info": {
   "codemirror_mode": {
    "name": "ipython",
    "version": 3
   },
   "file_extension": ".py",
   "mimetype": "text/x-python",
   "name": "python",
   "nbconvert_exporter": "python",
   "pygments_lexer": "ipython3",
   "version": "3.7.2"
  }
 },
 "nbformat": 4,
 "nbformat_minor": 2
}
